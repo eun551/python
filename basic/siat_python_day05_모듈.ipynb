{
  "nbformat": 4,
  "nbformat_minor": 0,
  "metadata": {
    "colab": {
      "provenance": [],
      "authorship_tag": "ABX9TyPD1W0W9W8hB8SZWnjc2DNX",
      "include_colab_link": true
    },
    "kernelspec": {
      "name": "python3",
      "display_name": "Python 3"
    },
    "language_info": {
      "name": "python"
    }
  },
  "cells": [
    {
      "cell_type": "markdown",
      "metadata": {
        "id": "view-in-github",
        "colab_type": "text"
      },
      "source": [
        "<a href=\"https://colab.research.google.com/github/eun551/python/blob/main/basic/siat_python_day05_%EB%AA%A8%EB%93%88.ipynb\" target=\"_parent\"><img src=\"https://colab.research.google.com/assets/colab-badge.svg\" alt=\"Open In Colab\"/></a>"
      ]
    },
    {
      "cell_type": "code",
      "execution_count": null,
      "metadata": {
        "id": "snAny9UqAmMh"
      },
      "outputs": [],
      "source": [
        "# 날짜타입\n",
        "# 함수는 라이브러리 에 들어있다.\n",
        "# 서브 파트 라이브러리 (외부)\n",
        "# conda install 구문 (아나콘다)\n",
        "# pip (numpy)  install 구문 (import)\n",
        "# 인스톨 과정을 통해서 library  설치 할 수 있다.\n",
        "# 형식) import 모듈이름\n",
        "# 모듈은 하나의 파일. 패키지로 엮어줘야 한다.\n",
        "# 함수 < 모듈 < 패키지\n",
        "# 형식) from 패키지명 import 모듈\n",
        "# 형식) from 모듈이름 import 함수 또는 클래스\n",
        "# 자바는 import 정형화 되어 있다.\n",
        "# 파이썬은 애매하다.\n",
        "\n",
        "#가져 오는 형식을 이해하자.\n"
      ]
    },
    {
      "cell_type": "code",
      "source": [
        "# 형식) import 모듈이름\n",
        "# 형식) from 패키지명 import 모듈\n",
        "# 형식) from 모듈이름 import 함수 또는 클래스"
      ],
      "metadata": {
        "id": "4JIf5W29jnIL"
      },
      "execution_count": null,
      "outputs": []
    },
    {
      "cell_type": "code",
      "source": [
        "today()"
      ],
      "metadata": {
        "colab": {
          "base_uri": "https://localhost:8080/",
          "height": 147
        },
        "id": "kiKdd36oFktN",
        "outputId": "523c34ef-74f1-4157-f0e8-97ce0f5b2ea4"
      },
      "execution_count": null,
      "outputs": [
        {
          "output_type": "error",
          "ename": "NameError",
          "evalue": "name 'today' is not defined",
          "traceback": [
            "\u001b[0;31m---------------------------------------------------------------------------\u001b[0m",
            "\u001b[0;31mNameError\u001b[0m                                 Traceback (most recent call last)",
            "\u001b[0;32m<ipython-input-1-4c38dcca567e>\u001b[0m in \u001b[0;36m<cell line: 0>\u001b[0;34m()\u001b[0m\n\u001b[0;32m----> 1\u001b[0;31m \u001b[0mtoday\u001b[0m\u001b[0;34m(\u001b[0m\u001b[0;34m)\u001b[0m\u001b[0;34m\u001b[0m\u001b[0;34m\u001b[0m\u001b[0m\n\u001b[0m",
            "\u001b[0;31mNameError\u001b[0m: name 'today' is not defined"
          ]
        }
      ]
    },
    {
      "cell_type": "code",
      "source": [
        "from datetime import date, datetime\n",
        "# 앞의 datetime이 패키지일 수 있고, 모듈일 수도 있다."
      ],
      "metadata": {
        "id": "FX8XN3fuFk15"
      },
      "execution_count": null,
      "outputs": []
    },
    {
      "cell_type": "code",
      "source": [
        "# 패키지. 모듈\n",
        "nowDay = date.today()\n",
        "print(nowDay)\n",
        "print(\"type - \" , type(nowDay))\n",
        "\n",
        "# from datetime import date, datetime\n",
        "# datetime 모듈. date 클래스. datetime 클래스."
      ],
      "metadata": {
        "colab": {
          "base_uri": "https://localhost:8080/"
        },
        "id": "M9cr7CIxFk6y",
        "outputId": "3b6867a5-92d9-43ab-f7c0-f8e583d9eb05"
      },
      "execution_count": null,
      "outputs": [
        {
          "output_type": "stream",
          "name": "stdout",
          "text": [
            "2025-01-23\n",
            "type -  <class 'datetime.date'>\n"
          ]
        }
      ]
    },
    {
      "cell_type": "code",
      "source": [
        "nowDay = today()\n",
        "print(nowDay)\n",
        "print(\"type - \" , type(nowDay))"
      ],
      "metadata": {
        "colab": {
          "base_uri": "https://localhost:8080/",
          "height": 183
        },
        "id": "4d5SrEGuEdup",
        "outputId": "bfbd19af-a8e0-4338-ba81-25d866e403c1"
      },
      "execution_count": null,
      "outputs": [
        {
          "output_type": "error",
          "ename": "NameError",
          "evalue": "name 'today' is not defined",
          "traceback": [
            "\u001b[0;31m---------------------------------------------------------------------------\u001b[0m",
            "\u001b[0;31mNameError\u001b[0m                                 Traceback (most recent call last)",
            "\u001b[0;32m<ipython-input-11-3c5f83f8b65d>\u001b[0m in \u001b[0;36m<cell line: 0>\u001b[0;34m()\u001b[0m\n\u001b[0;32m----> 1\u001b[0;31m \u001b[0mnowDay\u001b[0m \u001b[0;34m=\u001b[0m \u001b[0mtoday\u001b[0m\u001b[0;34m(\u001b[0m\u001b[0;34m)\u001b[0m\u001b[0;34m\u001b[0m\u001b[0;34m\u001b[0m\u001b[0m\n\u001b[0m\u001b[1;32m      2\u001b[0m \u001b[0mprint\u001b[0m\u001b[0;34m(\u001b[0m\u001b[0mnowDay\u001b[0m\u001b[0;34m)\u001b[0m\u001b[0;34m\u001b[0m\u001b[0;34m\u001b[0m\u001b[0m\n\u001b[1;32m      3\u001b[0m \u001b[0mprint\u001b[0m\u001b[0;34m(\u001b[0m\u001b[0;34m\"type - \"\u001b[0m \u001b[0;34m,\u001b[0m \u001b[0mtype\u001b[0m\u001b[0;34m(\u001b[0m\u001b[0mnowDay\u001b[0m\u001b[0;34m)\u001b[0m\u001b[0;34m)\u001b[0m\u001b[0;34m\u001b[0m\u001b[0;34m\u001b[0m\u001b[0m\n",
            "\u001b[0;31mNameError\u001b[0m: name 'today' is not defined"
          ]
        }
      ]
    },
    {
      "cell_type": "code",
      "source": [
        "# 클래스는 변수와 함수 or 메서드를 가지고 있다. 함수(독립적인 실행이 가능)와 메서드(독립적인 실행이 불가능).\n",
        "nowDay = today()  # 독립적인 실행이 안되므로 메서드.\n",
        "print(nowDay)"
      ],
      "metadata": {
        "colab": {
          "base_uri": "https://localhost:8080/",
          "height": 202
        },
        "id": "yDbi0J8lFk_C",
        "outputId": "548f4f39-a0aa-4ca6-e0cf-223e6e8ae888"
      },
      "execution_count": null,
      "outputs": [
        {
          "output_type": "error",
          "ename": "NameError",
          "evalue": "name 'today' is not defined",
          "traceback": [
            "\u001b[0;31m---------------------------------------------------------------------------\u001b[0m",
            "\u001b[0;31mNameError\u001b[0m                                 Traceback (most recent call last)",
            "\u001b[0;32m<ipython-input-9-975b2203463a>\u001b[0m in \u001b[0;36m<cell line: 0>\u001b[0;34m()\u001b[0m\n\u001b[1;32m      1\u001b[0m \u001b[0;31m# 클래스는 변수와 함수를 가지고 있다. 함수(독립적인 실행이 가능)가 아니라 메서드(독립적인 실행이 불가능).\u001b[0m\u001b[0;34m\u001b[0m\u001b[0;34m\u001b[0m\u001b[0m\n\u001b[0;32m----> 2\u001b[0;31m \u001b[0mnowDay\u001b[0m \u001b[0;34m=\u001b[0m \u001b[0mtoday\u001b[0m\u001b[0;34m(\u001b[0m\u001b[0;34m)\u001b[0m\u001b[0;34m\u001b[0m\u001b[0;34m\u001b[0m\u001b[0m\n\u001b[0m\u001b[1;32m      3\u001b[0m \u001b[0mprint\u001b[0m\u001b[0;34m(\u001b[0m\u001b[0mnowDay\u001b[0m\u001b[0;34m)\u001b[0m\u001b[0;34m\u001b[0m\u001b[0;34m\u001b[0m\u001b[0m\n",
            "\u001b[0;31mNameError\u001b[0m: name 'today' is not defined"
          ]
        }
      ]
    },
    {
      "cell_type": "code",
      "source": [
        "print(\"년 - \", nowDay.year) #nowDay.year는 변수. ()괄호가 없으니 변수.\n",
        "print(\"월 - \", nowDay.month)\n",
        "print(\"일 - \", nowDay.day)"
      ],
      "metadata": {
        "colab": {
          "base_uri": "https://localhost:8080/"
        },
        "id": "BQTAUEooFlCp",
        "outputId": "ff0cb462-d2dd-4f21-ddb6-2a4123653013"
      },
      "execution_count": null,
      "outputs": [
        {
          "output_type": "stream",
          "name": "stdout",
          "text": [
            "년 -  2025\n",
            "월 -  1\n",
            "일 -  23\n"
          ]
        }
      ]
    },
    {
      "cell_type": "code",
      "source": [
        "nowDateTime = datetime.today()\n",
        "print(nowDateTime)\n",
        "print(\"시 - \", nowDateTime.hour) #9시가 0시로 나오네.\n",
        "print(\"분 - \", nowDateTime.minute)\n",
        "print(\"초 - \", nowDateTime.second)"
      ],
      "metadata": {
        "colab": {
          "base_uri": "https://localhost:8080/"
        },
        "id": "1S_4hTgUJ9zs",
        "outputId": "c0995ce1-3f2d-45ae-d670-f5259d6c32c2"
      },
      "execution_count": null,
      "outputs": [
        {
          "output_type": "stream",
          "name": "stdout",
          "text": [
            "2025-01-23 07:38:35.581630\n",
            "시 -  7\n",
            "분 -  38\n",
            "초 -  35\n"
          ]
        }
      ]
    },
    {
      "cell_type": "code",
      "source": [
        "# 날짜타입에 대한 연산이 가능할까?\n",
        "print(nowDay + 1)\n"
      ],
      "metadata": {
        "colab": {
          "base_uri": "https://localhost:8080/",
          "height": 165
        },
        "id": "EaSHW3gDJ93P",
        "outputId": "56756619-a3cf-4907-fd86-91e6fa6245ca"
      },
      "execution_count": null,
      "outputs": [
        {
          "output_type": "error",
          "ename": "TypeError",
          "evalue": "unsupported operand type(s) for +: 'datetime.date' and 'int'",
          "traceback": [
            "\u001b[0;31m---------------------------------------------------------------------------\u001b[0m",
            "\u001b[0;31mTypeError\u001b[0m                                 Traceback (most recent call last)",
            "\u001b[0;32m<ipython-input-14-b94a87ad6c0a>\u001b[0m in \u001b[0;36m<cell line: 0>\u001b[0;34m()\u001b[0m\n\u001b[1;32m      1\u001b[0m \u001b[0;31m# 날짜타입에 대한 연산이 가능할까?\u001b[0m\u001b[0;34m\u001b[0m\u001b[0;34m\u001b[0m\u001b[0m\n\u001b[0;32m----> 2\u001b[0;31m \u001b[0mprint\u001b[0m\u001b[0;34m(\u001b[0m\u001b[0mnowDay\u001b[0m \u001b[0;34m+\u001b[0m \u001b[0;36m1\u001b[0m\u001b[0;34m)\u001b[0m\u001b[0;34m\u001b[0m\u001b[0;34m\u001b[0m\u001b[0m\n\u001b[0m",
            "\u001b[0;31mTypeError\u001b[0m: unsupported operand type(s) for +: 'datetime.date' and 'int'"
          ]
        }
      ]
    },
    {
      "cell_type": "code",
      "source": [
        "from datetime import date, datetime, timedelta\n",
        "# timedelta 날짜 연산을 도와준다.함수처럼 사용가능.\n",
        "\n",
        "days = timedelta(days =- 1)\n",
        "print( nowDay + days )"
      ],
      "metadata": {
        "colab": {
          "base_uri": "https://localhost:8080/"
        },
        "id": "ZwUCex44J96_",
        "outputId": "80289daf-cc67-456e-aae6-ad268a126b6c"
      },
      "execution_count": null,
      "outputs": [
        {
          "output_type": "stream",
          "name": "stdout",
          "text": [
            "2025-01-19\n"
          ]
        }
      ]
    },
    {
      "cell_type": "code",
      "source": [
        "# months = timedelta(months =- 2)\n",
        "# print( nowDay + months)\n",
        "# TypeError: 'months' is an invalid keyword argument for __new__()\n",
        "\n",
        "# timedelta 는 날짜 day만 가능하다.\n",
        "\n",
        "from dateutil.relativedelta import relativedelta\n",
        "#     패키지.모듈                  함수\n",
        "# relativedelta 년이나 월 연산을 도와준다.\n",
        "months = relativedelta(months =+ 2)\n",
        "print('month - ' , nowDay + months)"
      ],
      "metadata": {
        "colab": {
          "base_uri": "https://localhost:8080/"
        },
        "id": "4mKBwTvnJ9-k",
        "outputId": "48a25608-153b-46ea-8194-3ce97205df0d"
      },
      "execution_count": null,
      "outputs": [
        {
          "output_type": "stream",
          "name": "stdout",
          "text": [
            "month -  2025-03-20\n"
          ]
        }
      ]
    },
    {
      "cell_type": "code",
      "source": [
        "from dateutil.parser import parse\n",
        "# 패키지.패키지  모듈\n",
        "# 패키지.모듈  함수 : parse는 함수명이므로, 이것이다."
      ],
      "metadata": {
        "id": "VUdK83EZJ-B-"
      },
      "execution_count": null,
      "outputs": []
    },
    {
      "cell_type": "code",
      "source": [
        "str = '2025-01-20'\n",
        "print('type - ', type(str))\n",
        "# 문자열은 몇일 후, 몇달 전 연산이 안된다.\n",
        "# 날짜 타입으로 만들어야 한다.\n",
        "# parse() : 문자열을 날짜타입으로 변환해주는 함수\n",
        "today = parse(str)\n",
        "print('type - ', type(today))"
      ],
      "metadata": {
        "colab": {
          "base_uri": "https://localhost:8080/"
        },
        "id": "-ldjmH6xShUP",
        "outputId": "0e5208da-9c87-4b75-ddf4-7449d839ea79"
      },
      "execution_count": null,
      "outputs": [
        {
          "output_type": "stream",
          "name": "stdout",
          "text": [
            "type -  <class 'str'>\n",
            "type -  <class 'datetime.datetime'>\n"
          ]
        }
      ]
    },
    {
      "cell_type": "code",
      "source": [
        "# 관계연산자 종류\n",
        "# > , >= , <= , < , == , !=\n",
        "\n",
        "x = 15\n",
        "y = 10\n",
        "\n",
        "print( x == y )\n",
        "print( x != y )\n",
        "print( x > y )\n",
        "print( x >= y )\n",
        "print( x <= y )\n",
        "print( x < y )"
      ],
      "metadata": {
        "colab": {
          "base_uri": "https://localhost:8080/"
        },
        "id": "CD0MUySMFlGB",
        "outputId": "690ad86d-e101-45ee-f94e-20ebd5154726"
      },
      "execution_count": null,
      "outputs": [
        {
          "output_type": "stream",
          "name": "stdout",
          "text": [
            "False\n",
            "True\n",
            "True\n",
            "True\n",
            "False\n",
            "False\n"
          ]
        }
      ]
    },
    {
      "cell_type": "code",
      "source": [
        "# 우선 순위 : 산술 > 관계 > 비교\n",
        "# 소괄호를 통해서 우선 순위를 만들어주자.\n",
        "\n",
        "print( 3 + 12 > 7 + 3)\n",
        "print( (3 + 12) > (7 + 3) )"
      ],
      "metadata": {
        "colab": {
          "base_uri": "https://localhost:8080/"
        },
        "id": "DtJ2BfxdUDKN",
        "outputId": "e5de2ee1-67b4-4aec-a137-78afd3e42325"
      },
      "execution_count": null,
      "outputs": [
        {
          "output_type": "stream",
          "name": "stdout",
          "text": [
            "True\n",
            "True\n"
          ]
        }
      ]
    },
    {
      "cell_type": "code",
      "source": [
        "score = 90\n",
        "grade = \"A\"\n",
        "\n",
        "#복수의 조건이 모두 참일 경우 실행하게 조건을 만들고 싶다면?\n",
        "if score >= 90 and grade == \"A\" :\n",
        "#      관계    비교   관계\n",
        "#       T      비교      T\n",
        "  print(\"Pass\")\n",
        "else :\n",
        "  print(\"Fail\")"
      ],
      "metadata": {
        "colab": {
          "base_uri": "https://localhost:8080/"
        },
        "id": "hJtA9IeKUDN_",
        "outputId": "f105ca2c-0ba8-4aee-d848-05478f5ca285"
      },
      "execution_count": null,
      "outputs": [
        {
          "output_type": "stream",
          "name": "stdout",
          "text": [
            "Pass\n"
          ]
        }
      ]
    },
    {
      "cell_type": "code",
      "source": [
        "admin = 'admin'\n",
        "grade = ['platinum','gold']\n",
        "\n",
        "# 어드민의 권한이 두가지가 있다.\n",
        "# 플래티넘이면 최상위 관리자\n",
        "# 그렇지 않으면 일반관리자로 구분하고 싶다면?\n"
      ],
      "metadata": {
        "id": "cie-z-YMUDRW"
      },
      "execution_count": null,
      "outputs": []
    },
    {
      "cell_type": "code",
      "source": [
        "for data in grade :\n",
        "  print(data)"
      ],
      "metadata": {
        "colab": {
          "base_uri": "https://localhost:8080/"
        },
        "id": "sPHCO7nyUDUu",
        "outputId": "5caede2b-9856-46c4-9244-ecfd4d14959c"
      },
      "execution_count": null,
      "outputs": [
        {
          "output_type": "stream",
          "name": "stdout",
          "text": [
            "platinum\n",
            "gold\n"
          ]
        }
      ]
    },
    {
      "cell_type": "code",
      "source": [
        "for data in grade :\n",
        "  if admin == 'admin' and data == 'platinum' :\n",
        "    print(\"최상위 관리자\")\n",
        "  else :\n",
        "    print(\"일반관리자\")"
      ],
      "metadata": {
        "colab": {
          "base_uri": "https://localhost:8080/"
        },
        "id": "jdE7y2iTUDX_",
        "outputId": "f9ec5995-b078-4d71-86f2-2f78bf384c5d"
      },
      "execution_count": null,
      "outputs": [
        {
          "output_type": "stream",
          "name": "stdout",
          "text": [
            "최상위 관리자\n",
            "일반관리자\n"
          ]
        }
      ]
    },
    {
      "cell_type": "markdown",
      "source": [
        "반복구문 (코팅의 핵심)\n",
        "\n",
        "루프문\n",
        "\n",
        "**for ~ in 열거형변수** (순서가 있는 변수타입 , list, tuple, 문자) :\n",
        "\n",
        "\n",
        "\n",
        "\n"
      ],
      "metadata": {
        "id": "f5zilAVdMkdx"
      }
    },
    {
      "cell_type": "code",
      "source": [
        "# 반복구문 (코팅의 핵심)\n",
        "# 루프문\n",
        "# for ~ in 열거형변수 (순서가 있는 변수타입 , list, tuple, 문자) :\n",
        "\n",
        "print('case01 - ')\n",
        "for idx in range(0,10) :\n",
        "  # print('반복문')\n",
        "  print('index {} - 반복문'.format(idx))\n"
      ],
      "metadata": {
        "colab": {
          "base_uri": "https://localhost:8080/"
        },
        "id": "-hMwsfFNFlJR",
        "outputId": "330a91b7-155d-402c-868d-da095de27b4f"
      },
      "execution_count": null,
      "outputs": [
        {
          "output_type": "stream",
          "name": "stdout",
          "text": [
            "case01 - \n",
            "index 0 - 반복문\n",
            "index 1 - 반복문\n",
            "index 2 - 반복문\n",
            "index 3 - 반복문\n",
            "index 4 - 반복문\n",
            "index 5 - 반복문\n",
            "index 6 - 반복문\n",
            "index 7 - 반복문\n",
            "index 8 - 반복문\n",
            "index 9 - 반복문\n"
          ]
        }
      ]
    },
    {
      "cell_type": "code",
      "source": [],
      "metadata": {
        "id": "OLOnpwiPMiJ2"
      },
      "execution_count": null,
      "outputs": []
    },
    {
      "cell_type": "code",
      "source": [
        "# Quiz\n",
        "# input 함수를 이용해서 10명의 성적을 입력받고\n",
        "# 입력된 10명의 성적을 출력하고 싶다면?\n",
        "\n",
        "# a = input(\"성적을 입력하시오. \")\n",
        "# print('성적 - ', a)\n",
        "\n",
        "score = []\n",
        "\n",
        "for x in range(0,3) :\n",
        "  x = input(\"성적을 입력하시오. \")\n",
        "  # print('성적 - ', x)\n",
        "  score.append(x)\n",
        "print('score - ',score)\n"
      ],
      "metadata": {
        "colab": {
          "base_uri": "https://localhost:8080/"
        },
        "id": "3PzdrQ6Sd8Iw",
        "outputId": "15129caa-58e1-412a-8804-d06a08e7803f"
      },
      "execution_count": null,
      "outputs": [
        {
          "output_type": "stream",
          "name": "stdout",
          "text": [
            "성적을 입력하시오. 50\n",
            "성적을 입력하시오. 60\n",
            "성적을 입력하시오. 80\n",
            "score -  ['50', '60', '80']\n"
          ]
        }
      ]
    },
    {
      "cell_type": "code",
      "source": [
        "scores = []\n",
        "\n",
        "for x in range(0,5) :\n",
        "  scores.append(int(input(\"성적 입력\")))\n",
        "print()\n",
        "for score in scores :\n",
        "  print(score,end=\"\\t\")\n"
      ],
      "metadata": {
        "colab": {
          "base_uri": "https://localhost:8080/"
        },
        "id": "XcjqIf6Ed8N2",
        "outputId": "96d5b0cb-bbca-44f5-bfc0-562b0f680a88"
      },
      "execution_count": null,
      "outputs": [
        {
          "output_type": "stream",
          "name": "stdout",
          "text": [
            "성적 입력50\n",
            "성적 입력60\n",
            "성적 입력50\n",
            "성적 입력80\n",
            "성적 입력90\n",
            "\n",
            "50\t60\t50\t80\t90\t"
          ]
        }
      ]
    },
    {
      "cell_type": "code",
      "source": [
        "scores = []\n",
        "\n",
        "for idx in range(10) :\n",
        "  scores.insert(idx,int(input(\"성적 입력 \")))\n",
        "print()\n",
        "for idx in range( len(scores) ) :\n",
        "  print(scores[idx],end=\"\\t\")"
      ],
      "metadata": {
        "colab": {
          "base_uri": "https://localhost:8080/"
        },
        "id": "8jVQbsGjd8Ru",
        "outputId": "c935e209-59ac-4ea6-dd76-89b1a9958927"
      },
      "execution_count": null,
      "outputs": [
        {
          "output_type": "stream",
          "name": "stdout",
          "text": [
            "성적 입력 50\n",
            "성적 입력 60\n",
            "성적 입력 80\n",
            "성적 입력 50\n",
            "성적 입력 40\n",
            "성적 입력 100\n",
            "성적 입력 50\n",
            "성적 입력 60\n",
            "성적 입력 80\n",
            "성적 입력 10\n",
            "\n",
            "50\t60\t80\t50\t40\t100\t50\t60\t80\t10\t"
          ]
        }
      ]
    },
    {
      "cell_type": "code",
      "source": [
        "# Quiz\n",
        "# 입력받은 점수의 총합과 평균을 구하시오.\n",
        "\n",
        "print('scores - ', scores)\n",
        "\n",
        "scoresSum = 0\n",
        "for score in scores :\n",
        "  scoresSum += score\n",
        "print('scoresSum - ', scoresSum)\n",
        "\n",
        "# scoresAvg = 0\n",
        "# for score in scores :\n",
        "  # scoresAvg += score / len(scores)\n",
        "scoresAvg = scoresSum / len(scores)\n",
        "print('scoresAvg - ', scoresAvg)\n",
        "\n",
        "print('성적의 총합은 {}이고, 성적의 평균은 {}입니다.'.format(scoresSum,int(scoresAvg)))\n",
        "\n"
      ],
      "metadata": {
        "colab": {
          "base_uri": "https://localhost:8080/"
        },
        "id": "emlU2FVhd8V_",
        "outputId": "38853e4c-ae87-4080-b5f7-4ab118b7d3e2"
      },
      "execution_count": null,
      "outputs": [
        {
          "output_type": "stream",
          "name": "stdout",
          "text": [
            "scores -  [50, 60, 50, 80, 90]\n",
            "scoresSum -  330\n",
            "scoresAvg -  66.0\n",
            "성적의 총합은 330이고, 성적의 평균은 66입니다.\n"
          ]
        }
      ]
    },
    {
      "cell_type": "code",
      "source": [
        "# 반복구문 중 특정 조건에 만족했을 때\n",
        "# 반복구문을 빠져나와야 하는 상황이라면? - break\n",
        "# 특정 조건만 스킵하고 계속 루프 돌린다. - continue\n",
        "\n",
        "# Quiz\n",
        "# input 함수를 이용해서 강아지의 이름을 입력받다가\n",
        "# 강아지 이름이 '아토'가 입력되면 입력을 멈추고\n",
        "# 입력된 강아지 이름을 출력하시오.\n",
        "\n",
        "dogNames = []\n",
        "for idx in range(10) :\n",
        "  name = input(\"강아지 이름 입력 : \")\n",
        "  if name == '아토':\n",
        "    break\n",
        "  else :\n",
        "    dogNames.append(name)\n",
        "print(dogNames)"
      ],
      "metadata": {
        "colab": {
          "base_uri": "https://localhost:8080/"
        },
        "id": "rLZ0bjETjJ06",
        "outputId": "2e055b4d-3e95-4df8-9641-ab05c0cef0fe"
      },
      "execution_count": null,
      "outputs": [
        {
          "output_type": "stream",
          "name": "stdout",
          "text": [
            "강아지 이름 입력 : 복돌\n",
            "강아지 이름 입력 : 나나\n",
            "강아지 이름 입력 : 아토\n",
            "['복돌', '나나']\n"
          ]
        }
      ]
    },
    {
      "cell_type": "markdown",
      "source": [
        " 몇개 입력 받으란 말이 없네?\n",
        "\n",
        " 무한대로 입력 -> 컴퓨터가 문제가 생긴다.\n",
        "\n",
        "**while (조건식) :**\n",
        "\n",
        "조건의 변화(증감, 불리언 값의 변화 true false)"
      ],
      "metadata": {
        "id": "HSYOu54Mrt9G"
      }
    },
    {
      "cell_type": "code",
      "source": [
        "pets = []\n",
        "isFlag = True #변수는 루프 실행을 관리하는 제어 플래그 또는 센티넬 변수isFlag 역할을 합니다 .\n",
        "while isFlag :\n",
        "  name = input(\"강아지 이름 입력 : \")\n",
        "  if name == '아토':\n",
        "    isFlag = False\n",
        "    break\n",
        "  else :\n",
        "    pets.append(name)\n",
        "print(pets)"
      ],
      "metadata": {
        "colab": {
          "base_uri": "https://localhost:8080/"
        },
        "id": "QRcOcDmEjJ5Z",
        "outputId": "b7de01ff-0c87-4431-c164-b08a173f49e5"
      },
      "execution_count": null,
      "outputs": [
        {
          "output_type": "stream",
          "name": "stdout",
          "text": [
            "강아지 이름 입력 : 백상\n",
            "강아지 이름 입력 : 아토\n",
            "['백상']\n"
          ]
        }
      ]
    },
    {
      "cell_type": "code",
      "source": [
        "# 구구단의 3단만 출력하시오.\n",
        "# 시작을 알고 끝을 알면 for 구문\n",
        "for x in range(1,10) :\n",
        "  # if x % 2 != 0 :\n",
        "    print ('3 * {} = {}'.format(x,3*x))"
      ],
      "metadata": {
        "colab": {
          "base_uri": "https://localhost:8080/"
        },
        "id": "ldyTYBqmtjou",
        "outputId": "db8c2d9d-7b02-4e71-9f25-718e5210e382"
      },
      "execution_count": null,
      "outputs": [
        {
          "output_type": "stream",
          "name": "stdout",
          "text": [
            "3 * 1 = 3\n",
            "3 * 2 = 6\n",
            "3 * 3 = 9\n",
            "3 * 4 = 12\n",
            "3 * 5 = 15\n",
            "3 * 6 = 18\n",
            "3 * 7 = 21\n",
            "3 * 8 = 24\n",
            "3 * 9 = 27\n"
          ]
        }
      ]
    },
    {
      "cell_type": "code",
      "source": [
        "dan = 3\n",
        "for value in range(1,10) :\n",
        "  print ('{} * {} = {}'.format(dan,value,(dan*value)))\n"
      ],
      "metadata": {
        "colab": {
          "base_uri": "https://localhost:8080/"
        },
        "id": "7E-_I9_-tjte",
        "outputId": "a706e191-0f08-4f27-901c-ee532af07b13"
      },
      "execution_count": null,
      "outputs": [
        {
          "output_type": "stream",
          "name": "stdout",
          "text": [
            "3 * 1 = 3\n",
            "3 * 2 = 6\n",
            "3 * 3 = 9\n",
            "3 * 4 = 12\n",
            "3 * 5 = 15\n",
            "3 * 6 = 18\n",
            "3 * 7 = 21\n",
            "3 * 8 = 24\n",
            "3 * 9 = 27\n"
          ]
        }
      ]
    },
    {
      "cell_type": "code",
      "source": [
        "# 구구단의 3단에서 값이 홀수 인 것만 출력하세요.\n",
        "dan = 3\n",
        "for value in range(1,10) :\n",
        "  if (dan*value) %2 == 1 :\n",
        "    print ('{} * {} = {}'.format(dan,value,(dan*value)))\n",
        "\n"
      ],
      "metadata": {
        "colab": {
          "base_uri": "https://localhost:8080/"
        },
        "id": "OOttKrMqtjxe",
        "outputId": "bcc395ac-66f2-43d6-8957-a17e3532a50b"
      },
      "execution_count": null,
      "outputs": [
        {
          "output_type": "stream",
          "name": "stdout",
          "text": [
            "3 * 1 = 3\n",
            "3 * 3 = 9\n",
            "3 * 5 = 15\n",
            "3 * 7 = 21\n",
            "3 * 9 = 27\n"
          ]
        }
      ]
    },
    {
      "cell_type": "code",
      "source": [
        "# Quiz\n",
        "# 월드컵은 4년에 1번 개최된다.\n",
        "# 2002년 이후 월드컵이 개최된 년도를 출력하시오.\n",
        "\n",
        "for year in range (2002,2026,4):\n",
        "  print(year)"
      ],
      "metadata": {
        "colab": {
          "base_uri": "https://localhost:8080/"
        },
        "id": "wN_mz59ttj1W",
        "outputId": "55dea847-5f26-4170-add4-7052bcd44f27"
      },
      "execution_count": null,
      "outputs": [
        {
          "output_type": "stream",
          "name": "stdout",
          "text": [
            "2002\n",
            "2006\n",
            "2010\n",
            "2014\n",
            "2018\n",
            "2022\n"
          ]
        }
      ]
    },
    {
      "cell_type": "code",
      "source": [
        "# lterables 자료형 반복\n",
        "# 함수 : range(), reversed(), enumerate(), filter(), map(), zip()\n"
      ],
      "metadata": {
        "id": "VGDPw1Fltj45"
      },
      "execution_count": null,
      "outputs": []
    },
    {
      "cell_type": "code",
      "source": [
        "# quiz\n",
        "# 파일 이름이 저장된 리스트에서\n",
        "# 확장자를 제거하고 파일 이름만 출력하시오.\n",
        "# 리스트이기 때문에 반복구문 가능\n",
        "# 도트를 기준\n",
        "\n",
        "lst = ['hello.py','ex01.py','siat.hwp','intro.doc']\n",
        "\n",
        "for file in lst :\n",
        "  # print(file ,type(file))\n",
        "  print(file.split('.')[0]) #도트 기준으로 나누어진다.\n",
        "\n",
        "\n",
        "result = [file.split('.')[0]for file in lst]\n",
        "print(result)"
      ],
      "metadata": {
        "colab": {
          "base_uri": "https://localhost:8080/"
        },
        "id": "b63Y9BSRGrhI",
        "outputId": "34de7983-c0f9-48ec-fb09-a007c5657090"
      },
      "execution_count": null,
      "outputs": [
        {
          "output_type": "stream",
          "name": "stdout",
          "text": [
            "hello\n",
            "ex01\n",
            "siat\n",
            "intro\n",
            "['hello', 'ex01', 'siat', 'intro']\n"
          ]
        }
      ]
    },
    {
      "cell_type": "code",
      "source": [
        "# quiz\n",
        "# 파일 이름이 저장된 리스트에서\n",
        "# 첫 글자를 대문자로 변경해서 출력하시오.\n",
        "\n",
        "# lst[0][0]\n",
        "# upper 함수\n",
        "for name in lst :\n",
        " # print(name)\n",
        " print(name[0].upper() + name[1:])\n"
      ],
      "metadata": {
        "colab": {
          "base_uri": "https://localhost:8080/"
        },
        "id": "hs87j5sUGsHU",
        "outputId": "1ee55784-787b-4c1e-81da-3988951af4da"
      },
      "execution_count": null,
      "outputs": [
        {
          "output_type": "stream",
          "name": "stdout",
          "text": [
            "hello.py\n",
            "<built-in method upper of str object at 0xa4c0e8>\n",
            "Hello.py\n",
            "ex01.py\n",
            "<built-in method upper of str object at 0xa4c040>\n",
            "Ex01.py\n",
            "siat.hwp\n",
            "<built-in method upper of str object at 0xa4c350>\n",
            "Siat.hwp\n",
            "intro.doc\n",
            "<built-in method upper of str object at 0xa4c120>\n",
            "Intro.doc\n"
          ]
        }
      ]
    },
    {
      "cell_type": "code",
      "source": [
        "for name in lst :\n",
        "  print(name.capitalize())\n",
        "  # 전체 문자열의 앞 글자만 대문자로 바꾼다\n",
        "  # 똑같이 .title() 이 있다.\n",
        "  #-> 공백, 숫자, 특수문자를 기준으로 문자열을 구분하여 각 문자열의 첫 글자를 대문자로 바꾼다.\n",
        "\n"
      ],
      "metadata": {
        "colab": {
          "base_uri": "https://localhost:8080/"
        },
        "id": "_iLnJU0AGsLf",
        "outputId": "e137cb49-820c-464b-ce0e-59be8fe33cd4"
      },
      "execution_count": null,
      "outputs": [
        {
          "output_type": "stream",
          "name": "stdout",
          "text": [
            "Hello.py\n",
            "Ex01.py\n",
            "Siat.hwp\n",
            "Intro.doc\n"
          ]
        }
      ]
    },
    {
      "cell_type": "code",
      "source": [
        "word = 'beautiful'\n",
        "\n",
        "for w in word :\n",
        "\n",
        "  if w == 't' :\n",
        "    print(w, end='\\t')"
      ],
      "metadata": {
        "colab": {
          "base_uri": "https://localhost:8080/"
        },
        "id": "ahuFD1ciGsPw",
        "outputId": "b0e97714-482b-4aa0-a99a-035e0279b954"
      },
      "execution_count": null,
      "outputs": [
        {
          "output_type": "stream",
          "name": "stdout",
          "text": [
            "t\t"
          ]
        }
      ]
    },
    {
      "cell_type": "code",
      "source": [
        "word = 'beautiful'\n",
        "\n",
        "for w in word :\n",
        "\n",
        "  if w == 't' :\n",
        "    break\n",
        "  print(w, end='\\t')"
      ],
      "metadata": {
        "colab": {
          "base_uri": "https://localhost:8080/"
        },
        "id": "CgRW_y1dmu1H",
        "outputId": "31a2a6cb-4c22-42eb-e530-3e45d366c19f"
      },
      "execution_count": null,
      "outputs": [
        {
          "output_type": "stream",
          "name": "stdout",
          "text": [
            "b\te\ta\tu\t"
          ]
        }
      ]
    },
    {
      "cell_type": "code",
      "source": [
        "tmpDict = {\n",
        "    'name' : 'jslim',\n",
        "    'age' : 20,\n",
        "    'city' : 'seoul'\n",
        "}\n",
        "\n",
        "\n",
        "\n",
        "for key in tmpDict.keys() :\n",
        "  print(tmpDict[key])"
      ],
      "metadata": {
        "colab": {
          "base_uri": "https://localhost:8080/"
        },
        "id": "F8_GLLq4GsT_",
        "outputId": "a22af2d3-73da-4558-b7fb-b19b9def608f"
      },
      "execution_count": null,
      "outputs": [
        {
          "output_type": "stream",
          "name": "stdout",
          "text": [
            "jslim\n",
            "20\n",
            "seoul\n"
          ]
        }
      ]
    },
    {
      "cell_type": "code",
      "source": [
        "# quiz\n",
        "# 제공되는 문자열을 모두 대문자로 출력하시오.\n",
        "# isupper() , upper()\n",
        "# 반복구문 안에서 해결\n",
        "\n",
        "fruitName = 'PineApple'\n",
        "\n",
        "for name in fruitName :\n",
        "  # print(name)\n",
        "  #소문자만 대문자로\n",
        "  if name.isupper() :\n",
        "    print(name ,end='')\n",
        "  else :\n",
        "    print(name.upper() ,end='')"
      ],
      "metadata": {
        "colab": {
          "base_uri": "https://localhost:8080/"
        },
        "id": "fmCawrpXGsYv",
        "outputId": "1a3f99e8-cefc-4dcd-e631-807f25a37d5e"
      },
      "execution_count": null,
      "outputs": [
        {
          "output_type": "stream",
          "name": "stdout",
          "text": [
            "PINEAPPLE"
          ]
        }
      ]
    },
    {
      "source": [
        "print(\"Hello\", end='')\n",
        "print(\"World\")"
      ],
      "cell_type": "code",
      "metadata": {
        "colab": {
          "base_uri": "https://localhost:8080/"
        },
        "id": "FfUg0SqAn9_0",
        "outputId": "b0f618ad-dc7e-43e1-afee-993cb3db6810"
      },
      "execution_count": null,
      "outputs": [
        {
          "output_type": "stream",
          "name": "stdout",
          "text": [
            "HelloWorld\n"
          ]
        }
      ]
    },
    {
      "source": [
        "print(\"Name\", end='\\t')\n",
        "print(\"Age\")"
      ],
      "cell_type": "code",
      "metadata": {
        "colab": {
          "base_uri": "https://localhost:8080/"
        },
        "id": "R_lZJ3TDoA3a",
        "outputId": "5d23dea4-0de8-4e84-c5d1-5ae7c6a499cf"
      },
      "execution_count": null,
      "outputs": [
        {
          "output_type": "stream",
          "name": "stdout",
          "text": [
            "Name\tAge\n"
          ]
        }
      ]
    },
    {
      "cell_type": "markdown",
      "source": [
        "end='': 기본 줄바꿈 문자를 억제하여 이후 print()출력이 같은 줄에 계속되도록 합니다.\n",
        "\n",
        "end='\\t': 탭 문자를 끝에 인쇄하여 수평 공간을 만들고 종종 열의 텍스트 서식을 지정하는 데 사용됩니다."
      ],
      "metadata": {
        "id": "PUsEbwWXoKG9"
      }
    },
    {
      "cell_type": "code",
      "source": [
        "# for ~ in 변수 :\n",
        "# else :\n",
        "\n",
        "# else가 for 구문에 있다. 파이썬에만 쓰는 구문\n",
        "# 루프의 마지막까지 찾았지만 없는 경우 else 구문 수행\n",
        "# 주의) for 구문안에 break를 실행하지 않을 때만 수행. break를 하게 되면 else 구문도 빠져나가게 된다.\n"
      ],
      "metadata": {
        "id": "xEMwfjgLPkk0"
      },
      "execution_count": null,
      "outputs": []
    },
    {
      "cell_type": "code",
      "source": [
        "# 만약 45 값을 찾고 싶다면?\n",
        "numbers = [14, 3, 4, 7, 10, 24]\n",
        "\n",
        "for n in numbers :\n",
        "  if n == 45 :\n",
        "    print('Found')\n",
        "    break\n",
        "else :\n",
        "  print('Not Found')\n",
        "\n",
        "# else가 if 구문 안에 있으면 numbers 리스트 수 만큼 Not Found가 나온다."
      ],
      "metadata": {
        "colab": {
          "base_uri": "https://localhost:8080/"
        },
        "id": "NNIgMxuVPkpI",
        "outputId": "8f1f1e03-753a-4458-c597-7049b3378ea6"
      },
      "execution_count": null,
      "outputs": [
        {
          "output_type": "stream",
          "name": "stdout",
          "text": [
            "Not Found\n"
          ]
        }
      ]
    },
    {
      "cell_type": "code",
      "source": [
        "# 1~ 10 사이의 난수를 생성하고 숫자를 맞춰보자.\n",
        "# guess game\n",
        "# == , > , <\n",
        "from random import randint\n",
        "# 지정된 범위 내에서 난수 정수를 생성하는 데 사용됩니다.\n",
        "# 90프로 정도가 from 모듈 import 함수\n",
        "answer = randint(1,10)\n",
        "print('answer - ', answer)"
      ],
      "metadata": {
        "colab": {
          "base_uri": "https://localhost:8080/"
        },
        "id": "6SkyiwAOPktL",
        "outputId": "138a497d-69ea-4012-d48d-35ac44809d93"
      },
      "execution_count": null,
      "outputs": [
        {
          "output_type": "stream",
          "name": "stdout",
          "text": [
            "answer -  3\n"
          ]
        }
      ]
    },
    {
      "cell_type": "code",
      "source": [
        "# 1~ 100 사이의 난수를 생성하고 숫자를 맞춰보자.\n",
        "# 시도횟수는 10번으로 제한  -> input 함수\n",
        "# 출력형식) x번째 정답을 맞췄습니다.\n",
        "# 출력형식) x번째 정답을 맞추지 못했습니다.\n",
        "# 반복구문은 for, while\n",
        "\n",
        "from random import randint\n",
        "answer = randint(1,100)\n",
        "print('answer - ', answer)\n",
        "\n",
        "n = input('시도횟수는 {} 남았습니다.'.format(10-n))\n",
        "\n",
        "for x in range(1,11) :\n",
        "  if n == answer :\n",
        "    print('{}번째 정답을 맞췄습니다.'.format(x))\n",
        "else :\n",
        "    print('정답을 맞추지 못했습니다.')\n",
        "print(x)\n",
        "\n"
      ],
      "metadata": {
        "colab": {
          "base_uri": "https://localhost:8080/"
        },
        "id": "pwOVz9L9Pkw6",
        "outputId": "d055e3a6-bff9-4851-c916-a65156251384"
      },
      "execution_count": null,
      "outputs": [
        {
          "output_type": "stream",
          "name": "stdout",
          "text": [
            "answer -  90\n",
            "정답을 맞추지 못했습니다.\n",
            "10\n"
          ]
        }
      ]
    },
    {
      "cell_type": "code",
      "source": [
        "from random import randint\n",
        "answer = randint(1,100)\n",
        "print('answer - ', answer)\n",
        "\n",
        "for idx in range(10) :\n",
        "  guess = int(input('1~100 사이의 숫자를 입력 : '))\n",
        "  if guess == answer :\n",
        "    print('{}번째에 정답을 맞췄습니다. 정답은 {}'.format(idx+1,answer))\n",
        "    break\n",
        "  elif guess > answer :\n",
        "    print('Down')\n",
        "  else :\n",
        "    print('Up')\n",
        "else :\n",
        "  print('정답을 맞추지 못했습니다.')\n"
      ],
      "metadata": {
        "colab": {
          "base_uri": "https://localhost:8080/"
        },
        "id": "PLVBBiyuSnmC",
        "outputId": "4b29aefb-dde6-4337-cb3e-c3294796b428"
      },
      "execution_count": null,
      "outputs": [
        {
          "output_type": "stream",
          "name": "stdout",
          "text": [
            "answer -  56\n",
            "1~100 사이의 숫자를 입력 : 20\n",
            "Up\n",
            "1~100 사이의 숫자를 입력 : 60\n",
            "Down\n",
            "1~100 사이의 숫자를 입력 : 50\n",
            "Up\n",
            "1~100 사이의 숫자를 입력 : 55\n",
            "Up\n",
            "1~100 사이의 숫자를 입력 : 56\n",
            "5번째에 정답을 맞췄습니다. 정답은 56\n"
          ]
        }
      ]
    },
    {
      "source": [
        "from random import randint\n",
        "\n",
        "answer = randint(1, 100)\n",
        "print('answer - ', answer)\n",
        "\n",
        "idx = 0  # Initialize the counter\n",
        "while idx < 10:\n",
        "    guess = int(input('1~100 사이의 숫자를 입력 : '))\n",
        "    if guess == answer:\n",
        "        print('{}번째에 정답을 맞췄습니다. 정답은 {}'.format(idx + 1, answer))\n",
        "        break\n",
        "    elif guess > answer:\n",
        "        print('Down')\n",
        "    else:\n",
        "        print('Up')\n",
        "    idx += 1  # Increment the counter\n",
        "else:\n",
        "    print('정답을 맞추지 못했습니다.')"
      ],
      "cell_type": "code",
      "metadata": {
        "id": "X3LP3ezgpnKS"
      },
      "execution_count": null,
      "outputs": []
    },
    {
      "cell_type": "code",
      "source": [],
      "metadata": {
        "id": "yAPGHdrJSnsH"
      },
      "execution_count": null,
      "outputs": []
    },
    {
      "cell_type": "code",
      "source": [],
      "metadata": {
        "id": "q8hr7LhTSnyg"
      },
      "execution_count": null,
      "outputs": []
    },
    {
      "cell_type": "code",
      "source": [],
      "metadata": {
        "id": "wJx5klazGsfo"
      },
      "execution_count": null,
      "outputs": []
    },
    {
      "cell_type": "code",
      "source": [],
      "metadata": {
        "id": "Ugd3r1XNd8Zm"
      },
      "execution_count": null,
      "outputs": []
    }
  ]
}
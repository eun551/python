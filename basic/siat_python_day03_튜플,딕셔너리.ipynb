{
  "nbformat": 4,
  "nbformat_minor": 0,
  "metadata": {
    "colab": {
      "provenance": [],
      "authorship_tag": "ABX9TyMxemyaul+8LPh4llOj0yod",
      "include_colab_link": true
    },
    "kernelspec": {
      "name": "python3",
      "display_name": "Python 3"
    },
    "language_info": {
      "name": "python"
    }
  },
  "cells": [
    {
      "cell_type": "markdown",
      "metadata": {
        "id": "view-in-github",
        "colab_type": "text"
      },
      "source": [
        "<a href=\"https://colab.research.google.com/github/eun551/python/blob/main/basic/siat_python_day03_%ED%8A%9C%ED%94%8C%2C%EB%94%95%EC%85%94%EB%84%88%EB%A6%AC.ipynb\" target=\"_parent\"><img src=\"https://colab.research.google.com/assets/colab-badge.svg\" alt=\"Open In Colab\"/></a>"
      ]
    },
    {
      "cell_type": "markdown",
      "source": [
        "튜플(tuple)\n",
        "- 읽기 전용\n",
        "- 순서, 중복 허용 - sequence\n",
        "- 수정, 삭제 불가\n",
        "- 필요에 따라서 데이터를 조작해야 할 경우 형변화 (Casting 연산자)\n",
        "- list로 타입을 바꿔야 한다. list(tuple)\n",
        "- indexing, slicing\n",
        "- 선언 방법 : () , tuple ()\n",
        "- Packing & Unpacking\n"
      ],
      "metadata": {
        "id": "DikzXLqIfsrv"
      }
    },
    {
      "cell_type": "code",
      "execution_count": null,
      "metadata": {
        "colab": {
          "base_uri": "https://localhost:8080/"
        },
        "id": "eg6MOwSiZNBo",
        "outputId": "090ab76f-425e-4056-dd34-41e73532f406"
      },
      "outputs": [
        {
          "output_type": "stream",
          "name": "stdout",
          "text": [
            "type -  <class 'tuple'>\n"
          ]
        }
      ],
      "source": [
        "tmpTuple = (3,)\n",
        "print('type - ', type(tmpTuple))\n"
      ]
    },
    {
      "cell_type": "code",
      "source": [
        "tmpTuple = 1,2,3,4,5,6,2  #파이썬은 ()를 생략해도 패키지로 보기 때문에 가능하다. 자바는 안된다.\n",
        "print('type - ', type(tmpTuple))\n",
        "print('indexing - ' , tmpTuple[0])\n",
        "print('slicing - ' , tmpTuple[0:2])\n"
      ],
      "metadata": {
        "colab": {
          "base_uri": "https://localhost:8080/"
        },
        "id": "-a4H0oj5fqrR",
        "outputId": "b3b5f539-9f29-4ba1-f3a4-1c195765935a"
      },
      "execution_count": null,
      "outputs": [
        {
          "output_type": "stream",
          "name": "stdout",
          "text": [
            "type -  <class 'tuple'>\n",
            "indexing -  1\n",
            "slicing -  (1, 2)\n"
          ]
        }
      ]
    },
    {
      "cell_type": "code",
      "source": [
        "# error\n",
        "tmpTuple[0] = 100\n",
        "# TypeError: 'tuple' object does not support item assignment\n",
        "# 내가 강제로 할당하게 해봤다."
      ],
      "metadata": {
        "colab": {
          "base_uri": "https://localhost:8080/",
          "height": 165
        },
        "id": "hKqYddkufqwz",
        "outputId": "36437fa0-4f4c-40a2-a7ae-8538e6c8bba1"
      },
      "execution_count": null,
      "outputs": [
        {
          "output_type": "error",
          "ename": "TypeError",
          "evalue": "'tuple' object does not support item assignment",
          "traceback": [
            "\u001b[0;31m---------------------------------------------------------------------------\u001b[0m",
            "\u001b[0;31mTypeError\u001b[0m                                 Traceback (most recent call last)",
            "\u001b[0;32m<ipython-input-6-5f9fd410b2c3>\u001b[0m in \u001b[0;36m<cell line: 0>\u001b[0;34m()\u001b[0m\n\u001b[1;32m      1\u001b[0m \u001b[0;31m# error\u001b[0m\u001b[0;34m\u001b[0m\u001b[0;34m\u001b[0m\u001b[0m\n\u001b[0;32m----> 2\u001b[0;31m \u001b[0mtmpTuple\u001b[0m\u001b[0;34m[\u001b[0m\u001b[0;36m0\u001b[0m\u001b[0;34m]\u001b[0m \u001b[0;34m=\u001b[0m \u001b[0;36m100\u001b[0m\u001b[0;34m\u001b[0m\u001b[0;34m\u001b[0m\u001b[0m\n\u001b[0m",
            "\u001b[0;31mTypeError\u001b[0m: 'tuple' object does not support item assignment"
          ]
        }
      ]
    },
    {
      "cell_type": "code",
      "source": [
        "print('count - ' , tmpTuple.count(2))\n",
        "print('index - ' , tmpTuple.index(2))\n",
        "\n",
        "#error\n",
        "#print('count - ' , tmpTuple.count())\n",
        "# TypeError: tuple.count() takes exactly one argument (0 given)\n",
        "# 정확히 하나의 인수를 취함, 2가 두개 있으면 2가 나온다. 개수?"
      ],
      "metadata": {
        "colab": {
          "base_uri": "https://localhost:8080/"
        },
        "id": "hHzISkJtfq1K",
        "outputId": "81fb0ba4-02a7-44b1-bc9f-5ce273abe5fa"
      },
      "execution_count": null,
      "outputs": [
        {
          "output_type": "stream",
          "name": "stdout",
          "text": [
            "count -  2\n",
            "index -  1\n"
          ]
        }
      ]
    },
    {
      "cell_type": "code",
      "source": [
        "# Quiz\n",
        "# casting 생각\n",
        "# 우리가 생성한 튜플의 요소의 값이 4인 데이터를 10으로 변경하고 결과를 확인하시오.\n",
        "\n",
        "tmpTuple = 1,2,3,4,5,6,2\n",
        "\n",
        "tmpLst = list(tmpTuple)  #형변환 수정가능하게 한다.\n",
        "print('type - ' , type(tmpLst))\n",
        "#print(tmpLst)\n",
        "\n",
        "#tmpLst [tmpLst.index(4)] = 10\n",
        "#tmpLst.index(4) 의 값은 3이기 때문에\n",
        "#tmpLst[3] 즉 3번째에 들어가야 할 값을 말한다.\n",
        "tmpLst [3] = 10\n",
        "print('data -',tmpTuple)\n",
        "print('data -',tmpLst)"
      ],
      "metadata": {
        "colab": {
          "base_uri": "https://localhost:8080/"
        },
        "id": "mP-O29bpfq5q",
        "outputId": "d3ba2f25-41bb-4f45-c0f7-5ff0990679ee"
      },
      "execution_count": null,
      "outputs": [
        {
          "output_type": "stream",
          "name": "stdout",
          "text": [
            "type -  <class 'list'>\n",
            "[1, 2, 3, 4, 5, 6, 2]\n",
            "data - (1, 2, 3, 4, 5, 6, 2)\n",
            "data - [1, 2, 3, 10, 5, 6, 2]\n"
          ]
        }
      ]
    },
    {
      "cell_type": "code",
      "source": [],
      "metadata": {
        "id": "FAp4epalC_Du"
      },
      "execution_count": null,
      "outputs": []
    },
    {
      "cell_type": "code",
      "source": [
        "data = tuple()\n",
        "print('type -' , type(data))\n",
        "\n"
      ],
      "metadata": {
        "colab": {
          "base_uri": "https://localhost:8080/"
        },
        "id": "VdQ_h-YDfq9x",
        "outputId": "c27911c3-5deb-42fc-aeb6-c9c8e9819a97"
      },
      "execution_count": null,
      "outputs": [
        {
          "output_type": "stream",
          "name": "stdout",
          "text": [
            "type - <class 'tuple'>\n"
          ]
        }
      ]
    },
    {
      "cell_type": "code",
      "source": [
        "# 1~ 99 까지의 정수 중 짝수만 튜플에 담아서 출력하시오.\n",
        "\n",
        "data = tuple(range(2,100,2))\n",
        "print(data)\n",
        "\n"
      ],
      "metadata": {
        "colab": {
          "base_uri": "https://localhost:8080/"
        },
        "id": "lwuu6qn8frC2",
        "outputId": "3ade341b-aacf-4562-d165-7b56a2c4b768"
      },
      "execution_count": null,
      "outputs": [
        {
          "output_type": "stream",
          "name": "stdout",
          "text": [
            "(2, 4, 6, 8, 10, 12, 14, 16, 18, 20, 22, 24, 26, 28, 30, 32, 34, 36, 38, 40, 42, 44, 46, 48, 50, 52, 54, 56, 58, 60, 62, 64, 66, 68, 70, 72, 74, 76, 78, 80, 82, 84, 86, 88, 90, 92, 94, 96, 98)\n"
          ]
        }
      ]
    },
    {
      "cell_type": "code",
      "source": [
        "packing = ('박신형','김도균','조영석','임지연')  #tuple, packing\n",
        "print('data - ' , packing)\n",
        "p,k,j,i = packing #인덱싱이나 슬라이싱으로 가져오는게 아니다\n",
        "print('data - ' , p)\n",
        "print('data - ' , k)\n",
        "print('data - ' , j)\n",
        "print('data - ' , i)  #unpacking\n"
      ],
      "metadata": {
        "colab": {
          "base_uri": "https://localhost:8080/"
        },
        "id": "llKFSKf5tLQi",
        "outputId": "662e7d7e-6520-4b93-c1b2-79150c54b66f"
      },
      "execution_count": null,
      "outputs": [
        {
          "output_type": "stream",
          "name": "stdout",
          "text": [
            "data -  ('박신형', '김도균', '조영석', '임지연')\n",
            "data -  박신형\n",
            "data -  김도균\n",
            "data -  조영석\n",
            "data -  임지연\n"
          ]
        }
      ]
    },
    {
      "cell_type": "code",
      "source": [
        "packing = ('박신형','김도균','조영석','임지연', '조은영')  #tuple, packing\n",
        "print('data - ' , packing)\n",
        "p,k,j,i,c = packing #인덱싱이나 슬라이싱으로 가져오는게 아니다\n",
        "\n",
        "print(''.format())   #format 함수 :\n",
        "\n",
        "print('당신의 이름은 {} 입니다.'.format(p))  # {} 안에 format(p) 에 해당한 값이 들어간다.\n",
        "\n",
        "print('내 이름은 {} 입니다.'.format(c))"
      ],
      "metadata": {
        "colab": {
          "base_uri": "https://localhost:8080/"
        },
        "id": "2iNep3lXtLUM",
        "outputId": "d63c8b6d-e42f-45f7-d50a-ae406f156856"
      },
      "execution_count": null,
      "outputs": [
        {
          "output_type": "stream",
          "name": "stdout",
          "text": [
            "data -  ('박신형', '김도균', '조영석', '임지연', '조은영')\n",
            "\n",
            "당신의 이름은 박신형 입니다.\n",
            "내 이름은 조은영 입니다.\n"
          ]
        }
      ]
    },
    {
      "cell_type": "code",
      "source": [
        "p = packing\n",
        "print('당신의 이름은 {} 입니다.'.format(p))\n",
        "\n",
        "p = packing[0]\n",
        "print('당신의 이름은 {} 입니다.'.format(p))\n",
        "\n",
        "p,k = packing\n",
        "print('당신의 이름은 {} 입니다.'.format(p))\n",
        "print('당신의 이름은 {} 입니다.'.format(k))\n",
        "#ValueError: too many values to unpack (expected 2) : 개수가 안 맞다.\n",
        "\n"
      ],
      "metadata": {
        "colab": {
          "base_uri": "https://localhost:8080/",
          "height": 257
        },
        "id": "ux6rwVAMtLYG",
        "outputId": "3bb23383-01cc-45ba-bc97-635f037508d4"
      },
      "execution_count": null,
      "outputs": [
        {
          "output_type": "stream",
          "name": "stdout",
          "text": [
            "당신의 이름은 ('박신형', '김도균', '조영석', '임지연', '조은영') 입니다.\n",
            "당신의 이름은 박신형 입니다.\n"
          ]
        },
        {
          "output_type": "error",
          "ename": "ValueError",
          "evalue": "too many values to unpack (expected 2)",
          "traceback": [
            "\u001b[0;31m---------------------------------------------------------------------------\u001b[0m",
            "\u001b[0;31mValueError\u001b[0m                                Traceback (most recent call last)",
            "\u001b[0;32m<ipython-input-5-c015ac09ddae>\u001b[0m in \u001b[0;36m<cell line: 0>\u001b[0;34m()\u001b[0m\n\u001b[1;32m      5\u001b[0m \u001b[0mprint\u001b[0m\u001b[0;34m(\u001b[0m\u001b[0;34m'당신의 이름은 {} 입니다.'\u001b[0m\u001b[0;34m.\u001b[0m\u001b[0mformat\u001b[0m\u001b[0;34m(\u001b[0m\u001b[0mp\u001b[0m\u001b[0;34m)\u001b[0m\u001b[0;34m)\u001b[0m\u001b[0;34m\u001b[0m\u001b[0;34m\u001b[0m\u001b[0m\n\u001b[1;32m      6\u001b[0m \u001b[0;34m\u001b[0m\u001b[0m\n\u001b[0;32m----> 7\u001b[0;31m \u001b[0mp\u001b[0m\u001b[0;34m,\u001b[0m\u001b[0mk\u001b[0m \u001b[0;34m=\u001b[0m \u001b[0mpacking\u001b[0m\u001b[0;34m\u001b[0m\u001b[0;34m\u001b[0m\u001b[0m\n\u001b[0m\u001b[1;32m      8\u001b[0m \u001b[0mprint\u001b[0m\u001b[0;34m(\u001b[0m\u001b[0;34m'당신의 이름은 {} 입니다.'\u001b[0m\u001b[0;34m.\u001b[0m\u001b[0mformat\u001b[0m\u001b[0;34m(\u001b[0m\u001b[0mp\u001b[0m\u001b[0;34m)\u001b[0m\u001b[0;34m)\u001b[0m\u001b[0;34m\u001b[0m\u001b[0;34m\u001b[0m\u001b[0m\n\u001b[1;32m      9\u001b[0m \u001b[0mprint\u001b[0m\u001b[0;34m(\u001b[0m\u001b[0;34m'당신의 이름은 {} 입니다.'\u001b[0m\u001b[0;34m.\u001b[0m\u001b[0mformat\u001b[0m\u001b[0;34m(\u001b[0m\u001b[0mk\u001b[0m\u001b[0;34m)\u001b[0m\u001b[0;34m)\u001b[0m\u001b[0;34m\u001b[0m\u001b[0;34m\u001b[0m\u001b[0m\n",
            "\u001b[0;31mValueError\u001b[0m: too many values to unpack (expected 2)"
          ]
        }
      ]
    },
    {
      "cell_type": "code",
      "source": [
        "p,k, *all = packing  # * 나머지 요소가 다 들어간다. 중간 패키징로도 할 수 있다.\n",
        "print('당신의 이름은 {} 입니다.'.format(p))\n",
        "print('당신의 이름은 {} 입니다.'.format(k))\n",
        "\n",
        "print(all)  #튜플이 아닌 리스트로 나온다."
      ],
      "metadata": {
        "colab": {
          "base_uri": "https://localhost:8080/"
        },
        "id": "dOmcNPOFtLbn",
        "outputId": "241204a8-79cc-4001-f142-159cff34ff02"
      },
      "execution_count": null,
      "outputs": [
        {
          "output_type": "stream",
          "name": "stdout",
          "text": [
            "당신의 이름은 박신형 입니다.\n",
            "당신의 이름은 김도균 입니다.\n",
            "['조영석', '임지연', '조은영']\n"
          ]
        }
      ]
    },
    {
      "cell_type": "code",
      "source": [
        "p, *middle , i = packing  # * 나머지 요소가 다 들어간다. 중간 패키징로도 할 수 있다.\n",
        "print('당신의 이름은 {} 입니다.'.format(p))\n",
        "print('당신의 이름은 {} 입니다.'.format(i))"
      ],
      "metadata": {
        "colab": {
          "base_uri": "https://localhost:8080/"
        },
        "id": "XW_VYl1dSn3M",
        "outputId": "8e70eb8e-32c3-4cfa-bc3e-e54a6d14493b"
      },
      "execution_count": null,
      "outputs": [
        {
          "output_type": "stream",
          "name": "stdout",
          "text": [
            "당신의 이름은 박신형 입니다.\n",
            "당신의 이름은 조은영 입니다.\n"
          ]
        }
      ]
    },
    {
      "cell_type": "code",
      "source": [],
      "metadata": {
        "id": "TxRdbzRqUOxY"
      },
      "execution_count": null,
      "outputs": []
    },
    {
      "cell_type": "code",
      "source": [
        "packing = ('박신형','김도균','조영석','임지연', '조은영')\n",
        "first, *middle, last = packing\n",
        "\n",
        "print('첫 번째 이름: {}'.format(first))  # Output: 박신형\n",
        "print('마지막에서 두 번째 이름: {}'.format(last)) # Output: 임지연"
      ],
      "metadata": {
        "colab": {
          "base_uri": "https://localhost:8080/"
        },
        "id": "kEMTVccWTT50",
        "outputId": "6dc2a5d7-7d7c-4bc9-8436-ca110de61834"
      },
      "execution_count": null,
      "outputs": [
        {
          "output_type": "stream",
          "name": "stdout",
          "text": [
            "첫 번째 이름: 박신형\n",
            "마지막에서 두 번째 이름: 조은영\n"
          ]
        }
      ]
    },
    {
      "cell_type": "markdown",
      "source": [
        "딕셔너리 (dict)\n",
        "- 범용적으로 많이 사용되는 변수\n",
        "- 순서 , 키 중복 허용하지 않음\n",
        "- 수정과 삭제 가능\n",
        "- 튜플을 리스트나 딕셔너리로도 바꿀 수 있다.\n",
        "- key : value\n",
        "- 선언 : {} , dict()\n"
      ],
      "metadata": {
        "id": "67da9d3jw8M8"
      }
    },
    {
      "cell_type": "code",
      "source": [
        "dict01 = {\n",
        "    'name' : 'cho' ,  #콤마 작성하기\n",
        "    'phone' : '010-xxxx-xxxx' ,\n",
        "    'birth' : '7777'\n",
        "}\n",
        "print('type - ' , type(dict01))\n",
        "print('data - ' , dict01)\n",
        "\n",
        "\n",
        "dict02 = {\n",
        "    'name' : 'cho' ,\n",
        "    'phone' : '010-xxxx-xxxx' ,\n",
        "    'phone' : '7777'\n",
        "}\n",
        "print('type - ' , type(dict02))\n",
        "print('data - ' , dict02)  #에러가 나지 않고, 덮여쓰워진다."
      ],
      "metadata": {
        "colab": {
          "base_uri": "https://localhost:8080/"
        },
        "id": "ERQpninBtLe1",
        "outputId": "159dac84-522d-44ab-f062-07ca97513734"
      },
      "execution_count": null,
      "outputs": [
        {
          "output_type": "stream",
          "name": "stdout",
          "text": [
            "type -  <class 'dict'>\n",
            "data -  {'name': 'cho', 'phone': '010-xxxx-xxxx', 'birth': '7777'}\n",
            "type -  <class 'dict'>\n",
            "data -  {'name': 'cho', 'phone': '7777'}\n"
          ]
        }
      ]
    },
    {
      "cell_type": "code",
      "source": [
        "# 키 유무 판단하기\n",
        "# in\n",
        "\n",
        "print('name' in dict01)"
      ],
      "metadata": {
        "colab": {
          "base_uri": "https://localhost:8080/"
        },
        "id": "RcGYPl8TtLig",
        "outputId": "a22e3027-fb10-46e1-846c-7497877cfed4"
      },
      "execution_count": null,
      "outputs": [
        {
          "output_type": "stream",
          "name": "stdout",
          "text": [
            "True\n"
          ]
        }
      ]
    },
    {
      "cell_type": "code",
      "source": [
        "# 데이터 수정\n",
        "dict01['name']  # 데이터 추출\n",
        " # print(dict01) 수정을 하고 나면 그 이전 데이터는 없어지나?\n",
        "dict01['name'] = 'Park' #데이터 수정\n",
        "print(dict01)\n"
      ],
      "metadata": {
        "colab": {
          "base_uri": "https://localhost:8080/"
        },
        "id": "SPmw85DN5Tm-",
        "outputId": "3fd01b48-5bf1-4e9b-f60c-b4beefad63f6"
      },
      "execution_count": null,
      "outputs": [
        {
          "output_type": "stream",
          "name": "stdout",
          "text": [
            "{'name': 'Park', 'phone': '010-xxxx-xxxx', 'birth': '7777'}\n"
          ]
        }
      ]
    },
    {
      "cell_type": "code",
      "source": [
        "items = {\n",
        "    '메로나' : [300,20],\n",
        "    '비비빅' : [400,20],\n",
        "    '죠스바' : [100,50]\n",
        "}\n",
        "print('data -' , items)"
      ],
      "metadata": {
        "colab": {
          "base_uri": "https://localhost:8080/"
        },
        "id": "Be-wHHJi55Cf",
        "outputId": "59e04840-1bba-432d-f9a0-790c4ade0fe1"
      },
      "execution_count": null,
      "outputs": [
        {
          "output_type": "stream",
          "name": "stdout",
          "text": [
            "data - {'메로나': [300, 20], '비비빅': [400, 20], '죠스바': [100, 50]}\n"
          ]
        }
      ]
    },
    {
      "cell_type": "code",
      "source": [
        "# Quize\n",
        "# 메로나 가격을 출력하시오.\n",
        "# 300 * 20\n",
        "#list[0] * list [1] 여기까지 생각한 나 잘했다.\n",
        "print(items['메로나'][0] * items['메로나'][1])"
      ],
      "metadata": {
        "colab": {
          "base_uri": "https://localhost:8080/"
        },
        "id": "X38EsnmOtLnu",
        "outputId": "7f637dc6-4d1e-4c83-cf2b-86b8c8fa50ba"
      },
      "execution_count": null,
      "outputs": [
        {
          "output_type": "stream",
          "name": "stdout",
          "text": [
            "6000\n"
          ]
        }
      ]
    },
    {
      "cell_type": "code",
      "source": [
        "items = {\n",
        "    '메로나' : {'price' : 300 , 'qty' : 20},\n",
        "    '비비빅' : [400,20],\n",
        "    '죠스바' : [100,50]\n",
        "}\n",
        "print('data -' , items)\n",
        "\n",
        "#수정했으면 한번 실행을 해줘야 한다. 안 그럼 수정 전 데이터로 계산하기 때문에 값이 안 나온다."
      ],
      "metadata": {
        "colab": {
          "base_uri": "https://localhost:8080/"
        },
        "id": "rkO119Zy7gSs",
        "outputId": "bc9ae5d7-3fee-4984-802b-7bad10b00696"
      },
      "execution_count": null,
      "outputs": [
        {
          "output_type": "stream",
          "name": "stdout",
          "text": [
            "data - {'메로나': {'price': 300, 'qty': 20}, '비비빅': [400, 20], '죠스바': [100, 50]}\n"
          ]
        }
      ]
    },
    {
      "cell_type": "code",
      "source": [
        "items['메로나']['price'] #나 분명히 처음에 이걸로 했는데 오류가 나서 아닌 줄 알았어 ㅠㅠ\n",
        "print('메로나의 가격은 {}입니다.'.format(items['메로나']['price']))"
      ],
      "metadata": {
        "colab": {
          "base_uri": "https://localhost:8080/"
        },
        "id": "rRnNpoMc7gYm",
        "outputId": "fbaca475-1d58-4df3-ebea-e4c315908a0c"
      },
      "execution_count": null,
      "outputs": [
        {
          "output_type": "stream",
          "name": "stdout",
          "text": [
            "메로나의 가격은 300입니다.\n"
          ]
        }
      ]
    },
    {
      "cell_type": "code",
      "source": [
        "#Quize\n",
        "#메로나 수량을 100개로 수정하고 결과를 확인하시오.\n",
        "items['메로나']['qty'] = 100\n",
        "print(items['메로나']['price']*items['메로나']['qty'])"
      ],
      "metadata": {
        "colab": {
          "base_uri": "https://localhost:8080/"
        },
        "id": "1aENdgwl8-tf",
        "outputId": "49f89ab7-5125-4e2f-f158-68e53c6882e4"
      },
      "execution_count": null,
      "outputs": [
        {
          "output_type": "stream",
          "name": "stdout",
          "text": [
            "30000\n"
          ]
        }
      ]
    },
    {
      "cell_type": "code",
      "source": [
        "\n",
        "# Quiz\n",
        "# 새로운 상품을 출시하고자 한다.\n",
        "# 새로운 상품의 이름은 녹차바 이고, 가격은 100원이며 수량은 10개로 한다.\n",
        "#추가된 상품을 포함하는 items를 출력하시오.\n",
        "\n",
        "\n",
        "#추가......add? new?\n",
        "#딕셔너리는 함수를 쓰지 않는다. 어렵게 생각하지 말자.\n",
        "items['녹차바'] = [100,10]\n",
        "print(items)"
      ],
      "metadata": {
        "colab": {
          "base_uri": "https://localhost:8080/"
        },
        "id": "AxqkzSBp9Yap",
        "outputId": "365b0248-bf88-4b20-cae5-158110592096"
      },
      "execution_count": null,
      "outputs": [
        {
          "output_type": "stream",
          "name": "stdout",
          "text": [
            "{'메로나': {'price': 300, 'qty': 100}, '비비빅': [400, 20], '죠스바': [100, 50], '녹차바': [100, 10]}\n"
          ]
        }
      ]
    },
    {
      "cell_type": "code",
      "source": [
        "#Quiz\n",
        "# 메로나의 가격을 10% 인상하여 데이터를 확인하시오.\n",
        "\n",
        "items['메로나']['price']=int(items['메로나']['price']*1.1)\n",
        "# 맞게 적었는데, 계속 누르면 누를수록 점점 올라간다.\n",
        "# 소수점 안나오게 하려면 int()\n",
        "print(items)"
      ],
      "metadata": {
        "colab": {
          "base_uri": "https://localhost:8080/"
        },
        "id": "6iXuQH0J9aMu",
        "outputId": "f3c1fcbf-c2bf-4a05-dd8b-154647df3f70"
      },
      "execution_count": null,
      "outputs": [
        {
          "output_type": "stream",
          "name": "stdout",
          "text": [
            "{'메로나': {'price': 439, 'qty': 20}, '비비빅': [400, 20], '죠스바': [100, 50]}\n"
          ]
        }
      ]
    },
    {
      "cell_type": "code",
      "source": [
        "# 두개의 튜플형식의 데이터를 딕셔너리형식으로 만들어 출력한다면\n",
        "keys = ('apple','pear','peach')\n",
        "vals = (1000,2000,3000)\n",
        "\n",
        "\n",
        "# keys : vals\n",
        "\n",
        "zip(keys,vals)\n",
        "# zip 으로 묶어준다. : 주소값\n",
        "\n",
        "#dict(zip(keys,vals))\n",
        "zipDict = dict ( zip ( keys, vals ) )\n",
        "print(zipDict)"
      ],
      "metadata": {
        "colab": {
          "base_uri": "https://localhost:8080/"
        },
        "id": "D100kc9x9aQb",
        "outputId": "f66e8952-7b87-4618-f365-f97df84dbfeb"
      },
      "execution_count": null,
      "outputs": [
        {
          "output_type": "stream",
          "name": "stdout",
          "text": [
            "{'apple': 1000, 'pear': 2000, 'peach': 3000}\n"
          ]
        }
      ]
    },
    {
      "cell_type": "code",
      "source": [
        "# keys() , valuse() , items() 함수명을 가진다.\n",
        "for key in zipDict.keys() :\n",
        "  print(key)\n",
        "print()\n",
        "for value in zipDict.values() :\n",
        "  print(value)\n",
        "print()\n",
        "for key , value in zipDict.items() :  # unpacking 이다.\n",
        "  print(key , value)\n",
        "print()"
      ],
      "metadata": {
        "colab": {
          "base_uri": "https://localhost:8080/"
        },
        "id": "uUkUKFT49aTi",
        "outputId": "ceea5b42-6fe4-415b-e357-00877c4f497f"
      },
      "execution_count": null,
      "outputs": [
        {
          "output_type": "stream",
          "name": "stdout",
          "text": [
            "apple\n",
            "pear\n",
            "peach\n",
            "\n",
            "1000\n",
            "2000\n",
            "3000\n",
            "\n",
            "apple 1000\n",
            "pear 2000\n",
            "peach 3000\n",
            "\n"
          ]
        }
      ]
    },
    {
      "cell_type": "code",
      "source": [
        "# Quiz\n",
        "# 단어의 빈도수를 구한다면?\n",
        "wordLst = ['love' , 'dog' , 'death', 'play' , 'cat' , 'house' , 'dog', 'dog','play']\n",
        "# 딕셔너리 형식으로 {단어 : 빈도수}\n",
        "\n",
        "# 내가 생각한 것\n",
        "# {'dog' : 3 }\n",
        "# list 형식.\n",
        "print(wordLst.count('love'))\n",
        "print(wordLst.count('dog'))\n",
        "#{'dog' : print(wordLst.count('dog')) }\n",
        "#단어 추출하기....\n",
        "for x in wordLst :\n",
        "  print(x)\n",
        "print()\n",
        "\n"
      ],
      "metadata": {
        "colab": {
          "base_uri": "https://localhost:8080/"
        },
        "id": "u4RcmD2K9aWz",
        "outputId": "4af477eb-80a5-4615-e506-ee43693a2bfe"
      },
      "execution_count": null,
      "outputs": [
        {
          "output_type": "stream",
          "name": "stdout",
          "text": [
            "1\n",
            "3\n",
            "love\n",
            "dog\n",
            "death\n",
            "play\n",
            "cat\n",
            "house\n",
            "dog\n",
            "dog\n",
            "play\n"
          ]
        }
      ]
    },
    {
      "cell_type": "code",
      "source": [
        "# Quiz\n",
        "# 단어의 빈도수를 구한다면?\n",
        "wordLst = ['love' , 'dog' , 'death', 'play' , 'cat' , 'house' , 'dog', 'dog','play']\n",
        "result = {}\n",
        "\n",
        "print('case01 - ')\n",
        "for word in wordLst :\n",
        "  if word in result :\n",
        "    result[word] += 1\n",
        "  else :\n",
        "    result[word] = 1\n",
        "\n",
        "print(result)"
      ],
      "metadata": {
        "colab": {
          "base_uri": "https://localhost:8080/"
        },
        "id": "4BStVTU-9aZy",
        "outputId": "7040a6f1-62a1-42c4-bfe4-9845ac19a535"
      },
      "execution_count": null,
      "outputs": [
        {
          "output_type": "stream",
          "name": "stdout",
          "text": [
            "case01 - \n",
            "{'love': 1, 'dog': 3, 'death': 1, 'play': 2, 'cat': 1, 'house': 1}\n"
          ]
        }
      ]
    },
    {
      "cell_type": "code",
      "source": [
        "print('case02 - ')\n",
        "result.clear()\n",
        "for word in wordLst :\n",
        "  result[word] = result.get(word, 0) + 1\n",
        "  #print(result) 안에 있으면 끝날때까지 반복되어서 나온다. 주의!\n",
        "print(result)"
      ],
      "metadata": {
        "colab": {
          "base_uri": "https://localhost:8080/"
        },
        "id": "QGuIo1r_9ag5",
        "outputId": "4e1cdfe7-84d2-4f6b-e13e-9c5ae2a77e04"
      },
      "execution_count": null,
      "outputs": [
        {
          "output_type": "stream",
          "name": "stdout",
          "text": [
            "case02 - \n",
            "{'love': 1, 'dog': 3, 'death': 1, 'play': 2, 'cat': 1, 'house': 1}\n"
          ]
        }
      ]
    },
    {
      "cell_type": "markdown",
      "source": [
        "Set - 집합 자료형\n",
        "- 순서, 중복 허용하지 않는다.\n",
        "- 선언 : {} , set()\n",
        "- 인덱셍, 슬라이싱 불가\n"
      ],
      "metadata": {
        "id": "dVDRigyGlkzO"
      }
    },
    {
      "cell_type": "code",
      "source": [
        "tmpSet = {1,2,3, 'cho' , 5,6,2,3,1,4,5}\n",
        "print('type - ' , type(tmpSet))\n",
        "print('data - ' , tmpSet)"
      ],
      "metadata": {
        "colab": {
          "base_uri": "https://localhost:8080/"
        },
        "id": "XJY8BX3Glj0s",
        "outputId": "6e1b9689-d9ec-4715-ebd7-d425cb277de5"
      },
      "execution_count": null,
      "outputs": [
        {
          "output_type": "stream",
          "name": "stdout",
          "text": [
            "type -  <class 'set'>\n",
            "data -  {1, 2, 3, 4, 5, 6, 'cho'}\n"
          ]
        }
      ]
    },
    {
      "cell_type": "code",
      "source": [
        "print('case03 - ')\n",
        "result.clear()\n",
        "result = dict(zip(set(wordLst) , [ wordLst.count(word) for word in set(wordLst) ]))\n",
        "print(result)"
      ],
      "metadata": {
        "colab": {
          "base_uri": "https://localhost:8080/"
        },
        "id": "p_uEcmr5lj_u",
        "outputId": "a302329e-f971-4583-98e5-684db48738d9"
      },
      "execution_count": null,
      "outputs": [
        {
          "output_type": "stream",
          "name": "stdout",
          "text": [
            "case03 - \n",
            "{'play': 2, 'cat': 1, 'love': 1, 'house': 1, 'dog': 3, 'death': 1}\n"
          ]
        }
      ]
    },
    {
      "cell_type": "code",
      "source": [
        "print('case04 -')\n",
        "result.clear()\n",
        "for word in list(set(wordLst)) :\n",
        "  result.update( {word : wordLst.count(word)} )\n",
        "print(result)"
      ],
      "metadata": {
        "colab": {
          "base_uri": "https://localhost:8080/"
        },
        "id": "wRCGtUOKlkD7",
        "outputId": "cef90a55-3ee1-49ff-8bd2-eab1e2e24789"
      },
      "execution_count": null,
      "outputs": [
        {
          "output_type": "stream",
          "name": "stdout",
          "text": [
            "case04 -\n",
            "{'play': 2, 'cat': 1, 'love': 1, 'house': 1, 'dog': 3, 'death': 1}\n"
          ]
        }
      ]
    },
    {
      "cell_type": "code",
      "source": [
        "tmpSet = set()\n",
        "print('type - ' , type(tmpSet))\n",
        "print('data - ' , tmpSet)\n",
        "\n"
      ],
      "metadata": {
        "colab": {
          "base_uri": "https://localhost:8080/"
        },
        "id": "8QcSbFijlkHE",
        "outputId": "00d4c268-6564-4e7a-8ffe-c4190a0cd318"
      },
      "execution_count": null,
      "outputs": [
        {
          "output_type": "stream",
          "name": "stdout",
          "text": [
            "type -  <class 'set'>\n",
            "data -  set()\n"
          ]
        }
      ]
    },
    {
      "cell_type": "code",
      "source": [
        "tmpSet = set(1,2,3,1,2,3)\n",
        "print('type - ' , type(tmpSet))\n",
        "print('data - ' , tmpSet)\n",
        "\n",
        "#에러가 나는게 맞다."
      ],
      "metadata": {
        "colab": {
          "base_uri": "https://localhost:8080/",
          "height": 221
        },
        "id": "TAKangXcv_Jz",
        "outputId": "62931910-9731-41f0-dcdd-4512330916ab"
      },
      "execution_count": null,
      "outputs": [
        {
          "output_type": "error",
          "ename": "TypeError",
          "evalue": "set expected at most 1 argument, got 6",
          "traceback": [
            "\u001b[0;31m---------------------------------------------------------------------------\u001b[0m",
            "\u001b[0;31mTypeError\u001b[0m                                 Traceback (most recent call last)",
            "\u001b[0;32m<ipython-input-1-d17bf22b90aa>\u001b[0m in \u001b[0;36m<cell line: 0>\u001b[0;34m()\u001b[0m\n\u001b[0;32m----> 1\u001b[0;31m \u001b[0mtmpSet\u001b[0m \u001b[0;34m=\u001b[0m \u001b[0mset\u001b[0m\u001b[0;34m(\u001b[0m\u001b[0;36m1\u001b[0m\u001b[0;34m,\u001b[0m\u001b[0;36m2\u001b[0m\u001b[0;34m,\u001b[0m\u001b[0;36m3\u001b[0m\u001b[0;34m,\u001b[0m\u001b[0;36m1\u001b[0m\u001b[0;34m,\u001b[0m\u001b[0;36m2\u001b[0m\u001b[0;34m,\u001b[0m\u001b[0;36m3\u001b[0m\u001b[0;34m)\u001b[0m\u001b[0;34m\u001b[0m\u001b[0;34m\u001b[0m\u001b[0m\n\u001b[0m\u001b[1;32m      2\u001b[0m \u001b[0mprint\u001b[0m\u001b[0;34m(\u001b[0m\u001b[0;34m'type - '\u001b[0m \u001b[0;34m,\u001b[0m \u001b[0mtype\u001b[0m\u001b[0;34m(\u001b[0m\u001b[0mtmpSet\u001b[0m\u001b[0;34m)\u001b[0m\u001b[0;34m)\u001b[0m\u001b[0;34m\u001b[0m\u001b[0;34m\u001b[0m\u001b[0m\n\u001b[1;32m      3\u001b[0m \u001b[0mprint\u001b[0m\u001b[0;34m(\u001b[0m\u001b[0;34m'data - '\u001b[0m \u001b[0;34m,\u001b[0m \u001b[0mtmpSet\u001b[0m\u001b[0;34m)\u001b[0m\u001b[0;34m\u001b[0m\u001b[0;34m\u001b[0m\u001b[0m\n\u001b[1;32m      4\u001b[0m \u001b[0;34m\u001b[0m\u001b[0m\n\u001b[1;32m      5\u001b[0m \u001b[0;31m#에러가 나는게 맞다.\u001b[0m\u001b[0;34m\u001b[0m\u001b[0;34m\u001b[0m\u001b[0m\n",
            "\u001b[0;31mTypeError\u001b[0m: set expected at most 1 argument, got 6"
          ]
        }
      ]
    },
    {
      "cell_type": "code",
      "source": [
        "tmpSet = set([1,2,3,1,2,3])\n",
        "print('type - ' , type(tmpSet))\n",
        "print('data - ' , tmpSet)\n",
        "print('in - ' , 2 in tmpSet)\n",
        "#error\n",
        "#print('indexing-' , tmpSet[0])"
      ],
      "metadata": {
        "colab": {
          "base_uri": "https://localhost:8080/"
        },
        "id": "VS4tmx6rwAZa",
        "outputId": "2bd711a4-d911-4e17-d02d-e65c72bd77d8"
      },
      "execution_count": null,
      "outputs": [
        {
          "output_type": "stream",
          "name": "stdout",
          "text": [
            "type -  <class 'set'>\n",
            "data -  {1, 2, 3}\n",
            "in -  True\n"
          ]
        }
      ]
    },
    {
      "cell_type": "code",
      "source": [
        "# set -> tuple\n",
        "tmpTuple = tuple(tmpSet)\n",
        "print('type - ' , type(tmpTuple))\n",
        "print('indexing - ' , tmpTuple[0])"
      ],
      "metadata": {
        "colab": {
          "base_uri": "https://localhost:8080/"
        },
        "id": "QYxDGabdwGEi",
        "outputId": "c0bd8706-6b76-42dc-fb0e-cccb115483b0"
      },
      "execution_count": null,
      "outputs": [
        {
          "output_type": "stream",
          "name": "stdout",
          "text": [
            "type -  <class 'tuple'>\n",
            "indexing -  1\n"
          ]
        }
      ]
    },
    {
      "cell_type": "code",
      "source": [
        "#Quiz\n",
        "# 중복을 제거하여 성별을 조회하시오.\n",
        "gender = ['남자','여자','남자','남자','여자','여자','남자']\n",
        "\n",
        "set(gender)\n"
      ],
      "metadata": {
        "colab": {
          "base_uri": "https://localhost:8080/"
        },
        "id": "9XdGjqJOxQth",
        "outputId": "3f2444f8-edc5-4422-e222-2ca99a34f7a0"
      },
      "execution_count": null,
      "outputs": [
        {
          "output_type": "execute_result",
          "data": {
            "text/plain": [
              "{'남자', '여자'}"
            ]
          },
          "metadata": {},
          "execution_count": 113
        }
      ]
    },
    {
      "cell_type": "code",
      "source": [
        "print(list(set(gender)))"
      ],
      "metadata": {
        "colab": {
          "base_uri": "https://localhost:8080/"
        },
        "id": "MgUJFym6xQws",
        "outputId": "8bb10e68-5d24-416f-eee5-29573cfebe5c"
      },
      "execution_count": null,
      "outputs": [
        {
          "output_type": "stream",
          "name": "stdout",
          "text": [
            "['여자', '남자']\n"
          ]
        }
      ]
    },
    {
      "cell_type": "markdown",
      "source": [],
      "metadata": {
        "id": "P60Ugp5axQzn"
      }
    },
    {
      "cell_type": "code",
      "source": [
        "#교집합(intersection), 합집합(union), 차집합(difference)\n",
        "set01 = set([1,2,3,4,5])\n",
        "set02 = set([3,4,5,6,7])\n",
        "print('intersection - ' , set01.intersection(set02))\n",
        "print('union - ' , set01.union(set02))\n",
        "print('difference - ' , set01.difference(set02))"
      ],
      "metadata": {
        "colab": {
          "base_uri": "https://localhost:8080/"
        },
        "id": "9nZn8fMGxRj1",
        "outputId": "28c59096-fd58-4d72-fb8a-04dec7694296"
      },
      "execution_count": null,
      "outputs": [
        {
          "output_type": "stream",
          "name": "stdout",
          "text": [
            "intersection -  {3, 4, 5}\n",
            "union -  {1, 2, 3, 4, 5, 6, 7}\n",
            "difference -  {1, 2}\n"
          ]
        }
      ]
    },
    {
      "cell_type": "code",
      "source": [
        "#loop가 가능할까?\n",
        "\n",
        "for x in set01 :\n",
        "  print(x)\n",
        "# 내부 ... 반복까지 가능하다."
      ],
      "metadata": {
        "colab": {
          "base_uri": "https://localhost:8080/"
        },
        "id": "1S0cfumRzWvi",
        "outputId": "652f026f-6bcb-43a6-a657-c768502d9dbf"
      },
      "execution_count": null,
      "outputs": [
        {
          "output_type": "stream",
          "name": "stdout",
          "text": [
            "1\n",
            "2\n",
            "3\n",
            "4\n",
            "5\n"
          ]
        }
      ]
    },
    {
      "cell_type": "code",
      "source": [
        "#set 타입의 변수에 새로운 데이터 추가 가능할까?\n",
        "set02.add(7)\n",
        "print('add - ', set02)"
      ],
      "metadata": {
        "colab": {
          "base_uri": "https://localhost:8080/"
        },
        "id": "q74M8ovrxRmw",
        "outputId": "26498940-bfd2-4a63-f58e-b337ae5c17b2"
      },
      "execution_count": null,
      "outputs": [
        {
          "output_type": "stream",
          "name": "stdout",
          "text": [
            "add -  {3, 4, 5, 6, 7}\n"
          ]
        }
      ]
    },
    {
      "cell_type": "code",
      "source": [
        "# 삭제 가능할까요?\n",
        "set02.remove(3)\n",
        "print('remove - ',set02)"
      ],
      "metadata": {
        "colab": {
          "base_uri": "https://localhost:8080/"
        },
        "id": "uur_Y8AjxRpm",
        "outputId": "79ccd277-df4b-403a-fe8d-e6a4027eef3d"
      },
      "execution_count": null,
      "outputs": [
        {
          "output_type": "stream",
          "name": "stdout",
          "text": [
            "remove -  {4, 5, 6, 7}\n"
          ]
        }
      ]
    },
    {
      "cell_type": "code",
      "source": [
        "#교집합(intersection), 합집합(union), 차집합(difference)\n",
        "set01 = set([1,2,3,4,5])\n",
        "set02 = set([3,4,5,6,7])\n",
        "print('intersection - ' , set01.intersection(set02) , set01 & set02) #and\n",
        "print('union - ' , set01.union(set02) , set01 | set02) #or\n",
        "print('difference - ' , set01.difference(set02) , set01 - set02)"
      ],
      "metadata": {
        "colab": {
          "base_uri": "https://localhost:8080/"
        },
        "id": "3wBJeqwdxRsW",
        "outputId": "4d33633c-fc91-41e0-bf36-180b8e8928c1"
      },
      "execution_count": null,
      "outputs": [
        {
          "output_type": "stream",
          "name": "stdout",
          "text": [
            "intersection -  {3, 4, 5} {3, 4, 5}\n",
            "union -  {1, 2, 3, 4, 5, 6, 7} {1, 2, 3, 4, 5, 6, 7}\n",
            "difference -  {1, 2} {1, 2}\n"
          ]
        }
      ]
    },
    {
      "cell_type": "markdown",
      "source": [
        "# Quiz\n",
        "# 단어의 빈도수를 구한다면?\n",
        "wordLst = ['love' , 'dog' , 'death', 'play' , 'cat' , 'house' , 'dog', 'dog','play']\n",
        "\n",
        "result = {}"
      ],
      "metadata": {
        "id": "NSxJafW01S-m"
      }
    },
    {
      "cell_type": "code",
      "source": [
        "print('case05 -')\n",
        "result.clear()\n",
        "wordSet = set(wordLst)\n",
        "for word in wordSet :\n",
        "  cnt = 0\n",
        "  for idx in range(len(wordLst)) :\n",
        "    if wordLst[idx] == word :\n",
        "      cnt += 1\n",
        "  result[word] = cnt\n",
        "print(result)"
      ],
      "metadata": {
        "colab": {
          "base_uri": "https://localhost:8080/"
        },
        "id": "tzod_6cp070E",
        "outputId": "3dd12af1-2038-40ff-d51d-49009f64cc28"
      },
      "execution_count": null,
      "outputs": [
        {
          "output_type": "stream",
          "name": "stdout",
          "text": [
            "case05 -\n",
            "{'play': 2, 'cat': 1, 'love': 1, 'house': 1, 'dog': 3, 'death': 1}\n"
          ]
        }
      ]
    },
    {
      "cell_type": "code",
      "source": [
        "items = {\n",
        "    '메로나' : {'price' : 300 , 'qty' : 20},\n",
        "}\n",
        "print('data -' , items)"
      ],
      "metadata": {
        "colab": {
          "base_uri": "https://localhost:8080/"
        },
        "id": "Xw7K_e6lXJ_M",
        "outputId": "7c493c1a-49a0-4109-d67d-ac65d97b71a9"
      },
      "execution_count": null,
      "outputs": [
        {
          "output_type": "stream",
          "name": "stdout",
          "text": [
            "data - {'메로나': {'price': 300, 'qty': 20}}\n"
          ]
        }
      ]
    }
  ]
}
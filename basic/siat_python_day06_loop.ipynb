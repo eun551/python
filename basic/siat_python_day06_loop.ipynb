{
  "nbformat": 4,
  "nbformat_minor": 0,
  "metadata": {
    "colab": {
      "provenance": [],
      "authorship_tag": "ABX9TyMcZM1u+3AHycdkoV2qbMS5",
      "include_colab_link": true
    },
    "kernelspec": {
      "name": "python3",
      "display_name": "Python 3"
    },
    "language_info": {
      "name": "python"
    }
  },
  "cells": [
    {
      "cell_type": "markdown",
      "metadata": {
        "id": "view-in-github",
        "colab_type": "text"
      },
      "source": [
        "<a href=\"https://colab.research.google.com/github/eun551/python/blob/main/basic/siat_python_day06_loop.ipynb\" target=\"_parent\"><img src=\"https://colab.research.google.com/assets/colab-badge.svg\" alt=\"Open In Colab\"/></a>"
      ]
    },
    {
      "cell_type": "markdown",
      "source": [
        "코딩은 빨리 푸는게 아니다.\n",
        "\n",
        "**천천히 생각을 가지고 푸는 것이다.**"
      ],
      "metadata": {
        "id": "D5bYx-ZxJKyH"
      }
    },
    {
      "cell_type": "markdown",
      "source": [
        "프로그램은 2가지\n",
        "\n",
        "변수 , 함수\n",
        "\n",
        "range()\n",
        "\n",
        "반복구문."
      ],
      "metadata": {
        "id": "LXsTe2mkLQXT"
      }
    },
    {
      "cell_type": "code",
      "source": [
        "# 이중 루프구문\n",
        "# 구조 이해를 해야 한다! 행과 열\n",
        "\n",
        "# 구구단 작성\n",
        "for i in range(2, 10) : #행\n",
        "  print('>>> row = {}'.format(i))\n",
        "  for j in range(1,10) : #열\n",
        "    # print(j, end=\"\\t\")\n",
        "    print('{} * {} = {}'.format(i,j,(i*j)) ,end =\"\\t\")\n",
        "  print()\n"
      ],
      "metadata": {
        "colab": {
          "base_uri": "https://localhost:8080/"
        },
        "id": "sG7V7aiOLTZh",
        "outputId": "499d05f4-41e1-4c14-84ec-fb5287b79ec3"
      },
      "execution_count": null,
      "outputs": [
        {
          "output_type": "stream",
          "name": "stdout",
          "text": [
            ">>> row = 2\n",
            "2 * 1 = 2\t2 * 2 = 4\t2 * 3 = 6\t2 * 4 = 8\t2 * 5 = 10\t2 * 6 = 12\t2 * 7 = 14\t2 * 8 = 16\t2 * 9 = 18\t\n",
            ">>> row = 3\n",
            "3 * 1 = 3\t3 * 2 = 6\t3 * 3 = 9\t3 * 4 = 12\t3 * 5 = 15\t3 * 6 = 18\t3 * 7 = 21\t3 * 8 = 24\t3 * 9 = 27\t\n",
            ">>> row = 4\n",
            "4 * 1 = 4\t4 * 2 = 8\t4 * 3 = 12\t4 * 4 = 16\t4 * 5 = 20\t4 * 6 = 24\t4 * 7 = 28\t4 * 8 = 32\t4 * 9 = 36\t\n",
            ">>> row = 5\n",
            "5 * 1 = 5\t5 * 2 = 10\t5 * 3 = 15\t5 * 4 = 20\t5 * 5 = 25\t5 * 6 = 30\t5 * 7 = 35\t5 * 8 = 40\t5 * 9 = 45\t\n",
            ">>> row = 6\n",
            "6 * 1 = 6\t6 * 2 = 12\t6 * 3 = 18\t6 * 4 = 24\t6 * 5 = 30\t6 * 6 = 36\t6 * 7 = 42\t6 * 8 = 48\t6 * 9 = 54\t\n",
            ">>> row = 7\n",
            "7 * 1 = 7\t7 * 2 = 14\t7 * 3 = 21\t7 * 4 = 28\t7 * 5 = 35\t7 * 6 = 42\t7 * 7 = 49\t7 * 8 = 56\t7 * 9 = 63\t\n",
            ">>> row = 8\n",
            "8 * 1 = 8\t8 * 2 = 16\t8 * 3 = 24\t8 * 4 = 32\t8 * 5 = 40\t8 * 6 = 48\t8 * 7 = 56\t8 * 8 = 64\t8 * 9 = 72\t\n",
            ">>> row = 9\n",
            "9 * 1 = 9\t9 * 2 = 18\t9 * 3 = 27\t9 * 4 = 36\t9 * 5 = 45\t9 * 6 = 54\t9 * 7 = 63\t9 * 8 = 72\t9 * 9 = 81\t\n"
          ]
        }
      ]
    },
    {
      "cell_type": "code",
      "source": [
        "# 구구단 작성\n",
        "# 5단을 제외하고 출력한다면?\n",
        "\n",
        "for i in range(2, 10) :\n",
        "  if i == 5 :\n",
        "    continue\n",
        "  print('>>> row = {}'.format(i))\n",
        "  for j in range(1,10) :\n",
        "    print('{} * {} = {}'.format(i,j,(i*j)) ,end =\"\\t\")\n",
        "\n",
        "  print()"
      ],
      "metadata": {
        "colab": {
          "base_uri": "https://localhost:8080/"
        },
        "id": "8-f4_mDeQeN-",
        "outputId": "197ecc89-51c5-42db-fe9e-f1269918b318"
      },
      "execution_count": null,
      "outputs": [
        {
          "output_type": "stream",
          "name": "stdout",
          "text": [
            ">>> row = 2\n",
            "2 * 1 = 2\t2 * 2 = 4\t2 * 3 = 6\t2 * 4 = 8\t2 * 5 = 10\t2 * 6 = 12\t2 * 7 = 14\t2 * 8 = 16\t2 * 9 = 18\t\n",
            ">>> row = 3\n",
            "3 * 1 = 3\t3 * 2 = 6\t3 * 3 = 9\t3 * 4 = 12\t3 * 5 = 15\t3 * 6 = 18\t3 * 7 = 21\t3 * 8 = 24\t3 * 9 = 27\t\n",
            ">>> row = 4\n",
            "4 * 1 = 4\t4 * 2 = 8\t4 * 3 = 12\t4 * 4 = 16\t4 * 5 = 20\t4 * 6 = 24\t4 * 7 = 28\t4 * 8 = 32\t4 * 9 = 36\t\n",
            ">>> row = 6\n",
            "6 * 1 = 6\t6 * 2 = 12\t6 * 3 = 18\t6 * 4 = 24\t6 * 5 = 30\t6 * 6 = 36\t6 * 7 = 42\t6 * 8 = 48\t6 * 9 = 54\t\n",
            ">>> row = 7\n",
            "7 * 1 = 7\t7 * 2 = 14\t7 * 3 = 21\t7 * 4 = 28\t7 * 5 = 35\t7 * 6 = 42\t7 * 7 = 49\t7 * 8 = 56\t7 * 9 = 63\t\n",
            ">>> row = 8\n",
            "8 * 1 = 8\t8 * 2 = 16\t8 * 3 = 24\t8 * 4 = 32\t8 * 5 = 40\t8 * 6 = 48\t8 * 7 = 56\t8 * 8 = 64\t8 * 9 = 72\t\n",
            ">>> row = 9\n",
            "9 * 1 = 9\t9 * 2 = 18\t9 * 3 = 27\t9 * 4 = 36\t9 * 5 = 45\t9 * 6 = 54\t9 * 7 = 63\t9 * 8 = 72\t9 * 9 = 81\t\n"
          ]
        }
      ]
    },
    {
      "cell_type": "code",
      "source": [
        "# 5단까지만 출력한다면?\n",
        "for i in range(2, 10) :\n",
        "  # if i == 5 :\n",
        "  #   break\n",
        "  # 여기에 놓을 경우 4단까지만 나온다.\n",
        "  print('>>> row = {}'.format(i))\n",
        "  for j in range(1,10) :\n",
        "    print('{} * {} = {}'.format(i,j,(i*j)) ,end =\"\\t\")\n",
        "  if i == 5 :\n",
        "    break\n",
        "  print()"
      ],
      "metadata": {
        "colab": {
          "base_uri": "https://localhost:8080/"
        },
        "id": "zMCLWsk2QeSq",
        "outputId": "86683003-935f-41da-c3e9-8f89696e935e"
      },
      "execution_count": null,
      "outputs": [
        {
          "output_type": "stream",
          "name": "stdout",
          "text": [
            ">>> row = 2\n",
            "2 * 1 = 2\t2 * 2 = 4\t2 * 3 = 6\t2 * 4 = 8\t2 * 5 = 10\t2 * 6 = 12\t2 * 7 = 14\t2 * 8 = 16\t2 * 9 = 18\t\n",
            ">>> row = 3\n",
            "3 * 1 = 3\t3 * 2 = 6\t3 * 3 = 9\t3 * 4 = 12\t3 * 5 = 15\t3 * 6 = 18\t3 * 7 = 21\t3 * 8 = 24\t3 * 9 = 27\t\n",
            ">>> row = 4\n",
            "4 * 1 = 4\t4 * 2 = 8\t4 * 3 = 12\t4 * 4 = 16\t4 * 5 = 20\t4 * 6 = 24\t4 * 7 = 28\t4 * 8 = 32\t4 * 9 = 36\t\n",
            ">>> row = 5\n",
            "5 * 1 = 5\t5 * 2 = 10\t5 * 3 = 15\t5 * 4 = 20\t5 * 5 = 25\t5 * 6 = 30\t5 * 7 = 35\t5 * 8 = 40\t5 * 9 = 45\t"
          ]
        }
      ]
    },
    {
      "cell_type": "code",
      "source": [
        "# lst = [[], [], []]\n",
        "\n",
        "# 제공되는 데이터를 이중 루프구문을 이용하여\n",
        "# 행과 열의 값을 2차원 테이블 형태로 출력하시오.\n",
        "\n",
        "lst = [[1,2,3], [4,5,6,7], [8,9],[10,11,12,13,14]]\n",
        "\n",
        "for i in lst:\n",
        "  # print(i)\n",
        "  for j in i :\n",
        "    print(j, end= \"\\t\")\n",
        "  print()"
      ],
      "metadata": {
        "colab": {
          "base_uri": "https://localhost:8080/"
        },
        "id": "3492NnlBQeWr",
        "outputId": "0566b5d0-dd38-42d1-8bf6-649220b451d8"
      },
      "execution_count": null,
      "outputs": [
        {
          "output_type": "stream",
          "name": "stdout",
          "text": [
            "1\t2\t3\t\n",
            "4\t5\t6\t7\t\n",
            "8\t9\t\n",
            "10\t11\t12\t13\t14\t\n"
          ]
        }
      ]
    },
    {
      "cell_type": "code",
      "source": [
        "# 값이 아닌 인덱스를 가지고 꺼낸다.\n",
        "# range에 len의 함수를 이용하자.\n",
        "\n",
        "for i in range(len(lst)) :\n",
        "  # print(i)\n",
        "  for j in range(len(lst[i])) :\n",
        "    # print(j)\n",
        "    print(lst[i][j],end=\"\\t\")\n",
        "  print()"
      ],
      "metadata": {
        "colab": {
          "base_uri": "https://localhost:8080/"
        },
        "id": "TkzsoYrzQeaR",
        "outputId": "f9216452-0130-44da-e7f7-75caa588e95e"
      },
      "execution_count": null,
      "outputs": [
        {
          "output_type": "stream",
          "name": "stdout",
          "text": [
            "1\t2\t3\t\n",
            "4\t5\t6\t7\t\n",
            "8\t9\t\n",
            "10\t11\t12\t13\t14\t\n"
          ]
        }
      ]
    },
    {
      "cell_type": "code",
      "source": [
        "# 인덱스를 이용해서 9을 찾고\n",
        "# 9 밑에 있는 11의 값을 출력하시오.\n",
        "\n",
        "for i in range(len(lst)) :\n",
        "  for j in range(len(lst[i])) :\n",
        "    if lst[i][j] == 9 :\n",
        "      print('find-',lst[i+1][j])\n",
        "  print()\n",
        "\n",
        "  # 숫자 9는 lst[2][1]\n"
      ],
      "metadata": {
        "colab": {
          "base_uri": "https://localhost:8080/"
        },
        "id": "8Dkh3NZ6Y1wU",
        "outputId": "625ef712-77f0-4a9d-f18d-62b0b67f9881"
      },
      "execution_count": null,
      "outputs": [
        {
          "output_type": "stream",
          "name": "stdout",
          "text": [
            "\n",
            "\n",
            "find- 11\n",
            "\n",
            "\n"
          ]
        }
      ]
    },
    {
      "cell_type": "code",
      "source": [
        "# 문자열 루프구문\n",
        "str = 'siat'\n",
        "for char in str :\n",
        "  print(char, end=\"\\t\")\n",
        "print()\n",
        "for idx in range(len(str)) :\n",
        "  print(str[idx], end=\"\\t\")"
      ],
      "metadata": {
        "colab": {
          "base_uri": "https://localhost:8080/"
        },
        "id": "sO0j2Dh8Y11A",
        "outputId": "a43406f3-7405-454f-ea56-e7fbfe76fc6a"
      },
      "execution_count": null,
      "outputs": [
        {
          "output_type": "stream",
          "name": "stdout",
          "text": [
            "s\ti\ta\tt\t\n",
            "s\ti\ta\tt\t"
          ]
        }
      ]
    },
    {
      "cell_type": "code",
      "source": [
        "string = \\\n",
        "'''\n",
        "\n",
        "'''"
      ],
      "metadata": {
        "id": "ThNn5LOqY145"
      },
      "execution_count": null,
      "outputs": []
    },
    {
      "cell_type": "markdown",
      "source": [
        "여러 줄 문자열 생성: 여러 줄에 걸쳐 있는 텍스트를 하나의 문자열 변수에 담을 수 있습니다.\n",
        "\n",
        "줄 바꿈 유지: 문자열 내의 줄 바꿈이 그대로 유지됩니다"
      ],
      "metadata": {
        "id": "EUZueb4sikdR"
      }
    },
    {
      "cell_type": "code",
      "source": [
        "string = \\\n",
        "'''저는 파이썬을 공부하고 있는 은영입니다.\n",
        "주소는 서울 입니다.\n",
        "씨앗에서 교육중 입니다.'''\n",
        "\n",
        "print(string)"
      ],
      "metadata": {
        "colab": {
          "base_uri": "https://localhost:8080/"
        },
        "id": "rb_B72NveOWZ",
        "outputId": "c9fe674c-9758-47d3-e5a6-73b2f5e764d7"
      },
      "execution_count": null,
      "outputs": [
        {
          "output_type": "stream",
          "name": "stdout",
          "text": [
            "저는 파이썬을 공부하고 있는 은영입니다.\n",
            "주소는 서울 입니다.\n",
            "씨앗에서 교육중 입니다.\n"
          ]
        }
      ]
    },
    {
      "cell_type": "code",
      "source": [
        "#Quize\n",
        "# 주어진 문자열에서 문장과 단어를 출력하시오.\n",
        "# 문자의 갯수, 단어의 갯수도 출력\n",
        "# 출력예시) 문장들, 문장의 갯수\n",
        "# 출력예시) 단어들, 단어의 갯수\n",
        "# p 함수\n",
        "\n",
        "\n",
        "for sentence in string.split('\\n') :\n",
        "  print(sentence)\n",
        "\n",
        "print()\n",
        "\n",
        "for word in string.split(' ') :\n",
        "  print(word)\n",
        "\n",
        "\n",
        "\n",
        "\n",
        "\n",
        "\n",
        "\n"
      ],
      "metadata": {
        "colab": {
          "base_uri": "https://localhost:8080/"
        },
        "id": "VgI8e7QOeOtp",
        "outputId": "b6d4de10-95b8-4076-9a60-e331c1b51136"
      },
      "execution_count": null,
      "outputs": [
        {
          "output_type": "stream",
          "name": "stdout",
          "text": [
            "저는 파이썬을 공부하고 있는 은영입니다.\n",
            "주소는 서울 입니다.\n",
            "씨앗에서 교육중 입니다.\n",
            "\n",
            "저는\n",
            "파이썬을\n",
            "공부하고\n",
            "있는\n",
            "은영입니다.\n",
            "주소는\n",
            "서울\n",
            "입니다.\n",
            "씨앗에서\n",
            "교육중\n",
            "입니다.\n"
          ]
        }
      ]
    },
    {
      "cell_type": "code",
      "source": [
        "sentences = []\n",
        "words = []\n",
        "\n",
        "for sentence in string.split('\\n') : #줄바꿈을 기준으로 나눈다.\n",
        "  sentences.append(sentence)\n",
        "  for word in sentence.split(' ') : #공백을 기준으로 나눈다.\n",
        "    words.append(word)\n",
        "\n",
        "print((sentences),len(sentences))\n",
        "print((words),len(words))\n"
      ],
      "metadata": {
        "colab": {
          "base_uri": "https://localhost:8080/"
        },
        "id": "fK9cc4j4eO0K",
        "outputId": "9ef32299-ddad-4b02-824e-4a0e32ac6432"
      },
      "execution_count": null,
      "outputs": [
        {
          "output_type": "stream",
          "name": "stdout",
          "text": [
            "['저는 파이썬을 공부하고 있는 은영입니다.', '주소는 서울 입니다.', '씨앗에서 교육중 입니다.'] 3\n",
            "['저는', '파이썬을', '공부하고', '있는', '은영입니다.', '주소는', '서울', '입니다.', '씨앗에서', '교육중', '입니다.'] 11\n"
          ]
        }
      ]
    },
    {
      "cell_type": "code",
      "source": [
        "# quiz\n",
        "# 분류정확도를 구해보고싶다.\n",
        "# 주어진 두개의 변수를 이용해서 예측결과 %로 출력하시오.\n",
        "# 출력형식) 분류정확도는 60% 입니다.\n",
        "answer = [1,2,0,2,1,0,0,1,2,1]\n",
        "predict = [2,2,1,2,1,1,0,1,2,0]\n",
        "\n",
        "#answer 와 predict의 숫자를 각각 비교해서 true 인것만 출력\n",
        "\n",
        "for i in answer :\n",
        "  print (i,end=\"\\t\")\n",
        "\n",
        "print()\n",
        "for j in predict :\n",
        "  print (j,end=\"\\t\")\n",
        "\n",
        "    # if i == j :\n",
        "    #   print('true')\n",
        "    # else :\n",
        "    #   print('false')"
      ],
      "metadata": {
        "colab": {
          "base_uri": "https://localhost:8080/"
        },
        "id": "3R0iUNfiYPFU",
        "outputId": "62b6604e-74bb-483e-b247-5ebee69ce3fb"
      },
      "execution_count": null,
      "outputs": [
        {
          "output_type": "stream",
          "name": "stdout",
          "text": [
            "1\t2\t0\t2\t1\t0\t0\t1\t2\t1\t\n",
            "2\t2\t1\t2\t1\t1\t0\t1\t2\t0\t"
          ]
        }
      ]
    },
    {
      "cell_type": "code",
      "source": [
        "answer = [1,2,0,2,1,0,0,1,2,1]\n",
        "predict = [2,2,1,2,1,1,0,1,2,0]\n",
        "\n",
        "cnt= 0\n",
        "\n",
        "# answer[0] == predict[0]\n",
        "# answer[1] == predict[1]\n",
        "for idx in range(len(answer)) :\n",
        "  if answer[idx] == predict[idx] :\n",
        "    cnt += 1  #개수를 더해라.\n",
        "print()\n",
        "print('분류정확도는 {}% 입니다.'.format( cnt / len(answer) * 100))\n"
      ],
      "metadata": {
        "colab": {
          "base_uri": "https://localhost:8080/"
        },
        "id": "_UT2cc2Am8xC",
        "outputId": "11d4c1e0-5f80-461f-f1b9-2904c2e84dc5"
      },
      "execution_count": null,
      "outputs": [
        {
          "output_type": "stream",
          "name": "stdout",
          "text": [
            "\n",
            "분류정확도는 60.0% 입니다.\n"
          ]
        }
      ]
    },
    {
      "cell_type": "code",
      "source": [
        "# 루프 구문 (while~)\n",
        "# 구문형식)\n",
        "# while <expr> :\n",
        "#   <statement>\n",
        "#   조건의 변화가 있어야 한다."
      ],
      "metadata": {
        "id": "ztenvrcJm81g"
      },
      "execution_count": null,
      "outputs": []
    },
    {
      "cell_type": "code",
      "source": [
        "#quize\n",
        "# while 구문을 이용해서 '반복문'을 10번 출력하고 싶다면?\n",
        "\n",
        "cnt = 0\n",
        "while cnt < 10 :\n",
        "  print('반복문')\n",
        "  cnt += 1"
      ],
      "metadata": {
        "colab": {
          "base_uri": "https://localhost:8080/"
        },
        "id": "tmUA065EsGXl",
        "outputId": "4d6569a0-2f67-4fdc-845d-3f7799149c9a"
      },
      "execution_count": null,
      "outputs": [
        {
          "output_type": "stream",
          "name": "stdout",
          "text": [
            "반복문\n",
            "반복문\n",
            "반복문\n",
            "반복문\n",
            "반복문\n",
            "반복문\n",
            "반복문\n",
            "반복문\n",
            "반복문\n",
            "반복문\n"
          ]
        }
      ]
    },
    {
      "cell_type": "code",
      "source": [
        "# quize\n",
        "# while 구문을 데이터 출력\n",
        "lst = ['foo','bar','baz']\n",
        "while lst :\n",
        "  print(lst.pop(0))\n",
        "\n"
      ],
      "metadata": {
        "colab": {
          "base_uri": "https://localhost:8080/"
        },
        "id": "qMai5A0TsGb5",
        "outputId": "f6ab4431-876b-4e33-9a2d-f355b24607b4"
      },
      "execution_count": null,
      "outputs": [
        {
          "output_type": "stream",
          "name": "stdout",
          "text": [
            "foo\n",
            "bar\n",
            "baz\n"
          ]
        }
      ]
    },
    {
      "cell_type": "code",
      "source": [
        "lst = ['foo','bar','baz']\n",
        "idx = 0\n",
        "while idx < len(lst) :\n",
        "  print(lst[idx])\n",
        "  idx += 1"
      ],
      "metadata": {
        "colab": {
          "base_uri": "https://localhost:8080/"
        },
        "id": "rJKau3WAsGf4",
        "outputId": "6d750e57-3dcc-4fd7-d4b9-901ff0df158a"
      },
      "execution_count": null,
      "outputs": [
        {
          "output_type": "stream",
          "name": "stdout",
          "text": [
            "foo\n",
            "bar\n",
            "baz\n"
          ]
        }
      ]
    },
    {
      "cell_type": "code",
      "source": [
        "#quiz\n",
        "# 아래 구문을 이용해서 데이터를 출력한다면?\n",
        "lst = ['foo','bar','baz']\n",
        "isFlag = True\n",
        "while isFlag :\n",
        "\n",
        "  if not lst :\n",
        "    isFlag = False\n",
        "    break\n",
        "  print( lst.pop() )"
      ],
      "metadata": {
        "colab": {
          "base_uri": "https://localhost:8080/"
        },
        "id": "kkfp-dXDsGj5",
        "outputId": "3db745b2-ad6c-4324-8f88-46f9bca13541"
      },
      "execution_count": null,
      "outputs": [
        {
          "output_type": "stream",
          "name": "stdout",
          "text": [
            "baz\n",
            "bar\n",
            "foo\n"
          ]
        }
      ]
    },
    {
      "cell_type": "code",
      "source": [
        "lst = ['foo','bar','baz']\n",
        "isFlag = True\n",
        "while isFlag :\n",
        "  print( lst.pop() )\n",
        "  if not lst :\n",
        "    isFlag = False\n",
        "\n"
      ],
      "metadata": {
        "colab": {
          "base_uri": "https://localhost:8080/"
        },
        "id": "3XPI5A7BsGno",
        "outputId": "5bf95c31-d953-46f2-aeb5-422f05a8b72f"
      },
      "execution_count": null,
      "outputs": [
        {
          "output_type": "stream",
          "name": "stdout",
          "text": [
            "baz\n",
            "bar\n",
            "foo\n"
          ]
        }
      ]
    },
    {
      "cell_type": "code",
      "source": [
        "# while (break, coninue)\n",
        "# 0 ~ 9 까지 반복하면서\n",
        "# 3을 만나면 계속 반복하고\n",
        "# 6을 만나면 반복문을 탈출하여 현재까지 진행된 데이터를 출력하시오\n",
        "\n",
        "\n",
        "a = 0\n",
        "while a <= 9 :\n",
        "  print(a)\n",
        "  a += 1\n",
        "  if a == 3 :\n",
        "    continue\n",
        "  elif a == 6 :\n",
        "    break\n",
        "\n"
      ],
      "metadata": {
        "colab": {
          "base_uri": "https://localhost:8080/"
        },
        "id": "Z339QZp3sGr4",
        "outputId": "6bb18084-818d-4112-ca67-04477d718aed"
      },
      "execution_count": null,
      "outputs": [
        {
          "output_type": "stream",
          "name": "stdout",
          "text": [
            "0\n",
            "1\n",
            "2\n",
            "3\n",
            "4\n",
            "5\n"
          ]
        }
      ]
    },
    {
      "cell_type": "code",
      "source": [
        "a = 0\n",
        "while a <= 9 :\n",
        "  if a == 3 :\n",
        "    continue # 여기서 빠져서 while a <= 9 : 로 되돌아가기 때문에 무한루프가 된다.\n",
        "  print(a)\n",
        "  a += 1\n"
      ],
      "metadata": {
        "id": "SZmy9J9PsGwM"
      },
      "execution_count": null,
      "outputs": []
    },
    {
      "cell_type": "code",
      "source": [
        "a = 0\n",
        "while a <= 9 :\n",
        "  if a == 3 :\n",
        "    a += 1\n",
        "    continue\n",
        "  if a == 6 :\n",
        "    break\n",
        "  print(a)\n",
        "  a += 1"
      ],
      "metadata": {
        "colab": {
          "base_uri": "https://localhost:8080/"
        },
        "id": "aUI6Ayb6m85Y",
        "outputId": "70a11154-073b-42a9-f910-1a69846267e5"
      },
      "execution_count": null,
      "outputs": [
        {
          "output_type": "stream",
          "name": "stdout",
          "text": [
            "0\n",
            "1\n",
            "2\n",
            "4\n",
            "5\n"
          ]
        }
      ]
    },
    {
      "cell_type": "code",
      "source": [
        "# while ~ else\n",
        "# 리스트에 없는 데이터를 찾고자 할 때 '데이터가 없습니다' 메시지를 출력\n",
        "\n",
        "lst = ['foo','bar','baz']\n",
        "while idx < len(lst) :\n",
        "  if lst[idx] == 'cho' :\n",
        "    break\n",
        "  idx +=\n",
        "  print('데이터가 없습니다.')"
      ],
      "metadata": {
        "colab": {
          "base_uri": "https://localhost:8080/"
        },
        "id": "19eAW84G636F",
        "outputId": "b0707db1-06b9-473c-8130-70aca3510af5"
      },
      "execution_count": null,
      "outputs": [
        {
          "output_type": "stream",
          "name": "stdout",
          "text": [
            "데이터가 없습니다.\n"
          ]
        }
      ]
    },
    {
      "cell_type": "code",
      "source": [
        "\n",
        "\n",
        "lst = ['foo','bar','baz']\n",
        "while idx < len(lst) :\n",
        "  if lst[idx] == 'foo' : #조건틀\n",
        "    print('데이터를 찾았습니다.')\n",
        "    break\n",
        "  idx += 1 #증감\n",
        "else :\n",
        "  print('데이터가 없습니다.')\n",
        "\n",
        "# 3가지에 초점을 맞춰라.\n",
        "  #조건틀\n",
        "  #증감\n",
        "  #초기화"
      ],
      "metadata": {
        "colab": {
          "base_uri": "https://localhost:8080/"
        },
        "id": "3gi4HLP1m884",
        "outputId": "3aca6a8c-3fe7-4aff-c79a-899205c0e91a"
      },
      "execution_count": null,
      "outputs": [
        {
          "output_type": "stream",
          "name": "stdout",
          "text": [
            "데이터가 없습니다.\n"
          ]
        }
      ]
    },
    {
      "cell_type": "code",
      "source": [
        "\n",
        "lst = ['foo','bar','baz']\n",
        "idx = 0  #초기화\n",
        "while idx < len(lst) :\n",
        "  if lst[idx] == 'foo' : #조건틀\n",
        "    print('데이터를 찾았습니다.')\n",
        "    break\n",
        "  idx += 1 #증감\n",
        "else :\n",
        "  print('데이터가 없습니다.')"
      ],
      "metadata": {
        "colab": {
          "base_uri": "https://localhost:8080/"
        },
        "id": "MtaTxvK45RWK",
        "outputId": "83d6924f-aad5-4e85-df29-4f442a2135fa"
      },
      "execution_count": null,
      "outputs": [
        {
          "output_type": "stream",
          "name": "stdout",
          "text": [
            "데이터를 찾았습니다.\n"
          ]
        }
      ]
    },
    {
      "cell_type": "code",
      "source": [
        "# while 무한반복\n",
        "# input() 함수를 이용해서 숫자 입력받는다.\n",
        "# 입력받는 숫자의 값이 0이면 무한반복을 탈출하고\n",
        "# 입력된 숫자를 출력하시오.\n",
        "\n",
        "num = input (\"숫자 입력 : \")\n",
        "# print(num)\n",
        "while num :\n",
        "  if num == 0 :\n",
        "    break\n"
      ],
      "metadata": {
        "colab": {
          "base_uri": "https://localhost:8080/"
        },
        "id": "z9auJe_t5Rah",
        "outputId": "d557eddb-7868-410d-b09c-05144c8e8c8f"
      },
      "execution_count": null,
      "outputs": [
        {
          "output_type": "stream",
          "name": "stdout",
          "text": [
            "숫자 입력 : 50\n",
            "50\n"
          ]
        }
      ]
    },
    {
      "cell_type": "code",
      "source": [
        "while True :\n",
        "  num = int(input (\"숫자 입력 : \"))\n",
        "  if num == 0 :\n",
        "    break\n",
        "  else :\n",
        "    lst.append(num)\n",
        "print()\n",
        "print(lst)"
      ],
      "metadata": {
        "colab": {
          "base_uri": "https://localhost:8080/"
        },
        "id": "tBLESzHC5Rew",
        "outputId": "5859cd8c-a493-48a1-de9b-042c113eefe9"
      },
      "execution_count": null,
      "outputs": [
        {
          "output_type": "stream",
          "name": "stdout",
          "text": [
            "숫자 입력 : 50\n",
            "숫자 입력 : 60\n",
            "숫자 입력 : 10\n",
            "숫자 입력 : 0\n",
            "\n",
            "['foo', 'bar', 'baz', 50, 60, 10]\n"
          ]
        }
      ]
    },
    {
      "cell_type": "code",
      "source": [],
      "metadata": {
        "id": "NHWEggAD5Rjd"
      },
      "execution_count": null,
      "outputs": []
    },
    {
      "cell_type": "code",
      "source": [],
      "metadata": {
        "id": "ulea_TY35RnA"
      },
      "execution_count": null,
      "outputs": []
    },
    {
      "cell_type": "code",
      "source": [],
      "metadata": {
        "id": "l6bMwxXLm9BR"
      },
      "execution_count": null,
      "outputs": []
    },
    {
      "cell_type": "code",
      "source": [],
      "metadata": {
        "id": "izNTlEj-m9FI"
      },
      "execution_count": null,
      "outputs": []
    },
    {
      "cell_type": "code",
      "source": [],
      "metadata": {
        "id": "RzqQn5fwYPJT"
      },
      "execution_count": null,
      "outputs": []
    },
    {
      "cell_type": "code",
      "source": [],
      "metadata": {
        "id": "WG-t713AQedr"
      },
      "execution_count": null,
      "outputs": []
    },
    {
      "cell_type": "code",
      "source": [],
      "metadata": {
        "id": "bcf2jCSHQehE"
      },
      "execution_count": null,
      "outputs": []
    },
    {
      "cell_type": "code",
      "source": [],
      "metadata": {
        "id": "WnWbRh-zQej5"
      },
      "execution_count": null,
      "outputs": []
    },
    {
      "cell_type": "code",
      "source": [],
      "metadata": {
        "id": "0Tk0Ry3WQenN"
      },
      "execution_count": null,
      "outputs": []
    },
    {
      "cell_type": "code",
      "source": [],
      "metadata": {
        "id": "T00Moe07Qep5"
      },
      "execution_count": null,
      "outputs": []
    }
  ]
}
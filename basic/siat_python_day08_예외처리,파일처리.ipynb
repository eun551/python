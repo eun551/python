{
  "nbformat": 4,
  "nbformat_minor": 0,
  "metadata": {
    "colab": {
      "provenance": [],
      "authorship_tag": "ABX9TyN6A7e6X9dcpgl9WPdRi1ki",
      "include_colab_link": true
    },
    "kernelspec": {
      "name": "python3",
      "display_name": "Python 3"
    },
    "language_info": {
      "name": "python"
    }
  },
  "cells": [
    {
      "cell_type": "markdown",
      "metadata": {
        "id": "view-in-github",
        "colab_type": "text"
      },
      "source": [
        "<a href=\"https://colab.research.google.com/github/eun551/python/blob/main/basic/siat_python_day08_%EC%98%88%EC%99%B8%EC%B2%98%EB%A6%AC%2C%ED%8C%8C%EC%9D%BC%EC%B2%98%EB%A6%AC.ipynb\" target=\"_parent\"><img src=\"https://colab.research.google.com/assets/colab-badge.svg\" alt=\"Open In Colab\"/></a>"
      ]
    },
    {
      "cell_type": "markdown",
      "source": [
        "자바는 함수라는 개념이 없다. 다만 메서드 라는 개념이 있다.\n",
        "\n",
        "함수 <<< 모듈 <<< 패키지\n",
        "\n",
        "오류. 에러"
      ],
      "metadata": {
        "id": "RbqhkVLkcSGH"
      }
    },
    {
      "cell_type": "code",
      "source": [
        "# 예외란 ? 프로그램이 동작하면서 만나게 되는 예기치 못한 상황(soft error)\n",
        "# 예외처리\n",
        "# java - Exception\n",
        "# python - Error\n"
      ],
      "metadata": {
        "id": "R_MU7BHrh9JY"
      },
      "execution_count": null,
      "outputs": []
    },
    {
      "cell_type": "code",
      "source": [
        "print('error)\n",
        "\n",
        "#실행전 오류 : SyntaxError"
      ],
      "metadata": {
        "colab": {
          "base_uri": "https://localhost:8080/",
          "height": 110
        },
        "id": "jotgbjICh9M0",
        "outputId": "5286d31a-2e7b-4c9a-ac12-41b07feb972e"
      },
      "execution_count": null,
      "outputs": [
        {
          "output_type": "error",
          "ename": "SyntaxError",
          "evalue": "unterminated string literal (detected at line 1) (<ipython-input-2-2d9b282ffe2f>, line 1)",
          "traceback": [
            "\u001b[0;36m  File \u001b[0;32m\"<ipython-input-2-2d9b282ffe2f>\"\u001b[0;36m, line \u001b[0;32m1\u001b[0m\n\u001b[0;31m    print('error)\u001b[0m\n\u001b[0m          ^\u001b[0m\n\u001b[0;31mSyntaxError\u001b[0m\u001b[0;31m:\u001b[0m unterminated string literal (detected at line 1)\n"
          ]
        }
      ]
    },
    {
      "cell_type": "code",
      "source": [
        "print(100/0)\n",
        "# 개발자의 논리적인 오류"
      ],
      "metadata": {
        "colab": {
          "base_uri": "https://localhost:8080/",
          "height": 147
        },
        "id": "pJt96ATWh9Pz",
        "outputId": "4b1d6d1d-7b3f-4a83-d22b-e7b9eb4910e7"
      },
      "execution_count": null,
      "outputs": [
        {
          "output_type": "error",
          "ename": "ZeroDivisionError",
          "evalue": "division by zero",
          "traceback": [
            "\u001b[0;31m---------------------------------------------------------------------------\u001b[0m",
            "\u001b[0;31mZeroDivisionError\u001b[0m                         Traceback (most recent call last)",
            "\u001b[0;32m<ipython-input-3-5be59c97e00b>\u001b[0m in \u001b[0;36m<cell line: 0>\u001b[0;34m()\u001b[0m\n\u001b[0;32m----> 1\u001b[0;31m \u001b[0mprint\u001b[0m\u001b[0;34m(\u001b[0m\u001b[0;36m100\u001b[0m\u001b[0;34m/\u001b[0m\u001b[0;36m0\u001b[0m\u001b[0;34m)\u001b[0m\u001b[0;34m\u001b[0m\u001b[0;34m\u001b[0m\u001b[0m\n\u001b[0m",
            "\u001b[0;31mZeroDivisionError\u001b[0m: division by zero"
          ]
        }
      ]
    },
    {
      "cell_type": "code",
      "source": [
        "lst=[1,2,3]\n",
        "print(lst[1])\n",
        "print(lst[3])\n"
      ],
      "metadata": {
        "colab": {
          "base_uri": "https://localhost:8080/",
          "height": 201
        },
        "id": "S647NB-Wh9Sg",
        "outputId": "5563089c-b661-44b1-af12-713d511c5486"
      },
      "execution_count": null,
      "outputs": [
        {
          "output_type": "stream",
          "name": "stdout",
          "text": [
            "2\n"
          ]
        },
        {
          "output_type": "error",
          "ename": "IndexError",
          "evalue": "list index out of range",
          "traceback": [
            "\u001b[0;31m---------------------------------------------------------------------------\u001b[0m",
            "\u001b[0;31mIndexError\u001b[0m                                Traceback (most recent call last)",
            "\u001b[0;32m<ipython-input-7-312c99516044>\u001b[0m in \u001b[0;36m<cell line: 0>\u001b[0;34m()\u001b[0m\n\u001b[1;32m      1\u001b[0m \u001b[0mlst\u001b[0m\u001b[0;34m=\u001b[0m\u001b[0;34m[\u001b[0m\u001b[0;36m1\u001b[0m\u001b[0;34m,\u001b[0m\u001b[0;36m2\u001b[0m\u001b[0;34m,\u001b[0m\u001b[0;36m3\u001b[0m\u001b[0;34m]\u001b[0m\u001b[0;34m\u001b[0m\u001b[0;34m\u001b[0m\u001b[0m\n\u001b[1;32m      2\u001b[0m \u001b[0mprint\u001b[0m\u001b[0;34m(\u001b[0m\u001b[0mlst\u001b[0m\u001b[0;34m[\u001b[0m\u001b[0;36m1\u001b[0m\u001b[0;34m]\u001b[0m\u001b[0;34m)\u001b[0m\u001b[0;34m\u001b[0m\u001b[0;34m\u001b[0m\u001b[0m\n\u001b[0;32m----> 3\u001b[0;31m \u001b[0mprint\u001b[0m\u001b[0;34m(\u001b[0m\u001b[0mlst\u001b[0m\u001b[0;34m[\u001b[0m\u001b[0;36m3\u001b[0m\u001b[0;34m]\u001b[0m\u001b[0;34m)\u001b[0m\u001b[0;34m\u001b[0m\u001b[0;34m\u001b[0m\u001b[0m\n\u001b[0m",
            "\u001b[0;31mIndexError\u001b[0m: list index out of range"
          ]
        }
      ]
    },
    {
      "cell_type": "code",
      "source": [
        "selectedNum=int(input('숫자를 입력하세요 : '))\n",
        "print('selectedNumber :', selectedNum)\n",
        "print('programming exit')\n",
        "# 예기치 못한 상황"
      ],
      "metadata": {
        "colab": {
          "base_uri": "https://localhost:8080/",
          "height": 220
        },
        "id": "NsKj5huth9VQ",
        "outputId": "3bb5879d-5d1f-4b98-c42b-b7367f49c6d4"
      },
      "execution_count": null,
      "outputs": [
        {
          "name": "stdout",
          "output_type": "stream",
          "text": [
            "숫자를 입력하세요 : 강아지\n"
          ]
        },
        {
          "output_type": "error",
          "ename": "ValueError",
          "evalue": "invalid literal for int() with base 10: '강아지'",
          "traceback": [
            "\u001b[0;31m---------------------------------------------------------------------------\u001b[0m",
            "\u001b[0;31mValueError\u001b[0m                                Traceback (most recent call last)",
            "\u001b[0;32m<ipython-input-15-e510427d6518>\u001b[0m in \u001b[0;36m<cell line: 0>\u001b[0;34m()\u001b[0m\n\u001b[0;32m----> 1\u001b[0;31m \u001b[0mselectedNum\u001b[0m\u001b[0;34m=\u001b[0m\u001b[0mint\u001b[0m\u001b[0;34m(\u001b[0m\u001b[0minput\u001b[0m\u001b[0;34m(\u001b[0m\u001b[0;34m'숫자를 입력하세요 : '\u001b[0m\u001b[0;34m)\u001b[0m\u001b[0;34m)\u001b[0m\u001b[0;34m\u001b[0m\u001b[0;34m\u001b[0m\u001b[0m\n\u001b[0m\u001b[1;32m      2\u001b[0m \u001b[0mprint\u001b[0m\u001b[0;34m(\u001b[0m\u001b[0;34m'selectedNumber :'\u001b[0m\u001b[0;34m,\u001b[0m \u001b[0mselectedNum\u001b[0m\u001b[0;34m)\u001b[0m\u001b[0;34m\u001b[0m\u001b[0;34m\u001b[0m\u001b[0m\n\u001b[1;32m      3\u001b[0m \u001b[0mprint\u001b[0m\u001b[0;34m(\u001b[0m\u001b[0;34m'programming exit'\u001b[0m\u001b[0;34m)\u001b[0m\u001b[0;34m\u001b[0m\u001b[0;34m\u001b[0m\u001b[0m\n\u001b[1;32m      4\u001b[0m \u001b[0;31m# 예기치 못한 상황\u001b[0m\u001b[0;34m\u001b[0m\u001b[0;34m\u001b[0m\u001b[0m\n",
            "\u001b[0;31mValueError\u001b[0m: invalid literal for int() with base 10: '강아지'"
          ]
        }
      ]
    },
    {
      "cell_type": "code",
      "source": [
        "# 예외처리 구문\n",
        "'''\n",
        "try :\n",
        "  pass\n",
        "except 발생되는 예외객체 :\n",
        "  pass\n",
        "else :\n",
        "  psdd\n",
        "finally :\n",
        "  pass\n",
        "'''\n",
        "\n",
        "# 예외코드 알고 접근하는게 아니라 한대 맞는.....\n",
        "# try `예외가 발생될만한 코드 (발생위치)\n",
        "# except 예외가 발생됐을 때만 실행\n",
        "# else 예외가 발생하지 않았을 때 실행\n",
        "# finally 예외가 발생유무와 상관없이 수행되는 문장 (에러가 발생하든 발생하지 않든 나오게 하고 싶을 때)\n",
        "\n",
        "\n",
        "#자바는 try finally\n",
        "\n"
      ],
      "metadata": {
        "colab": {
          "base_uri": "https://localhost:8080/",
          "height": 35
        },
        "id": "7q5FR2a5j3pu",
        "outputId": "cb534c4b-3aa5-4f6b-8316-c1f5e621d1cc"
      },
      "execution_count": null,
      "outputs": [
        {
          "output_type": "execute_result",
          "data": {
            "text/plain": [
              "'\\ntry : \\n  pass\\nexcept 발생되는 예외객체 :\\n  pass\\nelse :\\n  psdd\\nfinally :\\n  pass\\n'"
            ],
            "application/vnd.google.colaboratory.intrinsic+json": {
              "type": "string"
            }
          },
          "metadata": {},
          "execution_count": 14
        }
      ]
    },
    {
      "cell_type": "markdown",
      "source": [
        "예외를 처리하는 방법을 알아야 한다.\n"
      ],
      "metadata": {
        "id": "s2gyQ5IjjXMZ"
      }
    },
    {
      "cell_type": "code",
      "source": [
        "try :\n",
        "  selectedNum=int(input('숫자를 입력하세요 : '))\n",
        "  print('selectedNumber :', selectedNum)\n",
        "\n",
        "except ValueError as e : #value라는 객체를 e라는 인수로 설정해놨다.\n",
        "  print('문자가 아닌 숫자만 입력해주세요.')\n",
        "else :\n",
        "  print('감사합니다.')\n",
        "finally :\n",
        "  print('programming exit')\n",
        "\n"
      ],
      "metadata": {
        "colab": {
          "base_uri": "https://localhost:8080/"
        },
        "id": "0Bi7FZ3djXPm",
        "outputId": "993b8118-3ee3-4eba-be39-5fcc0ae8725e"
      },
      "execution_count": null,
      "outputs": [
        {
          "output_type": "stream",
          "name": "stdout",
          "text": [
            "숫자를 입력하세요 : 연필\n",
            "문자가 아닌 숫자만 입력해주세요.\n",
            "programming exit\n"
          ]
        }
      ]
    },
    {
      "cell_type": "markdown",
      "source": [
        "else랑 finally는 꼭 써야 하는 건 아니다. 옵션이다.\n",
        "\n",
        "각각의 except를 걸어야 한다. 예외가 몇개 더 있을 경우. 10개 에러가 나면 10개를 다 적기엔 무리이기 때문에 상속을 쓴다.\n",
        "\n",
        "상속 (자식 잘못을 부모가 덮어준다.)\n",
        "\n",
        "index error, value, type 위가 esception\n"
      ],
      "metadata": {
        "id": "CAzjNEPCjXSk"
      }
    },
    {
      "cell_type": "code",
      "source": [
        "try :\n",
        "  selectedNum=int(input('숫자를 입력하세요 : '))\n",
        "  print('selectedNumber :', selectedNum)\n",
        "\n",
        "except exception as e : #value라는 객체를 e라는 인수로 설정해놨다.\n",
        "  print('문자가 아닌 숫자만 입력해주세요.')\n",
        "else :\n",
        "  print('감사합니다.')\n",
        "finally :\n",
        "  print('programming exit')"
      ],
      "metadata": {
        "id": "fn6RdT8ujXVc"
      },
      "execution_count": null,
      "outputs": []
    },
    {
      "cell_type": "code",
      "source": [
        "lst = [ '10','20','pen','30']\n",
        "\n",
        "result = [ ]\n",
        "\n",
        "for item in lst :\n",
        "  result.append(float(item))\n",
        "\n",
        "print('exit')"
      ],
      "metadata": {
        "colab": {
          "base_uri": "https://localhost:8080/",
          "height": 220
        },
        "id": "zojHyzfGjXY0",
        "outputId": "1c44ce88-269e-4cf3-a525-02c88ac3957c"
      },
      "execution_count": null,
      "outputs": [
        {
          "output_type": "error",
          "ename": "ValueError",
          "evalue": "could not convert string to float: 'pen'",
          "traceback": [
            "\u001b[0;31m---------------------------------------------------------------------------\u001b[0m",
            "\u001b[0;31mValueError\u001b[0m                                Traceback (most recent call last)",
            "\u001b[0;32m<ipython-input-22-c491c5c8e68d>\u001b[0m in \u001b[0;36m<cell line: 0>\u001b[0;34m()\u001b[0m\n\u001b[1;32m      4\u001b[0m \u001b[0;34m\u001b[0m\u001b[0m\n\u001b[1;32m      5\u001b[0m \u001b[0;32mfor\u001b[0m \u001b[0mitem\u001b[0m \u001b[0;32min\u001b[0m \u001b[0mlst\u001b[0m \u001b[0;34m:\u001b[0m\u001b[0;34m\u001b[0m\u001b[0;34m\u001b[0m\u001b[0m\n\u001b[0;32m----> 6\u001b[0;31m   \u001b[0mresult\u001b[0m\u001b[0;34m.\u001b[0m\u001b[0mappend\u001b[0m\u001b[0;34m(\u001b[0m\u001b[0mfloat\u001b[0m\u001b[0;34m(\u001b[0m\u001b[0mitem\u001b[0m\u001b[0;34m)\u001b[0m\u001b[0;34m)\u001b[0m\u001b[0;34m\u001b[0m\u001b[0;34m\u001b[0m\u001b[0m\n\u001b[0m\u001b[1;32m      7\u001b[0m \u001b[0;34m\u001b[0m\u001b[0m\n\u001b[1;32m      8\u001b[0m \u001b[0mprint\u001b[0m\u001b[0;34m(\u001b[0m\u001b[0;34m'exit'\u001b[0m\u001b[0;34m)\u001b[0m\u001b[0;34m\u001b[0m\u001b[0;34m\u001b[0m\u001b[0m\n",
            "\u001b[0;31mValueError\u001b[0m: could not convert string to float: 'pen'"
          ]
        }
      ]
    },
    {
      "cell_type": "code",
      "source": [
        "\n",
        "lst = [ '10','20','pen','30']\n",
        "result = [ ]\n",
        "\n",
        "try :\n",
        "  for item in lst :\n",
        "    result.append(float(item))\n",
        "\n",
        "except Exception as e :\n",
        "  print('예외발생')\n",
        "\n",
        "print(result)\n",
        "print('exit')"
      ],
      "metadata": {
        "colab": {
          "base_uri": "https://localhost:8080/"
        },
        "id": "x01Rk5SYvKwa",
        "outputId": "dd83bcbd-6ba8-42d3-af5c-be9906367a57"
      },
      "execution_count": null,
      "outputs": [
        {
          "output_type": "stream",
          "name": "stdout",
          "text": [
            "예외발생\n",
            "[10.0, 20.0]\n",
            "exit\n"
          ]
        }
      ]
    },
    {
      "cell_type": "code",
      "source": [
        "\n",
        "lst = [ '10','20','pen','30']\n",
        "result = [ ]\n",
        "\n",
        "\n",
        "for item in lst :\n",
        "  try :    # 어디에 넣는지에 따라서 결과가 달라진다.\n",
        "    result.append(float(item))\n",
        "  except Exception as e :\n",
        "    print('예외발생')\n",
        "\n",
        "print(result)\n",
        "print('exit')"
      ],
      "metadata": {
        "colab": {
          "base_uri": "https://localhost:8080/"
        },
        "id": "36k3aPmhvKzo",
        "outputId": "5eb1d21d-35eb-4e78-ee1c-88596d8332f6"
      },
      "execution_count": null,
      "outputs": [
        {
          "output_type": "stream",
          "name": "stdout",
          "text": [
            "예외발생\n",
            "[10.0, 20.0, 30.0]\n",
            "exit\n"
          ]
        }
      ]
    },
    {
      "cell_type": "code",
      "source": [
        "#quiz\n",
        "#아래 함수를 구현하시오.\n",
        "# input 함수를 이용해서 나이를 입력받고\n",
        "# 입력받은 나이를 출력하시오.\n",
        "\n",
        "def userInput():\n",
        "  age = int(input(\"나이를 입력 : \"))\n",
        "  print('your age is {} years old'.format(age))\n"
      ],
      "metadata": {
        "id": "wsZsE8hEvK2o"
      },
      "execution_count": null,
      "outputs": []
    },
    {
      "cell_type": "code",
      "source": [
        "# calling\n",
        "userInput()\n",
        "print('>>>exit<<<')"
      ],
      "metadata": {
        "colab": {
          "base_uri": "https://localhost:8080/",
          "height": 311
        },
        "id": "J_BxWQ_KvK5x",
        "outputId": "8a2ae41d-8a33-46c6-8ba8-4a9829605f6d"
      },
      "execution_count": null,
      "outputs": [
        {
          "name": "stdout",
          "output_type": "stream",
          "text": [
            "나이를 입력 : 폰\n"
          ]
        },
        {
          "output_type": "error",
          "ename": "ValueError",
          "evalue": "invalid literal for int() with base 10: '폰'",
          "traceback": [
            "\u001b[0;31m---------------------------------------------------------------------------\u001b[0m",
            "\u001b[0;31mValueError\u001b[0m                                Traceback (most recent call last)",
            "\u001b[0;32m<ipython-input-32-4a5869847cf9>\u001b[0m in \u001b[0;36m<cell line: 0>\u001b[0;34m()\u001b[0m\n\u001b[1;32m      1\u001b[0m \u001b[0;31m# calling\u001b[0m\u001b[0;34m\u001b[0m\u001b[0;34m\u001b[0m\u001b[0m\n\u001b[0;32m----> 2\u001b[0;31m \u001b[0muserInput\u001b[0m\u001b[0;34m(\u001b[0m\u001b[0;34m)\u001b[0m\u001b[0;34m\u001b[0m\u001b[0;34m\u001b[0m\u001b[0m\n\u001b[0m\u001b[1;32m      3\u001b[0m \u001b[0mprint\u001b[0m\u001b[0;34m(\u001b[0m\u001b[0;34m'>>>exit<<<'\u001b[0m\u001b[0;34m)\u001b[0m\u001b[0;34m\u001b[0m\u001b[0;34m\u001b[0m\u001b[0m\n",
            "\u001b[0;32m<ipython-input-30-065bf2a6eda8>\u001b[0m in \u001b[0;36muserInput\u001b[0;34m()\u001b[0m\n\u001b[1;32m      5\u001b[0m \u001b[0;34m\u001b[0m\u001b[0m\n\u001b[1;32m      6\u001b[0m \u001b[0;32mdef\u001b[0m \u001b[0muserInput\u001b[0m\u001b[0;34m(\u001b[0m\u001b[0;34m)\u001b[0m\u001b[0;34m:\u001b[0m\u001b[0;34m\u001b[0m\u001b[0;34m\u001b[0m\u001b[0m\n\u001b[0;32m----> 7\u001b[0;31m   \u001b[0mage\u001b[0m \u001b[0;34m=\u001b[0m \u001b[0mint\u001b[0m\u001b[0;34m(\u001b[0m\u001b[0minput\u001b[0m\u001b[0;34m(\u001b[0m\u001b[0;34m\"나이를 입력 : \"\u001b[0m\u001b[0;34m)\u001b[0m\u001b[0;34m)\u001b[0m\u001b[0;34m\u001b[0m\u001b[0;34m\u001b[0m\u001b[0m\n\u001b[0m\u001b[1;32m      8\u001b[0m   \u001b[0mprint\u001b[0m\u001b[0;34m(\u001b[0m\u001b[0;34m'your age is {} years old'\u001b[0m\u001b[0;34m.\u001b[0m\u001b[0mformat\u001b[0m\u001b[0;34m(\u001b[0m\u001b[0mage\u001b[0m\u001b[0;34m)\u001b[0m\u001b[0;34m)\u001b[0m\u001b[0;34m\u001b[0m\u001b[0;34m\u001b[0m\u001b[0m\n",
            "\u001b[0;31mValueError\u001b[0m: invalid literal for int() with base 10: '폰'"
          ]
        }
      ]
    },
    {
      "cell_type": "code",
      "source": [
        "def userInput():\n",
        "  try :\n",
        "    age = int(input(\"나이를 입력 : \"))\n",
        "    print('your age is {} years old'.format(age))\n",
        "  except ValueError as e :\n",
        "    print(\"숫자만 입력해주세요.\")\n"
      ],
      "metadata": {
        "id": "2C3D4kauvK83"
      },
      "execution_count": null,
      "outputs": []
    },
    {
      "cell_type": "code",
      "source": [
        "# calling\n",
        "userInput()\n",
        "print('>>>exit<<<')"
      ],
      "metadata": {
        "colab": {
          "base_uri": "https://localhost:8080/"
        },
        "id": "M-sRDUQ6vK_w",
        "outputId": "e2a9f702-11be-4c76-cbc9-4c2e011b5f55"
      },
      "execution_count": null,
      "outputs": [
        {
          "output_type": "stream",
          "name": "stdout",
          "text": [
            "나이를 입력 : 0\n",
            "your age is 0 years old\n",
            ">>>exit<<<\n"
          ]
        }
      ]
    },
    {
      "cell_type": "markdown",
      "source": [
        "xqi00a 클로바\n"
      ],
      "metadata": {
        "id": "lnRbvfHOvLC2"
      }
    },
    {
      "cell_type": "code",
      "source": [
        "def userInput():\n",
        "  age = 0\n",
        "  try :\n",
        "    age = int(input(\"나이를 입력 : \"))\n",
        "\n",
        "  except Exception as e :\n",
        "    userInput()\n",
        "  print('your age is {} years old'.format(age))\n"
      ],
      "metadata": {
        "id": "7pAAbm3jjXcR"
      },
      "execution_count": null,
      "outputs": []
    },
    {
      "cell_type": "code",
      "source": [
        "# calling\n",
        "userInput()\n",
        "print('>>>exit<<<')"
      ],
      "metadata": {
        "colab": {
          "base_uri": "https://localhost:8080/"
        },
        "id": "Lt-aWRHljXfs",
        "outputId": "14dd84a3-1d52-4390-d37e-eb2c2f50c7b5"
      },
      "execution_count": null,
      "outputs": [
        {
          "output_type": "stream",
          "name": "stdout",
          "text": [
            "나이를 입력 : 룩\n",
            "나이를 입력 : 50\n",
            "your age is 50 years old\n",
            "your age is 0 years old\n",
            ">>>exit<<<\n"
          ]
        }
      ]
    },
    {
      "cell_type": "code",
      "source": [
        "def userInput():\n",
        "\n",
        "  age = 0\n",
        "  try :\n",
        "    age = int(input(\"나이를 입력 : \"))\n",
        "\n",
        "  except Exception as e :\n",
        "    userInput()\n",
        "\n",
        "  else :\n",
        "    print('your age is {} years old'.format(age))"
      ],
      "metadata": {
        "id": "y1NXe4rD11NX"
      },
      "execution_count": null,
      "outputs": []
    },
    {
      "cell_type": "code",
      "source": [
        "# calling\n",
        "userInput()\n",
        "print('>>>exit<<<')"
      ],
      "metadata": {
        "id": "9EnNeZBM5Y8-"
      },
      "execution_count": null,
      "outputs": []
    },
    {
      "cell_type": "markdown",
      "source": [],
      "metadata": {
        "id": "YYi5fzp811GQ"
      }
    },
    {
      "cell_type": "code",
      "source": [
        "#quiz\n",
        "# 매개변수로 념겨 받은 각 첨자번지의 값에 제곱한 결과를 출력하려고 한다.\n",
        "# 예외 발생을 확인하고 예외처리 구문을 추가하여\n",
        "# 정상적인 흐름의 함수 호출이 되도록 만들어보시오.\n",
        "\n",
        "\n",
        "\n",
        "def listExceptFunc(userLst) :\n",
        "  result = []\n",
        "  # userLst[0]*userLst[0]\n",
        "  # userLst[1]*userLst[1]\n",
        "  # userLst[2]*userLst[2]\n",
        "  # userLst[3]*userLst[3]\n",
        "  for item in userLst :\n",
        "    result.append(float(item) ** 2)\n",
        "\n",
        "  result.append(item)"
      ],
      "metadata": {
        "id": "PLl73zgg5lv1"
      },
      "execution_count": null,
      "outputs": []
    },
    {
      "cell_type": "code",
      "source": [
        "# calling\n",
        "lst = [ '10','20','pen','30']\n",
        "listExceptFunc(lst)\n",
        "\n",
        "# 10* 10\n"
      ],
      "metadata": {
        "id": "LFlX9kTE5lzI"
      },
      "execution_count": null,
      "outputs": []
    },
    {
      "cell_type": "markdown",
      "source": [
        "선생님 강의"
      ],
      "metadata": {
        "id": "FHBg3IK15l1s"
      }
    },
    {
      "cell_type": "code",
      "source": [
        "#quiz\n",
        "# 매개변수로 념겨 받은 각 첨자번지의 값에 제곱한 결과를 출력하려고 한다.\n",
        "# 예외 발생을 확인하고 예외처리 구문을 추가하여\n",
        "# 정상적인 흐름의 함수 호출이 되도록 만들어보시오.\n",
        "\n",
        "\n",
        "\n",
        "def listExceptFunc(userLst) :\n",
        "  print('raw data -', userLst, type(userLst))\n",
        "  for data in userLst :\n",
        "    try :\n",
        "      print(int(data) ** 2 )\n",
        "    except Exception as e :\n",
        "      print(str(e))"
      ],
      "metadata": {
        "id": "LM7CK23h5l4V"
      },
      "execution_count": null,
      "outputs": []
    },
    {
      "cell_type": "code",
      "source": [
        "# calling\n",
        "lst = [ '10','20','pen','30']\n",
        "listExceptFunc(lst)\n"
      ],
      "metadata": {
        "colab": {
          "base_uri": "https://localhost:8080/"
        },
        "id": "bwN41ddL5l8S",
        "outputId": "3a110871-ac33-4b9c-c230-e68c45719c7f"
      },
      "execution_count": null,
      "outputs": [
        {
          "output_type": "stream",
          "name": "stdout",
          "text": [
            "raw data - ['10', '20', 'pen', '30'] <class 'list'>\n",
            "100\n",
            "400\n",
            "invalid literal for int() with base 10: 'pen'\n",
            "900\n"
          ]
        }
      ]
    },
    {
      "cell_type": "markdown",
      "source": [
        "391페이지\n",
        "3번째"
      ],
      "metadata": {
        "id": "b8jT1qss94ce"
      }
    },
    {
      "cell_type": "code",
      "source": [
        "def positiveDivide(x,y) :\n",
        "  pass #폭탄은 여기서 터지는게 아니라"
      ],
      "metadata": {
        "id": "5_DYkjuG96sG"
      },
      "execution_count": null,
      "outputs": []
    },
    {
      "cell_type": "code",
      "source": [
        "# calling\n",
        "result = positiveDivide(10,0) #폭탄은 여기서 터진다.\n",
        "print(result)\n",
        "print('>>>> exit <<<<')"
      ],
      "metadata": {
        "colab": {
          "base_uri": "https://localhost:8080/"
        },
        "id": "PyPMk44r-hlQ",
        "outputId": "55f0fa77-0c35-460b-fc70-2f6f52aa3371"
      },
      "execution_count": null,
      "outputs": [
        {
          "output_type": "stream",
          "name": "stdout",
          "text": [
            "None\n",
            ">>>> exit <<<<\n"
          ]
        }
      ]
    },
    {
      "cell_type": "code",
      "source": [
        "def positiveDivide(x,y) :\n",
        "  return x/ y"
      ],
      "metadata": {
        "id": "F8XTq10o-hpY"
      },
      "execution_count": null,
      "outputs": []
    },
    {
      "cell_type": "code",
      "source": [
        "# calling\n",
        "result = positiveDivide(10,0) #폭탄은 여기서 터진다. 아래 구문이 안 나온다.\n",
        "print(result)\n",
        "print('>>>> exit <<<<')"
      ],
      "metadata": {
        "colab": {
          "base_uri": "https://localhost:8080/",
          "height": 274
        },
        "id": "iLQf1hOu-htI",
        "outputId": "feb2b624-8881-478d-96dd-ce7e13d4ce2e"
      },
      "execution_count": null,
      "outputs": [
        {
          "output_type": "error",
          "ename": "ZeroDivisionError",
          "evalue": "division by zero",
          "traceback": [
            "\u001b[0;31m---------------------------------------------------------------------------\u001b[0m",
            "\u001b[0;31mZeroDivisionError\u001b[0m                         Traceback (most recent call last)",
            "\u001b[0;32m<ipython-input-81-4de0cf721565>\u001b[0m in \u001b[0;36m<cell line: 0>\u001b[0;34m()\u001b[0m\n\u001b[1;32m      1\u001b[0m \u001b[0;31m# calling\u001b[0m\u001b[0;34m\u001b[0m\u001b[0;34m\u001b[0m\u001b[0m\n\u001b[0;32m----> 2\u001b[0;31m \u001b[0mresult\u001b[0m \u001b[0;34m=\u001b[0m \u001b[0mpositiveDivide\u001b[0m\u001b[0;34m(\u001b[0m\u001b[0;36m10\u001b[0m\u001b[0;34m,\u001b[0m\u001b[0;36m0\u001b[0m\u001b[0;34m)\u001b[0m\u001b[0;34m\u001b[0m\u001b[0;34m\u001b[0m\u001b[0m\n\u001b[0m\u001b[1;32m      3\u001b[0m \u001b[0mprint\u001b[0m\u001b[0;34m(\u001b[0m\u001b[0mresult\u001b[0m\u001b[0;34m)\u001b[0m\u001b[0;34m\u001b[0m\u001b[0;34m\u001b[0m\u001b[0m\n\u001b[1;32m      4\u001b[0m \u001b[0mprint\u001b[0m\u001b[0;34m(\u001b[0m\u001b[0;34m'>>>> exit <<<<'\u001b[0m\u001b[0;34m)\u001b[0m\u001b[0;34m\u001b[0m\u001b[0;34m\u001b[0m\u001b[0m\n",
            "\u001b[0;32m<ipython-input-80-5410995778bd>\u001b[0m in \u001b[0;36mpositiveDivide\u001b[0;34m(x, y)\u001b[0m\n\u001b[1;32m      1\u001b[0m \u001b[0;32mdef\u001b[0m \u001b[0mpositiveDivide\u001b[0m\u001b[0;34m(\u001b[0m\u001b[0mx\u001b[0m\u001b[0;34m,\u001b[0m\u001b[0my\u001b[0m\u001b[0;34m)\u001b[0m \u001b[0;34m:\u001b[0m\u001b[0;34m\u001b[0m\u001b[0;34m\u001b[0m\u001b[0m\n\u001b[0;32m----> 2\u001b[0;31m   \u001b[0;32mreturn\u001b[0m \u001b[0mx\u001b[0m\u001b[0;34m/\u001b[0m \u001b[0my\u001b[0m\u001b[0;34m\u001b[0m\u001b[0;34m\u001b[0m\u001b[0m\n\u001b[0m",
            "\u001b[0;31mZeroDivisionError\u001b[0m: division by zero"
          ]
        }
      ]
    },
    {
      "cell_type": "code",
      "source": [
        "def positiveDivide(x,y) :\n",
        "  if(y <= 0):\n",
        "    raise ZeroDivisionError('0 또는 음수로 나눌 수 없습니다.') #예외를 만든다. 사용자 정의의\n",
        "  return x / y"
      ],
      "metadata": {
        "id": "cvaFv3uh-hw-"
      },
      "execution_count": null,
      "outputs": []
    },
    {
      "cell_type": "code",
      "source": [
        "# calling\n",
        "try :\n",
        "  result = positiveDivide(10,0)\n",
        "except Exception as e :\n",
        "  print(str(e))\n",
        "else :\n",
        "  print(result)\n",
        "finally :\n",
        "  print('>>>> exit <<<<')"
      ],
      "metadata": {
        "colab": {
          "base_uri": "https://localhost:8080/"
        },
        "id": "TJS3HTza-h1T",
        "outputId": "0fc7eced-48a3-44dc-b1e5-119a356e18d3"
      },
      "execution_count": null,
      "outputs": [
        {
          "output_type": "stream",
          "name": "stdout",
          "text": [
            "0 또는 음수로 나눌 수 없습니다.\n",
            ">>>> exit <<<<\n"
          ]
        }
      ]
    },
    {
      "cell_type": "code",
      "source": [
        "class UserException(Exception) :  #클래스도 만들 수 있다.  Exception 상속\n",
        "  def __init__(self,msg) : # __ 언더바 2개, 함수이므로 띄어줘야한다.\n",
        "    self.msg = msg\n",
        "\n",
        "def positiveDivide(x,y) :\n",
        "  if(y <= 0):\n",
        "    raise UserException('0 또는 음수로 나눌 수 없습니다.')\n",
        "  return x / y"
      ],
      "metadata": {
        "id": "Why9p9qGA4ug"
      },
      "execution_count": null,
      "outputs": []
    },
    {
      "cell_type": "code",
      "source": [
        "# calling\n",
        "try :\n",
        "  result = positiveDivide(10,0)\n",
        "except Exception as e :\n",
        "  print(str(e))\n",
        "else :\n",
        "  print(result)\n",
        "finally :\n",
        "  print('>>>> exit <<<<')"
      ],
      "metadata": {
        "id": "zykPzUC8G4R2"
      },
      "execution_count": null,
      "outputs": []
    },
    {
      "cell_type": "markdown",
      "source": [
        "326페이지 파일 처리 04\n",
        "\n",
        "open은 인코딩...\n",
        "\n",
        "왼쪽 폴더 아이콘 누르고 파일 생성후 더블클릭하면 오른쪽에 열린다."
      ],
      "metadata": {
        "id": "38ioDbGSA4yv"
      }
    },
    {
      "cell_type": "code",
      "source": [
        "# 파일처리\n",
        "# open(파일경로, 모드, 인코딩)"
      ],
      "metadata": {
        "id": "19YgySfcA45M"
      },
      "execution_count": null,
      "outputs": []
    },
    {
      "cell_type": "code",
      "source": [
        "# 파일 읽기\n",
        "file = open('greeting.txt','r',encoding='utf-8')\n",
        "print('type -', type(file))\n",
        "print(file)\n",
        "print(file.read())"
      ],
      "metadata": {
        "colab": {
          "base_uri": "https://localhost:8080/"
        },
        "id": "aL5slG3vA4-o",
        "outputId": "a57b60da-a061-4a8c-f874-f26f81982a67"
      },
      "execution_count": null,
      "outputs": [
        {
          "output_type": "stream",
          "name": "stdout",
          "text": [
            "type - <class '_io.TextIOWrapper'>\n",
            "<_io.TextIOWrapper name='greeting.txt' mode='r' encoding='utf-8'>\n",
            "오늘은 목요일입니다.\n",
            "파이썬이 내일이면 끝나요\n",
            "어려워서 멘탈이 나가요\n",
            "강사님은 잘 가르쳐 주고 있어요.\n"
          ]
        }
      ]
    },
    {
      "cell_type": "code",
      "source": [
        "# 파일 읽기 오류\n",
        "file = open('greeting.tx','r',encoding='utf-8')\n",
        "print('type -', type(file))\n",
        "print(file)\n",
        "print(file.read())"
      ],
      "metadata": {
        "colab": {
          "base_uri": "https://localhost:8080/",
          "height": 220
        },
        "id": "rba5fOLNLepw",
        "outputId": "c5dd9c86-8318-4b82-ae94-de30ab760cc6"
      },
      "execution_count": null,
      "outputs": [
        {
          "output_type": "error",
          "ename": "FileNotFoundError",
          "evalue": "[Errno 2] No such file or directory: 'greeting.tx'",
          "traceback": [
            "\u001b[0;31m---------------------------------------------------------------------------\u001b[0m",
            "\u001b[0;31mFileNotFoundError\u001b[0m                         Traceback (most recent call last)",
            "\u001b[0;32m<ipython-input-98-c1613512a016>\u001b[0m in \u001b[0;36m<cell line: 0>\u001b[0;34m()\u001b[0m\n\u001b[1;32m      1\u001b[0m \u001b[0;31m# 파일 읽기\u001b[0m\u001b[0;34m\u001b[0m\u001b[0;34m\u001b[0m\u001b[0m\n\u001b[0;32m----> 2\u001b[0;31m \u001b[0mfile\u001b[0m \u001b[0;34m=\u001b[0m \u001b[0mopen\u001b[0m\u001b[0;34m(\u001b[0m\u001b[0;34m'greeting.tx'\u001b[0m\u001b[0;34m,\u001b[0m\u001b[0;34m'r'\u001b[0m\u001b[0;34m,\u001b[0m\u001b[0mencoding\u001b[0m\u001b[0;34m=\u001b[0m\u001b[0;34m'utf-8'\u001b[0m\u001b[0;34m)\u001b[0m\u001b[0;34m\u001b[0m\u001b[0;34m\u001b[0m\u001b[0m\n\u001b[0m\u001b[1;32m      3\u001b[0m \u001b[0mprint\u001b[0m\u001b[0;34m(\u001b[0m\u001b[0;34m'type -'\u001b[0m\u001b[0;34m,\u001b[0m \u001b[0mtype\u001b[0m\u001b[0;34m(\u001b[0m\u001b[0mfile\u001b[0m\u001b[0;34m)\u001b[0m\u001b[0;34m)\u001b[0m\u001b[0;34m\u001b[0m\u001b[0;34m\u001b[0m\u001b[0m\n\u001b[1;32m      4\u001b[0m \u001b[0mprint\u001b[0m\u001b[0;34m(\u001b[0m\u001b[0mfile\u001b[0m\u001b[0;34m)\u001b[0m\u001b[0;34m\u001b[0m\u001b[0;34m\u001b[0m\u001b[0m\n\u001b[1;32m      5\u001b[0m \u001b[0mprint\u001b[0m\u001b[0;34m(\u001b[0m\u001b[0mfile\u001b[0m\u001b[0;34m.\u001b[0m\u001b[0mread\u001b[0m\u001b[0;34m(\u001b[0m\u001b[0;34m)\u001b[0m\u001b[0;34m)\u001b[0m\u001b[0;34m\u001b[0m\u001b[0;34m\u001b[0m\u001b[0m\n",
            "\u001b[0;31mFileNotFoundError\u001b[0m: [Errno 2] No such file or directory: 'greeting.tx'"
          ]
        }
      ]
    },
    {
      "cell_type": "code",
      "source": [
        "# input 함수를 이용해서\n",
        "# 사용자가 작성한 문자를 입력받고\n",
        "# lunch.txt 파일로 저장하려고 한다.\n",
        "# 사용자가 입력한 문자가 exit 이면 입력을 멈추고 종료한다."
      ],
      "metadata": {
        "id": "dhYCFGmsLrTx"
      },
      "execution_count": null,
      "outputs": []
    },
    {
      "cell_type": "markdown",
      "source": [
        "04-2"
      ],
      "metadata": {
        "id": "fH7DvQopNLhK"
      }
    },
    {
      "cell_type": "code",
      "source": [
        "def fileWriter() :\n",
        "  isFlag = True\n",
        "  #isFlag는 코드에서 반복문의 실행 여부를 제어하기 위해 사용되는 변수\n",
        "  #주로 while 문과 함께 사용되며, isFlag 값이 True이면 반복문이 계속 실행되고, False가 되면 반복문이 종료\n",
        "\n",
        "\n",
        "  while isFlag :\n",
        "    str = input('문자를 입력하세요 : ')\n",
        "    if str == 'exit' :\n",
        "      isFlag = False\n",
        "      break\n",
        "    else :\n",
        "      print(str)"
      ],
      "metadata": {
        "id": "tCIHdY7GLrYF"
      },
      "execution_count": null,
      "outputs": []
    },
    {
      "cell_type": "code",
      "source": [
        "#calling\n",
        "fileWriter()"
      ],
      "metadata": {
        "id": "5KwH2tgYLrcA"
      },
      "execution_count": null,
      "outputs": []
    },
    {
      "cell_type": "code",
      "source": [],
      "metadata": {
        "id": "ybQJ1h4HLrgh"
      },
      "execution_count": null,
      "outputs": []
    },
    {
      "cell_type": "code",
      "source": [
        "def fileWriter() :\n",
        "  isFlag = True\n",
        "  file = open('lunch.txt','w',encoding='utf-8')\n",
        "\n",
        "  while isFlag :\n",
        "    str = input('문자를 입력하세요 : ')\n",
        "    if str == 'exit' :\n",
        "      isFlag = False\n",
        "      break\n",
        "    else :\n",
        "      # print(str)\n",
        "      file.write(str+\"\\n\")"
      ],
      "metadata": {
        "id": "i6F41r-3LrkD"
      },
      "execution_count": null,
      "outputs": []
    },
    {
      "cell_type": "code",
      "source": [
        "#callingas\n",
        "fileWriter()  # 첫단어를 입력하니 왼쪽 파일에 lunch.txt가 생긴다."
      ],
      "metadata": {
        "colab": {
          "base_uri": "https://localhost:8080/"
        },
        "id": "FxYAUO97Lrrw",
        "outputId": "9aa29ca2-4232-4845-d06f-b8522c00ace0"
      },
      "execution_count": null,
      "outputs": [
        {
          "name": "stdout",
          "output_type": "stream",
          "text": [
            "문자를 입력하세요 : s\n",
            "문자를 입력하세요 : \n",
            "문자를 입력하세요 : s\n",
            "문자를 입력하세요 : a\n",
            "문자를 입력하세요 : exit\n"
          ]
        }
      ]
    },
    {
      "cell_type": "markdown",
      "source": [
        "음성 05"
      ],
      "metadata": {
        "id": "nfxzTOslj6Sq"
      }
    },
    {
      "cell_type": "code",
      "source": [
        "# open()\n",
        "# with open() as file :\n",
        "# 알아서 닫혀진다.\n",
        "#자동으로 파일객체를 닫아주기 때문에 자주 쓰는 구문이다.\n",
        "\n",
        "with open('greeting.txt','r') as file :\n",
        "  txt = file.read()\n",
        "  print('type -', type(txt))\n",
        "  print(txt)\n"
      ],
      "metadata": {
        "colab": {
          "base_uri": "https://localhost:8080/"
        },
        "id": "2uyfmWWmj6JU",
        "outputId": "be3e63df-2575-43d6-dd14-3ee787cdbb6e"
      },
      "execution_count": null,
      "outputs": [
        {
          "output_type": "stream",
          "name": "stdout",
          "text": [
            "type - <class 'str'>\n",
            "오늘은 목요일입니다.\n",
            "파이썬이 내일이면 끝나요\n",
            "어려워서 멘탈이 나가요\n",
            "강사님은 잘 가르쳐 주고 있어요.\n",
            "\n"
          ]
        }
      ]
    },
    {
      "cell_type": "code",
      "source": [
        "오늘은 목요일입니다.\n",
        "파이썬이 내일이면 끝나요\n",
        "어려워서 멘탈이 나가요\n",
        "강사님은 잘 가르쳐 주고 있어요."
      ],
      "metadata": {
        "id": "tASJ5tq_k_UF"
      },
      "execution_count": null,
      "outputs": []
    },
    {
      "cell_type": "code",
      "source": [
        "with open('greeting.txt','r') as file :\n",
        "  # txt = file.read()\n",
        "  txt = file.readline() # 한 줄\n",
        "  print('type -', type(txt))\n",
        "  print(txt)\n",
        "\n",
        "\n"
      ],
      "metadata": {
        "colab": {
          "base_uri": "https://localhost:8080/"
        },
        "id": "vyuP_Txxk_Xe",
        "outputId": "c4fc0f4e-7dc7-4af8-c59f-5b3322176487"
      },
      "execution_count": null,
      "outputs": [
        {
          "output_type": "stream",
          "name": "stdout",
          "text": [
            "type - <class 'str'>\n",
            "오늘은 목요일입니다.\n",
            "\n"
          ]
        }
      ]
    },
    {
      "cell_type": "code",
      "source": [
        "with open('greeting.txt','r') as file :\n",
        "  # txt = file.read()\n",
        "  txt = file.readlines() # 각각의 줄을 리스트로 반환\n",
        "  print('type -', type(txt))\n",
        "  print(txt)\n"
      ],
      "metadata": {
        "colab": {
          "base_uri": "https://localhost:8080/"
        },
        "id": "i3ogCRosk_Z-",
        "outputId": "c55f9290-07e3-4d2f-e033-e3d0c12d1f64"
      },
      "execution_count": null,
      "outputs": [
        {
          "output_type": "stream",
          "name": "stdout",
          "text": [
            "type - <class 'list'>\n",
            "['오늘은 목요일입니다.\\n', '파이썬이 내일이면 끝나요\\n', '어려워서 멘탈이 나가요\\n', '강사님은 잘 가르쳐 주고 있어요.\\n']\n"
          ]
        }
      ]
    },
    {
      "cell_type": "markdown",
      "source": [
        "read 를 쓰거나 readline을 쓰거나 readlines 세가지 방법"
      ],
      "metadata": {
        "id": "8vDznabtlhpO"
      }
    },
    {
      "cell_type": "markdown",
      "source": [
        "텍스트에 몇줄이 있는지 모른다.\n",
        "\n",
        "while 반복문을 사용\n",
        "\n",
        "read를 읽다가 마지막에 값이 없을 때 빠져나간다.\n"
      ],
      "metadata": {
        "id": "K_f_OeZwl1Xt"
      }
    },
    {
      "cell_type": "code",
      "source": [
        "with open('greeting.txt','r') as file :\n",
        "  # txt = file.read()\n",
        "  # txt = file.readline()\n",
        "  # txt = file.readlines()\n",
        "  line = None\n",
        "  # 처음에 아무것도 가지지 않도록 설정.\n",
        "  while line != '' :\n",
        "    # not = 은 같지 않으면 true\n",
        "    # line 변수가 빈 문자열 ' '  이 아닌 동안 반복한다. 파일에서 읽어온 줄이 있으면 계속 실행이 된다.\n",
        "\n",
        "    line = file.readline()\n",
        "    # print(line)\n",
        "    print(line.strip('\\n'))\n",
        "    #읽어온 줄의 끝에 있는 줄 바꿈 문자(\\n)를 제거합니다. 이렇게 하면 출력 시 줄이 두 번 띄어지는 것을 방지할 수 있습니다.\n"
      ],
      "metadata": {
        "colab": {
          "base_uri": "https://localhost:8080/"
        },
        "id": "khEaSzOLk_ct",
        "outputId": "5220d4eb-0da4-43f3-e393-f243502d4c09"
      },
      "execution_count": null,
      "outputs": [
        {
          "output_type": "stream",
          "name": "stdout",
          "text": [
            "오늘은 목요일입니다.\n",
            "파이썬이 내일이면 끝나요\n",
            "어려워서 멘탈이 나가요\n",
            "강사님은 잘 가르쳐 주고 있어요.\n",
            "\n"
          ]
        }
      ]
    },
    {
      "cell_type": "markdown",
      "source": [
        "------------------------------------"
      ],
      "metadata": {
        "id": "nkjNEyfr05ig"
      }
    },
    {
      "cell_type": "code",
      "source": [
        "# cnt_words.txt 파일을 읽어들인 후\n",
        "# 단어의 길이가 10 이하인 단어들만 카운팅 해 출력하시오.\n",
        "\n",
        "with open('cnt_words.txt','r') as file :\n",
        "  txt = file.read()\n",
        "  print(txt)\n",
        "  print()\n",
        "\n",
        "  words = txt.split()\n",
        "  print(word)\n",
        "  print()\n",
        "\n",
        "  count = 0\n",
        "  for word in words :\n",
        "    if len(word) <= 10 :\n",
        "      count += 1\n",
        "  print(count)"
      ],
      "metadata": {
        "colab": {
          "base_uri": "https://localhost:8080/"
        },
        "id": "Nhvxcyqpk_ff",
        "outputId": "b6eee2ed-b553-4840-cb71-67c7eff1d567"
      },
      "execution_count": null,
      "outputs": [
        {
          "output_type": "stream",
          "name": "stdout",
          "text": [
            "anonymously\n",
            "compatibility\n",
            "dashboard\n",
            "experience\n",
            "photography\n",
            "spotlight\n",
            "warehouse\n",
            "\n",
            "\n",
            "warehouse\n",
            "\n",
            "4\n"
          ]
        }
      ]
    },
    {
      "cell_type": "markdown",
      "source": [
        "함수"
      ],
      "metadata": {
        "id": "ZT87s6Mvp_6P"
      }
    },
    {
      "cell_type": "code",
      "source": [
        "def cntFunc(fileName) :\n",
        "  with open(fileName,'r') as file :\n",
        "    cnt = 0\n",
        "    for line in file :\n",
        "      # print(line)\n",
        "      if len(line.strip('\\n')) <= 10 :\n",
        "        cnt += 1\n",
        "    print('단어의 길이가 10 이하인 수는 {}입니다'.format(cnt))\n"
      ],
      "metadata": {
        "id": "AmKLvvxfqCIH"
      },
      "execution_count": null,
      "outputs": []
    },
    {
      "cell_type": "code",
      "source": [
        "cntFunc(\"cnt_words.txt\")"
      ],
      "metadata": {
        "colab": {
          "base_uri": "https://localhost:8080/"
        },
        "id": "BDenNazfqIsF",
        "outputId": "81e8cad0-e909-4eca-f142-e851541374df"
      },
      "execution_count": null,
      "outputs": [
        {
          "output_type": "stream",
          "name": "stdout",
          "text": [
            "단어의 길이가 10 이하인 수는 4입니다\n"
          ]
        }
      ]
    },
    {
      "cell_type": "markdown",
      "source": [
        "------------------------------------------------------\n",
        "06"
      ],
      "metadata": {
        "id": "djmPH5-5wCqx"
      }
    },
    {
      "cell_type": "code",
      "source": [
        "# special_words.txt 파일을 읽어들인 후\n",
        "# 단어의 문자로 'c' 포함된 단어를 출력한다면?\n",
        "\n",
        "\n",
        "# split 나누기 -> 리스트가 생긴다\n",
        "# 먼저 공백으로 나눈다.\n",
        "# 공백으로 나누면 , 와 . 포함한 단어로 나누어진다.\n",
        "# .과 , 제거 strip 함수\n",
        "# hint - strip(', .')\n",
        "\n"
      ],
      "metadata": {
        "id": "ZJ9A6UKCqIvr"
      },
      "execution_count": null,
      "outputs": []
    },
    {
      "cell_type": "code",
      "source": [
        "with open('special_words.txt','r') as file :\n",
        "  txt = file.read()\n",
        "  print(txt)\n",
        "  print()\n",
        "\n",
        "  words = txt.split()\n",
        "  print(words)\n",
        "  print()\n",
        "\n",
        "  word = [word.strip(',.') for word in words]\n",
        "  print(word)\n",
        "  print()\n",
        "\n",
        "  cWord = [word for word in word if 'c' in word]\n",
        "  print(cWord)\n",
        "\n"
      ],
      "metadata": {
        "colab": {
          "base_uri": "https://localhost:8080/"
        },
        "id": "W1Hk4oH7qI2d",
        "outputId": "aec41851-9b39-49cd-c1dc-118dc3118889"
      },
      "execution_count": null,
      "outputs": [
        {
          "output_type": "stream",
          "name": "stdout",
          "text": [
            "Fortunately, however, for the reputation of Asteroid B-612, a Turkish dictator made a law that his subjects, under pain of death, should change to European costume. So in 1920 the astronomer gave his demonstration all over again, dressed with impressive style and elegance. And this time everybody accepted his report.\n",
            "\n",
            "['Fortunately,', 'however,', 'for', 'the', 'reputation', 'of', 'Asteroid', 'B-612,', 'a', 'Turkish', 'dictator', 'made', 'a', 'law', 'that', 'his', 'subjects,', 'under', 'pain', 'of', 'death,', 'should', 'change', 'to', 'European', 'costume.', 'So', 'in', '1920', 'the', 'astronomer', 'gave', 'his', 'demonstration', 'all', 'over', 'again,', 'dressed', 'with', 'impressive', 'style', 'and', 'elegance.', 'And', 'this', 'time', 'everybody', 'accepted', 'his', 'report.']\n",
            "\n",
            "['Fortunately', 'however', 'for', 'the', 'reputation', 'of', 'Asteroid', 'B-612', 'a', 'Turkish', 'dictator', 'made', 'a', 'law', 'that', 'his', 'subjects', 'under', 'pain', 'of', 'death', 'should', 'change', 'to', 'European', 'costume', 'So', 'in', '1920', 'the', 'astronomer', 'gave', 'his', 'demonstration', 'all', 'over', 'again', 'dressed', 'with', 'impressive', 'style', 'and', 'elegance', 'And', 'this', 'time', 'everybody', 'accepted', 'his', 'report']\n",
            "\n",
            "['dictator', 'subjects', 'change', 'costume', 'elegance', 'accepted']\n"
          ]
        }
      ]
    },
    {
      "cell_type": "markdown",
      "source": [
        "함수"
      ],
      "metadata": {
        "id": "0Q5GQxjFzfmQ"
      }
    },
    {
      "cell_type": "code",
      "source": [
        "#1\n",
        "def includeCharFunc(fileName) :\n",
        "  with open(fileName,'r') as file :\n",
        "    lst = file.read().split()\n",
        "    print(lst)\n"
      ],
      "metadata": {
        "id": "bo0em3W4qI6F"
      },
      "execution_count": null,
      "outputs": []
    },
    {
      "cell_type": "code",
      "source": [
        "includeCharFunc('special_words.txt')"
      ],
      "metadata": {
        "colab": {
          "base_uri": "https://localhost:8080/"
        },
        "id": "-2haVxZzqI9q",
        "outputId": "80a7f8cc-2f81-45ef-9b13-9917b42e5d77"
      },
      "execution_count": null,
      "outputs": [
        {
          "output_type": "stream",
          "name": "stdout",
          "text": [
            "['Fortunately,', 'however,', 'for', 'the', 'reputation', 'of', 'Asteroid', 'B-612,', 'a', 'Turkish', 'dictator', 'made', 'a', 'law', 'that', 'his', 'subjects,', 'under', 'pain', 'of', 'death,', 'should', 'change', 'to', 'European', 'costume.', 'So', 'in', '1920', 'the', 'astronomer', 'gave', 'his', 'demonstration', 'all', 'over', 'again,', 'dressed', 'with', 'impressive', 'style', 'and', 'elegance.', 'And', 'this', 'time', 'everybody', 'accepted', 'his', 'report.']\n"
          ]
        }
      ]
    },
    {
      "cell_type": "code",
      "source": [
        "#2\n",
        "def includeCharFunc(fileName) :\n",
        "  with open(fileName,'r') as file :\n",
        "    lst = file.read().split()\n",
        "    lst = [str.strip(',.') for str in lst]\n",
        "    print(lst)"
      ],
      "metadata": {
        "id": "NDRRiwkdz5kj"
      },
      "execution_count": null,
      "outputs": []
    },
    {
      "cell_type": "code",
      "source": [
        "includeCharFunc('special_words.txt')"
      ],
      "metadata": {
        "colab": {
          "base_uri": "https://localhost:8080/"
        },
        "id": "tzYE7CERz5sS",
        "outputId": "414b3d3f-6382-4a6d-b466-0c8905663f63"
      },
      "execution_count": null,
      "outputs": [
        {
          "output_type": "stream",
          "name": "stdout",
          "text": [
            "['Fortunately', 'however', 'for', 'the', 'reputation', 'of', 'Asteroid', 'B-612', 'a', 'Turkish', 'dictator', 'made', 'a', 'law', 'that', 'his', 'subjects', 'under', 'pain', 'of', 'death', 'should', 'change', 'to', 'European', 'costume', 'So', 'in', '1920', 'the', 'astronomer', 'gave', 'his', 'demonstration', 'all', 'over', 'again', 'dressed', 'with', 'impressive', 'style', 'and', 'elegance', 'And', 'this', 'time', 'everybody', 'accepted', 'his', 'report']\n"
          ]
        }
      ]
    },
    {
      "cell_type": "code",
      "source": [
        "#3\n",
        "def includeCharFunc(fileName) :\n",
        "  with open(fileName,'r') as file :\n",
        "    lst = file.read().split()\n",
        "    lst = [str.strip(',.') for str in lst]\n",
        "    for word in lst :\n",
        "      if 'c' in word :\n",
        "        print(word)"
      ],
      "metadata": {
        "id": "nWEl3Wnfz5yc"
      },
      "execution_count": null,
      "outputs": []
    },
    {
      "cell_type": "code",
      "source": [
        "includeCharFunc('special_words.txt')"
      ],
      "metadata": {
        "colab": {
          "base_uri": "https://localhost:8080/"
        },
        "id": "Z7pz81Xkz56T",
        "outputId": "e54f2680-0360-4c47-c0bf-9bdf17a95f0a"
      },
      "execution_count": null,
      "outputs": [
        {
          "output_type": "stream",
          "name": "stdout",
          "text": [
            "dictator\n",
            "subjects\n",
            "change\n",
            "costume\n",
            "elegance\n",
            "accepted\n"
          ]
        }
      ]
    },
    {
      "cell_type": "markdown",
      "source": [
        "---\n",
        "우편번호     특별시     구      동    \n",
        "\n",
        "\n"
      ],
      "metadata": {
        "id": "gve4Vj2y0_J9"
      }
    },
    {
      "cell_type": "code",
      "source": [
        "# zipcode.txt\n",
        "# input() 함수를 이용해서 동 이름을 입력받아\n",
        "# 예) 개포\n",
        "# 해당 동의 주소를 출력하는 함수를 정의한다.\n",
        "\n",
        "def searchAddr():\n",
        "  pass"
      ],
      "metadata": {
        "id": "2N-YjxED1CPg"
      },
      "execution_count": null,
      "outputs": []
    },
    {
      "cell_type": "code",
      "source": [
        "lst = searchAddr\n",
        "print(lst)"
      ],
      "metadata": {
        "id": "gvLtuwpf2VhS"
      },
      "execution_count": null,
      "outputs": []
    },
    {
      "cell_type": "code",
      "source": [
        "dong = input(\"동을 입력하세요 : \")\n",
        "print(dong)\n",
        "print()\n",
        "#그러면 입력받은 동이 포함되어 있는 셀을 찾는다.\n",
        "\n",
        "address = searchAddr(dong)\n",
        "if address :\n",
        "  print(\"주소 :\",address)\n",
        "else:\n",
        "  print('{} 동에 대한 주소를 찾을 수 없습니다.'.format(dong))\n",
        "print(adrress)"
      ],
      "metadata": {
        "colab": {
          "base_uri": "https://localhost:8080/",
          "height": 274
        },
        "id": "D_UF6EcV2oa0",
        "outputId": "18e1eef1-0cef-4962-aec9-8c23c4a3c1cc"
      },
      "execution_count": null,
      "outputs": [
        {
          "output_type": "stream",
          "name": "stdout",
          "text": [
            "동을 입력하세요 : 개포\n",
            "개포\n",
            "\n"
          ]
        },
        {
          "output_type": "error",
          "ename": "TypeError",
          "evalue": "searchAddr() takes 0 positional arguments but 1 was given",
          "traceback": [
            "\u001b[0;31m---------------------------------------------------------------------------\u001b[0m",
            "\u001b[0;31mTypeError\u001b[0m                                 Traceback (most recent call last)",
            "\u001b[0;32m<ipython-input-77-6db8b050b635>\u001b[0m in \u001b[0;36m<cell line: 0>\u001b[0;34m()\u001b[0m\n\u001b[1;32m      4\u001b[0m \u001b[0;31m#그러면 입력받은 동이 포함되어 있는 셀을 찾는다.\u001b[0m\u001b[0;34m\u001b[0m\u001b[0;34m\u001b[0m\u001b[0m\n\u001b[1;32m      5\u001b[0m \u001b[0;34m\u001b[0m\u001b[0m\n\u001b[0;32m----> 6\u001b[0;31m \u001b[0maddress\u001b[0m \u001b[0;34m=\u001b[0m \u001b[0msearchAddr\u001b[0m\u001b[0;34m(\u001b[0m\u001b[0mdong\u001b[0m\u001b[0;34m)\u001b[0m\u001b[0;34m\u001b[0m\u001b[0;34m\u001b[0m\u001b[0m\n\u001b[0m\u001b[1;32m      7\u001b[0m \u001b[0;32mif\u001b[0m \u001b[0maddress\u001b[0m \u001b[0;34m:\u001b[0m\u001b[0;34m\u001b[0m\u001b[0;34m\u001b[0m\u001b[0m\n\u001b[1;32m      8\u001b[0m   \u001b[0mprint\u001b[0m\u001b[0;34m(\u001b[0m\u001b[0;34m\"주소 :\"\u001b[0m\u001b[0;34m,\u001b[0m\u001b[0maddress\u001b[0m\u001b[0;34m)\u001b[0m\u001b[0;34m\u001b[0m\u001b[0;34m\u001b[0m\u001b[0m\n",
            "\u001b[0;31mTypeError\u001b[0m: searchAddr() takes 0 positional arguments but 1 was given"
          ]
        }
      ]
    },
    {
      "cell_type": "code",
      "source": [
        "#1\n",
        "def searchAddr() :\n",
        "  dong = input(\"동을 입력하세요 : \")\n",
        "  print('debug - ', dong)\n",
        "  try :\n",
        "    pass\n",
        "  except Exception as e :\n",
        "    print(\"입력하신 동을 찾을 수 없습니다.\")\n",
        "\n"
      ],
      "metadata": {
        "id": "cqdb0rWi2oZS"
      },
      "execution_count": null,
      "outputs": []
    },
    {
      "cell_type": "code",
      "source": [
        "lst = searchAddr()\n",
        "print(lst)"
      ],
      "metadata": {
        "colab": {
          "base_uri": "https://localhost:8080/"
        },
        "id": "l4epU4cu2oXD",
        "outputId": "c75b70e8-67b8-4a1b-f006-9775c758d4e4"
      },
      "execution_count": null,
      "outputs": [
        {
          "output_type": "stream",
          "name": "stdout",
          "text": [
            "동을 입력하세요 : 개포\n",
            "debug -  개포\n",
            "None\n"
          ]
        }
      ]
    },
    {
      "cell_type": "code",
      "source": [
        "#2\n",
        "def searchAddr() :\n",
        "  dong = input(\"동을 입력하세요 : \")\n",
        "  print('debug - ', dong)\n",
        "  try :\n",
        "    with open('zipcode.txt','r') as file :\n",
        "  except Exception as e :\n",
        "    print(\"입력하신 동을 찾을 수 없습니다.\")\n"
      ],
      "metadata": {
        "id": "rYMxLeDE2oQn"
      },
      "execution_count": null,
      "outputs": []
    },
    {
      "cell_type": "markdown",
      "source": [
        "공백으로 나눠볼까?\n",
        "split을 하면 리스트가 된다.\n",
        "그리고 인덱스 2번째에서 개포로 시작하는... 동으로 끝나는..."
      ],
      "metadata": {
        "id": "y2mkBLyB2oTq"
      }
    },
    {
      "cell_type": "code",
      "source": [
        "#3\n",
        "def searchAddr() :\n",
        "  dong = input(\"동을 입력하세요 : \")\n",
        "  print('debug - ', dong)\n",
        "  try :\n",
        "    with open('zipcode.txt','r') as file :\n",
        "      line = file.readline() #str\n",
        "      while line :\n",
        "        address = line.split()\n",
        "        # 라인이 가지고 있는 공백을 이용해서 주소를 가져온다.\n",
        "        # 리스트로 나온다.\n",
        "        # if address[3] == dong :\n",
        "        if address[3].startwith(dong) :\n",
        "          pass\n",
        "  except Exception as e :\n",
        "    print(\"입력하신 동을 찾을 수 없습니다.\")\n"
      ],
      "metadata": {
        "id": "9y1HjwF22oOO"
      },
      "execution_count": null,
      "outputs": []
    },
    {
      "cell_type": "code",
      "source": [
        "#4\n",
        "def searchAddr() :\n",
        "  dong = input(\"동을 입력하세요 : \")\n",
        "  print('debug - ', dong)\n",
        "  result = []\n",
        "  try :\n",
        "    with open('zipcode.txt','r') as file :\n",
        "      line = file.readline()\n",
        "      while line :\n",
        "        address = line.split()\n",
        "        if address[3].startswith(dong) :\n",
        "          #result = address  하면 리스트 안에 리스트가 담아진다.\n",
        "          result = line\n",
        "        line = file.readline() #조건의 변화가 없으면 무한 루프\n",
        "  except Exception as e :\n",
        "    print(\"입력하신 동을 찾을 수 없습니다.\")\n",
        "\n",
        "  return result"
      ],
      "metadata": {
        "id": "syIYj6Jh2oLZ"
      },
      "execution_count": null,
      "outputs": []
    },
    {
      "cell_type": "code",
      "source": [
        "lst = searchAddr()\n",
        "print(lst)"
      ],
      "metadata": {
        "colab": {
          "base_uri": "https://localhost:8080/"
        },
        "id": "SgTu-Fs02oIy",
        "outputId": "d981d102-d198-47da-daa7-e9b39831e106"
      },
      "execution_count": null,
      "outputs": [
        {
          "output_type": "stream",
          "name": "stdout",
          "text": [
            "동을 입력하세요 : 개포\n",
            "debug -  개포\n",
            "757-920\t경북\t예천군\t개포면\t\t38485\n",
            "\n"
          ]
        }
      ]
    },
    {
      "cell_type": "code",
      "source": [
        "#5\n",
        "def searchAddr() :\n",
        "  dong = input(\"동을 입력하세요 : \")\n",
        "  print('debug - ', dong)\n",
        "  result = []\n",
        "  try :\n",
        "    with open('zipcode.txt','r') as file :\n",
        "      line = file.readline()\n",
        "      while line :\n",
        "        address = line.split()\n",
        "        if address[3].startswith(dong) :\n",
        "          result.append(line)\n",
        "        line = file.readline()\n",
        "  except Exception as e :\n",
        "    print(\"입력하신 동을 찾을 수 없습니다.\")\n",
        "\n",
        "  return result"
      ],
      "metadata": {
        "id": "_w6i8Hr2sPdE"
      },
      "execution_count": null,
      "outputs": []
    },
    {
      "cell_type": "code",
      "source": [
        "lst = searchAddr()\n",
        "print(lst) #리스트 형식"
      ],
      "metadata": {
        "colab": {
          "base_uri": "https://localhost:8080/"
        },
        "id": "bZ2GvRAQsPf_",
        "outputId": "587f333b-fac3-4825-eafc-a40106e99dae"
      },
      "execution_count": null,
      "outputs": [
        {
          "output_type": "stream",
          "name": "stdout",
          "text": [
            "동을 입력하세요 : 개포\n",
            "debug -  개포\n",
            "['135-806\\t서울\\t강남구\\t개포1동 경남아파트\\t\\t1\\n', '135-807\\t서울\\t강남구\\t개포1동 우성3차아파트\\t(1∼6동)\\t2\\n', '135-806\\t서울\\t강남구\\t개포1동 우성9차아파트\\t(901∼902동)\\t3\\n', '135-770\\t서울\\t강남구\\t개포1동 주공아파트\\t(1∼16동)\\t4\\n', '135-805\\t서울\\t강남구\\t개포1동 주공아파트\\t(17∼40동)\\t5\\n', '135-966\\t서울\\t강남구\\t개포1동 주공아파트\\t(41∼85동)\\t6\\n', '135-807\\t서울\\t강남구\\t개포1동 주공아파트\\t(86∼103동)\\t7\\n', '135-805\\t서울\\t강남구\\t개포1동 주공아파트\\t(104∼125동)\\t8\\n', '135-807\\t서울\\t강남구\\t개포1동 현대1차아파트\\t(101∼106동)\\t9\\n', '135-805\\t서울\\t강남구\\t개포1동\\t565\\t10\\n', '135-806\\t서울\\t강남구\\t개포1동\\t649∼651\\t11\\n', '135-807\\t서울\\t강남구\\t개포1동\\t652∼653\\t12\\n', '135-810\\t서울\\t강남구\\t개포1동\\t660\\t13\\n', '135-241\\t서울\\t강남구\\t개포1동\\t\\t14\\n', '135-800\\t서울\\t강남구\\t개포2동 우성8차아파트\\t(801∼803동)\\t15\\n', '135-771\\t서울\\t강남구\\t개포2동 주공아파트\\t(201∼232동)\\t16\\n', '135-800\\t서울\\t강남구\\t개포2동 주공아파트\\t(301∼325동)\\t17\\n', '135-772\\t서울\\t강남구\\t개포2동 주공아파트\\t(401∼415동)\\t18\\n', '135-800\\t서울\\t강남구\\t개포2동 주공아파트\\t(416∼458동)\\t19\\n', '135-992\\t서울\\t강남구\\t개포2동 주공아파트\\t(501∼506동)\\t20\\n', '135-993\\t서울\\t강남구\\t개포2동 주공아파트\\t(601∼609동)\\t21\\n', '135-993\\t서울\\t강남구\\t개포2동 주공아파트\\t(701∼708동)\\t22\\n', '135-800\\t서울\\t강남구\\t개포2동 현대3차아파트\\t(1∼5동)\\t23\\n', '135-800\\t서울\\t강남구\\t개포2동\\t94∼108\\t24\\n', '135-801\\t서울\\t강남구\\t개포2동\\t138\\t25\\n', '135-802\\t서울\\t강남구\\t개포2동\\t139∼140\\t26\\n', '135-800\\t서울\\t강남구\\t개포2동\\t152∼156\\t27\\n', '135-802\\t서울\\t강남구\\t개포2동\\t157∼169\\t28\\n', '135-800\\t서울\\t강남구\\t개포2동\\t170∼177\\t29\\n', '135-803\\t서울\\t강남구\\t개포2동\\t178\\t30\\n', '135-800\\t서울\\t강남구\\t개포2동\\t179∼180\\t31\\n', '135-993\\t서울\\t강남구\\t개포2동\\t181∼185\\t32\\n', '135-994\\t서울\\t강남구\\t개포2동\\t186∼187\\t33\\n', '135-804\\t서울\\t강남구\\t개포2동\\t188∼189\\t34\\n', '135-242\\t서울\\t강남구\\t개포2동\\t\\t35\\n', '135-773\\t서울\\t강남구\\t개포4동 시영아파트\\t(1∼25동)\\t36\\n', '135-809\\t서울\\t강남구\\t개포4동 시영아파트\\t(26∼30동)\\t37\\n', '135-809\\t서울\\t강남구\\t개포4동 우성6차아파트\\t(1∼8동)\\t38\\n', '135-808\\t서울\\t강남구\\t개포4동 현대2차아파트\\t(200∼220동)\\t39\\n', '135-808\\t서울\\t강남구\\t개포4동\\t654∼656\\t40\\n', '135-809\\t서울\\t강남구\\t개포4동\\t658\\t41\\n', '135-960\\t서울\\t강남구\\t개포4동\\t1055\\t42\\n', '135-960\\t서울\\t강남구\\t개포4동\\t1057\\t43\\n', '135-960\\t서울\\t강남구\\t개포4동\\t1163∼1166\\t44\\n', '135-961\\t서울\\t강남구\\t개포4동\\t1167∼1189\\t45\\n', '135-962\\t서울\\t강남구\\t개포4동\\t1190∼1218\\t46\\n', '135-963\\t서울\\t강남구\\t개포4동\\t1219∼1228\\t47\\n', '135-964\\t서울\\t강남구\\t개포4동\\t1229∼1243\\t48\\n', '135-965\\t서울\\t강남구\\t개포4동\\t1244∼1268\\t49\\n', '135-961\\t서울\\t강남구\\t개포4동\\t1271\\t50\\n', '135-962\\t서울\\t강남구\\t개포4동\\t1272\\t51\\n', '135-961\\t서울\\t강남구\\t개포4동\\t1273∼1274\\t52\\n', '135-244\\t서울\\t강남구\\t개포4동\\t\\t53\\n', '135-543\\t서울\\t강남구\\t개포동 LG자이아파트\\t(101∼104동)\\t54\\n', '135-988\\t서울\\t강남구\\t개포동 SH공사\\t\\t55\\n', '135-940\\t서울\\t강남구\\t개포동 대청아파트\\t\\t56\\n', '135-989\\t서울\\t강남구\\t개포동 대청타워\\t\\t57\\n', '135-797\\t서울\\t강남구\\t개포동 대치아파트\\t(101∼108동)\\t58\\n', '135-544\\t서울\\t강남구\\t개포동 대치아파트\\t(209∼219동)\\t59\\n', '135-240\\t서울\\t강남구\\t개포동 서울강남우체국\\t\\t60\\n', '135-939\\t서울\\t강남구\\t개포동 서울수서경찰서\\t\\t61\\n', '135-939\\t서울\\t강남구\\t개포동\\t12∼14\\t62\\n', '135-940\\t서울\\t강남구\\t개포동\\t18\\t63\\n', '135-240\\t서울\\t강남구\\t개포동\\t\\t64\\n', '757-921\\t경북\\t예천군\\t개포면 가곡리\\t\\t38473\\n', '757-922\\t경북\\t예천군\\t개포면 갈마리\\t\\t38474\\n', '757-923\\t경북\\t예천군\\t개포면 경진리\\t\\t38475\\n', '757-923\\t경북\\t예천군\\t개포면 금리\\t\\t38476\\n', '757-923\\t경북\\t예천군\\t개포면 동송리\\t\\t38477\\n', '757-921\\t경북\\t예천군\\t개포면 신음리\\t\\t38478\\n', '757-923\\t경북\\t예천군\\t개포면 우감리\\t\\t38479\\n', '757-923\\t경북\\t예천군\\t개포면 이사리\\t\\t38480\\n', '757-922\\t경북\\t예천군\\t개포면 입암리\\t\\t38481\\n', '757-922\\t경북\\t예천군\\t개포면 장송리\\t\\t38482\\n', '757-922\\t경북\\t예천군\\t개포면 풍정리\\t\\t38483\\n', '757-922\\t경북\\t예천군\\t개포면 황산리\\t\\t38484\\n', '757-920\\t경북\\t예천군\\t개포면\\t\\t38485\\n']\n"
          ]
        }
      ]
    },
    {
      "cell_type": "code",
      "source": [
        "#6\n",
        "def searchAddr() :\n",
        "  dong = input(\"동을 입력하세요 : \")\n",
        "  print('debug - ', dong)\n",
        "  result = []\n",
        "  try :\n",
        "    with open('zipcode.txt','r') as file :\n",
        "      line = file.readline()\n",
        "      while line :\n",
        "        address = line.split()\n",
        "        if address[3].startswith(dong) :\n",
        "          # 이렇게 하니 개포면도 나온다.\n",
        "          result.append(line)\n",
        "        line = file.readline()\n",
        "  except Exception as e :\n",
        "    print(\"입력하신 동을 찾을 수 없습니다.\")\n",
        "\n",
        "  return result"
      ],
      "metadata": {
        "id": "NSKsCYDGsPjL"
      },
      "execution_count": null,
      "outputs": []
    },
    {
      "cell_type": "code",
      "source": [
        "lst = searchAddr()\n",
        "for addr in lst :\n",
        "  print(addr) # 목록의 각 요소를 별도의 줄에 개별적으로 인쇄\n",
        "\n"
      ],
      "metadata": {
        "colab": {
          "base_uri": "https://localhost:8080/"
        },
        "id": "Ewe-_y1CsPmE",
        "outputId": "47733529-8c89-4041-abb0-a508af3e2ce2"
      },
      "execution_count": null,
      "outputs": [
        {
          "output_type": "stream",
          "name": "stdout",
          "text": [
            "동을 입력하세요 : 개포\n",
            "debug -  개포\n",
            "135-806\t서울\t강남구\t개포1동 경남아파트\t\t1\n",
            "\n",
            "135-807\t서울\t강남구\t개포1동 우성3차아파트\t(1∼6동)\t2\n",
            "\n",
            "135-806\t서울\t강남구\t개포1동 우성9차아파트\t(901∼902동)\t3\n",
            "\n",
            "135-770\t서울\t강남구\t개포1동 주공아파트\t(1∼16동)\t4\n",
            "\n",
            "135-805\t서울\t강남구\t개포1동 주공아파트\t(17∼40동)\t5\n",
            "\n",
            "135-966\t서울\t강남구\t개포1동 주공아파트\t(41∼85동)\t6\n",
            "\n",
            "135-807\t서울\t강남구\t개포1동 주공아파트\t(86∼103동)\t7\n",
            "\n",
            "135-805\t서울\t강남구\t개포1동 주공아파트\t(104∼125동)\t8\n",
            "\n",
            "135-807\t서울\t강남구\t개포1동 현대1차아파트\t(101∼106동)\t9\n",
            "\n",
            "135-805\t서울\t강남구\t개포1동\t565\t10\n",
            "\n",
            "135-806\t서울\t강남구\t개포1동\t649∼651\t11\n",
            "\n",
            "135-807\t서울\t강남구\t개포1동\t652∼653\t12\n",
            "\n",
            "135-810\t서울\t강남구\t개포1동\t660\t13\n",
            "\n",
            "135-241\t서울\t강남구\t개포1동\t\t14\n",
            "\n",
            "135-800\t서울\t강남구\t개포2동 우성8차아파트\t(801∼803동)\t15\n",
            "\n",
            "135-771\t서울\t강남구\t개포2동 주공아파트\t(201∼232동)\t16\n",
            "\n",
            "135-800\t서울\t강남구\t개포2동 주공아파트\t(301∼325동)\t17\n",
            "\n",
            "135-772\t서울\t강남구\t개포2동 주공아파트\t(401∼415동)\t18\n",
            "\n",
            "135-800\t서울\t강남구\t개포2동 주공아파트\t(416∼458동)\t19\n",
            "\n",
            "135-992\t서울\t강남구\t개포2동 주공아파트\t(501∼506동)\t20\n",
            "\n",
            "135-993\t서울\t강남구\t개포2동 주공아파트\t(601∼609동)\t21\n",
            "\n",
            "135-993\t서울\t강남구\t개포2동 주공아파트\t(701∼708동)\t22\n",
            "\n",
            "135-800\t서울\t강남구\t개포2동 현대3차아파트\t(1∼5동)\t23\n",
            "\n",
            "135-800\t서울\t강남구\t개포2동\t94∼108\t24\n",
            "\n",
            "135-801\t서울\t강남구\t개포2동\t138\t25\n",
            "\n",
            "135-802\t서울\t강남구\t개포2동\t139∼140\t26\n",
            "\n",
            "135-800\t서울\t강남구\t개포2동\t152∼156\t27\n",
            "\n",
            "135-802\t서울\t강남구\t개포2동\t157∼169\t28\n",
            "\n",
            "135-800\t서울\t강남구\t개포2동\t170∼177\t29\n",
            "\n",
            "135-803\t서울\t강남구\t개포2동\t178\t30\n",
            "\n",
            "135-800\t서울\t강남구\t개포2동\t179∼180\t31\n",
            "\n",
            "135-993\t서울\t강남구\t개포2동\t181∼185\t32\n",
            "\n",
            "135-994\t서울\t강남구\t개포2동\t186∼187\t33\n",
            "\n",
            "135-804\t서울\t강남구\t개포2동\t188∼189\t34\n",
            "\n",
            "135-242\t서울\t강남구\t개포2동\t\t35\n",
            "\n",
            "135-773\t서울\t강남구\t개포4동 시영아파트\t(1∼25동)\t36\n",
            "\n",
            "135-809\t서울\t강남구\t개포4동 시영아파트\t(26∼30동)\t37\n",
            "\n",
            "135-809\t서울\t강남구\t개포4동 우성6차아파트\t(1∼8동)\t38\n",
            "\n",
            "135-808\t서울\t강남구\t개포4동 현대2차아파트\t(200∼220동)\t39\n",
            "\n",
            "135-808\t서울\t강남구\t개포4동\t654∼656\t40\n",
            "\n",
            "135-809\t서울\t강남구\t개포4동\t658\t41\n",
            "\n",
            "135-960\t서울\t강남구\t개포4동\t1055\t42\n",
            "\n",
            "135-960\t서울\t강남구\t개포4동\t1057\t43\n",
            "\n",
            "135-960\t서울\t강남구\t개포4동\t1163∼1166\t44\n",
            "\n",
            "135-961\t서울\t강남구\t개포4동\t1167∼1189\t45\n",
            "\n",
            "135-962\t서울\t강남구\t개포4동\t1190∼1218\t46\n",
            "\n",
            "135-963\t서울\t강남구\t개포4동\t1219∼1228\t47\n",
            "\n",
            "135-964\t서울\t강남구\t개포4동\t1229∼1243\t48\n",
            "\n",
            "135-965\t서울\t강남구\t개포4동\t1244∼1268\t49\n",
            "\n",
            "135-961\t서울\t강남구\t개포4동\t1271\t50\n",
            "\n",
            "135-962\t서울\t강남구\t개포4동\t1272\t51\n",
            "\n",
            "135-961\t서울\t강남구\t개포4동\t1273∼1274\t52\n",
            "\n",
            "135-244\t서울\t강남구\t개포4동\t\t53\n",
            "\n",
            "135-543\t서울\t강남구\t개포동 LG자이아파트\t(101∼104동)\t54\n",
            "\n",
            "135-988\t서울\t강남구\t개포동 SH공사\t\t55\n",
            "\n",
            "135-940\t서울\t강남구\t개포동 대청아파트\t\t56\n",
            "\n",
            "135-989\t서울\t강남구\t개포동 대청타워\t\t57\n",
            "\n",
            "135-797\t서울\t강남구\t개포동 대치아파트\t(101∼108동)\t58\n",
            "\n",
            "135-544\t서울\t강남구\t개포동 대치아파트\t(209∼219동)\t59\n",
            "\n",
            "135-240\t서울\t강남구\t개포동 서울강남우체국\t\t60\n",
            "\n",
            "135-939\t서울\t강남구\t개포동 서울수서경찰서\t\t61\n",
            "\n",
            "135-939\t서울\t강남구\t개포동\t12∼14\t62\n",
            "\n",
            "135-940\t서울\t강남구\t개포동\t18\t63\n",
            "\n",
            "135-240\t서울\t강남구\t개포동\t\t64\n",
            "\n",
            "757-921\t경북\t예천군\t개포면 가곡리\t\t38473\n",
            "\n",
            "757-922\t경북\t예천군\t개포면 갈마리\t\t38474\n",
            "\n",
            "757-923\t경북\t예천군\t개포면 경진리\t\t38475\n",
            "\n",
            "757-923\t경북\t예천군\t개포면 금리\t\t38476\n",
            "\n",
            "757-923\t경북\t예천군\t개포면 동송리\t\t38477\n",
            "\n",
            "757-921\t경북\t예천군\t개포면 신음리\t\t38478\n",
            "\n",
            "757-923\t경북\t예천군\t개포면 우감리\t\t38479\n",
            "\n",
            "757-923\t경북\t예천군\t개포면 이사리\t\t38480\n",
            "\n",
            "757-922\t경북\t예천군\t개포면 입암리\t\t38481\n",
            "\n",
            "757-922\t경북\t예천군\t개포면 장송리\t\t38482\n",
            "\n",
            "757-922\t경북\t예천군\t개포면 풍정리\t\t38483\n",
            "\n",
            "757-922\t경북\t예천군\t개포면 황산리\t\t38484\n",
            "\n",
            "757-920\t경북\t예천군\t개포면\t\t38485\n",
            "\n"
          ]
        }
      ]
    },
    {
      "cell_type": "code",
      "source": [
        "#7\n",
        "def searchAddr() :\n",
        "  dong = input(\"동을 입력하세요 : \")\n",
        "  print('debug - ', dong)\n",
        "  result = []\n",
        "  try :\n",
        "    with open('zipcode.txt','r') as file :\n",
        "      line = file.readline()\n",
        "      while line :\n",
        "        address = line.split()\n",
        "        if address[3].startswith(dong) and address[3].endswith('동'):\n",
        "          result.append(line)\n",
        "        line = file.readline()\n",
        "  except Exception as e :\n",
        "    print(\"입력하신 동을 찾을 수 없습니다.\")\n",
        "\n",
        "  return result"
      ],
      "metadata": {
        "id": "irNzNq3EsPos"
      },
      "execution_count": null,
      "outputs": []
    },
    {
      "cell_type": "code",
      "source": [
        "lst = searchAddr()\n",
        "for addr in lst :\n",
        "  print(addr.strip('\\n'))"
      ],
      "metadata": {
        "colab": {
          "base_uri": "https://localhost:8080/"
        },
        "id": "hEhOyzjQsPrf",
        "outputId": "9e027969-e4b2-4ef5-b9f6-981f6c63f6f5"
      },
      "execution_count": null,
      "outputs": [
        {
          "output_type": "stream",
          "name": "stdout",
          "text": [
            "동을 입력하세요 : 개포\n",
            "debug -  개포\n",
            "135-806\t서울\t강남구\t개포1동 경남아파트\t\t1\n",
            "135-807\t서울\t강남구\t개포1동 우성3차아파트\t(1∼6동)\t2\n",
            "135-806\t서울\t강남구\t개포1동 우성9차아파트\t(901∼902동)\t3\n",
            "135-770\t서울\t강남구\t개포1동 주공아파트\t(1∼16동)\t4\n",
            "135-805\t서울\t강남구\t개포1동 주공아파트\t(17∼40동)\t5\n",
            "135-966\t서울\t강남구\t개포1동 주공아파트\t(41∼85동)\t6\n",
            "135-807\t서울\t강남구\t개포1동 주공아파트\t(86∼103동)\t7\n",
            "135-805\t서울\t강남구\t개포1동 주공아파트\t(104∼125동)\t8\n",
            "135-807\t서울\t강남구\t개포1동 현대1차아파트\t(101∼106동)\t9\n",
            "135-805\t서울\t강남구\t개포1동\t565\t10\n",
            "135-806\t서울\t강남구\t개포1동\t649∼651\t11\n",
            "135-807\t서울\t강남구\t개포1동\t652∼653\t12\n",
            "135-810\t서울\t강남구\t개포1동\t660\t13\n",
            "135-241\t서울\t강남구\t개포1동\t\t14\n",
            "135-800\t서울\t강남구\t개포2동 우성8차아파트\t(801∼803동)\t15\n",
            "135-771\t서울\t강남구\t개포2동 주공아파트\t(201∼232동)\t16\n",
            "135-800\t서울\t강남구\t개포2동 주공아파트\t(301∼325동)\t17\n",
            "135-772\t서울\t강남구\t개포2동 주공아파트\t(401∼415동)\t18\n",
            "135-800\t서울\t강남구\t개포2동 주공아파트\t(416∼458동)\t19\n",
            "135-992\t서울\t강남구\t개포2동 주공아파트\t(501∼506동)\t20\n",
            "135-993\t서울\t강남구\t개포2동 주공아파트\t(601∼609동)\t21\n",
            "135-993\t서울\t강남구\t개포2동 주공아파트\t(701∼708동)\t22\n",
            "135-800\t서울\t강남구\t개포2동 현대3차아파트\t(1∼5동)\t23\n",
            "135-800\t서울\t강남구\t개포2동\t94∼108\t24\n",
            "135-801\t서울\t강남구\t개포2동\t138\t25\n",
            "135-802\t서울\t강남구\t개포2동\t139∼140\t26\n",
            "135-800\t서울\t강남구\t개포2동\t152∼156\t27\n",
            "135-802\t서울\t강남구\t개포2동\t157∼169\t28\n",
            "135-800\t서울\t강남구\t개포2동\t170∼177\t29\n",
            "135-803\t서울\t강남구\t개포2동\t178\t30\n",
            "135-800\t서울\t강남구\t개포2동\t179∼180\t31\n",
            "135-993\t서울\t강남구\t개포2동\t181∼185\t32\n",
            "135-994\t서울\t강남구\t개포2동\t186∼187\t33\n",
            "135-804\t서울\t강남구\t개포2동\t188∼189\t34\n",
            "135-242\t서울\t강남구\t개포2동\t\t35\n",
            "135-773\t서울\t강남구\t개포4동 시영아파트\t(1∼25동)\t36\n",
            "135-809\t서울\t강남구\t개포4동 시영아파트\t(26∼30동)\t37\n",
            "135-809\t서울\t강남구\t개포4동 우성6차아파트\t(1∼8동)\t38\n",
            "135-808\t서울\t강남구\t개포4동 현대2차아파트\t(200∼220동)\t39\n",
            "135-808\t서울\t강남구\t개포4동\t654∼656\t40\n",
            "135-809\t서울\t강남구\t개포4동\t658\t41\n",
            "135-960\t서울\t강남구\t개포4동\t1055\t42\n",
            "135-960\t서울\t강남구\t개포4동\t1057\t43\n",
            "135-960\t서울\t강남구\t개포4동\t1163∼1166\t44\n",
            "135-961\t서울\t강남구\t개포4동\t1167∼1189\t45\n",
            "135-962\t서울\t강남구\t개포4동\t1190∼1218\t46\n",
            "135-963\t서울\t강남구\t개포4동\t1219∼1228\t47\n",
            "135-964\t서울\t강남구\t개포4동\t1229∼1243\t48\n",
            "135-965\t서울\t강남구\t개포4동\t1244∼1268\t49\n",
            "135-961\t서울\t강남구\t개포4동\t1271\t50\n",
            "135-962\t서울\t강남구\t개포4동\t1272\t51\n",
            "135-961\t서울\t강남구\t개포4동\t1273∼1274\t52\n",
            "135-244\t서울\t강남구\t개포4동\t\t53\n",
            "135-543\t서울\t강남구\t개포동 LG자이아파트\t(101∼104동)\t54\n",
            "135-988\t서울\t강남구\t개포동 SH공사\t\t55\n",
            "135-940\t서울\t강남구\t개포동 대청아파트\t\t56\n",
            "135-989\t서울\t강남구\t개포동 대청타워\t\t57\n",
            "135-797\t서울\t강남구\t개포동 대치아파트\t(101∼108동)\t58\n",
            "135-544\t서울\t강남구\t개포동 대치아파트\t(209∼219동)\t59\n",
            "135-240\t서울\t강남구\t개포동 서울강남우체국\t\t60\n",
            "135-939\t서울\t강남구\t개포동 서울수서경찰서\t\t61\n",
            "135-939\t서울\t강남구\t개포동\t12∼14\t62\n",
            "135-940\t서울\t강남구\t개포동\t18\t63\n",
            "135-240\t서울\t강남구\t개포동\t\t64\n"
          ]
        }
      ]
    },
    {
      "cell_type": "code",
      "source": [],
      "metadata": {
        "id": "CbBARxlZsPuR"
      },
      "execution_count": null,
      "outputs": []
    },
    {
      "cell_type": "code",
      "source": [],
      "metadata": {
        "id": "4MJEZjpT2n_S"
      },
      "execution_count": null,
      "outputs": []
    }
  ]
}
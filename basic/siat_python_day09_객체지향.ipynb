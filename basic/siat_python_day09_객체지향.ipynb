{
  "nbformat": 4,
  "nbformat_minor": 0,
  "metadata": {
    "colab": {
      "provenance": [],
      "authorship_tag": "ABX9TyPYa571DnxmQHBpLN/Zey6i",
      "include_colab_link": true
    },
    "kernelspec": {
      "name": "python3",
      "display_name": "Python 3"
    },
    "language_info": {
      "name": "python"
    }
  },
  "cells": [
    {
      "cell_type": "markdown",
      "metadata": {
        "id": "view-in-github",
        "colab_type": "text"
      },
      "source": [
        "<a href=\"https://colab.research.google.com/github/eun551/python/blob/main/basic/siat_python_day09_%EA%B0%9D%EC%B2%B4%EC%A7%80%ED%96%A5.ipynb\" target=\"_parent\"><img src=\"https://colab.research.google.com/assets/colab-badge.svg\" alt=\"Open In Colab\"/></a>"
      ]
    },
    {
      "cell_type": "markdown",
      "source": [
        "P/G 영역의 객체를 instance\n",
        "\n",
        "실제 영역의 객체를 object\n",
        "\n",
        "중간에 틀이 필요하다. 그걸 class라고 표현\n",
        "\n",
        "class가 instance는 아니다.\n",
        "\n",
        "class 의 변수와 메서드는 class소유가 아닌 instance 소유다.\n",
        "\n",
        "instance 생성이 전제되어야 class를 사용할 수 있다. -> instance 생성하려고 class를 만든것이다.\n",
        "\n"
      ],
      "metadata": {
        "id": "6fpCBfzd23j5"
      }
    },
    {
      "cell_type": "code",
      "execution_count": null,
      "metadata": {
        "id": "KOsnJQYcmFLl"
      },
      "outputs": [],
      "source": [
        "# 객체지향 (OOP)\n",
        "# class vs instance\n",
        "# 함수 < 클래스 (변수, 메서드) < 모듈 < 패키지\n",
        "# 객체 생성이 필요하다.\n",
        "# 클래스란 ?\n",
        "'''\n",
        "여러개의 함수와 공유자료(변수)를 묶어서 관리하는 템플릿\n",
        "구성 : 변수 + 메서드 + 생성자(초기화)\n",
        "구문형식)\n",
        "class 클래스 이름 : #블럭\n",
        "  변수\n",
        "  생성자()\n",
        "  메서드()\n",
        "'''\n"
      ]
    },
    {
      "cell_type": "code",
      "source": [
        "class Person : #클래스 이름 첫 글자가 대문자로 하자. 파스칼 케이스\n",
        "  pass"
      ],
      "metadata": {
        "id": "jYYBf7BH7mGi"
      },
      "execution_count": null,
      "outputs": []
    },
    {
      "cell_type": "code",
      "source": [
        "person = Person() #메서드가 아니라 생성자. 생성자를 호출. 클래스의 인스턴스 생성. 객체 생성. person : instance"
      ],
      "metadata": {
        "id": "nZSKnymL7mKI"
      },
      "execution_count": null,
      "outputs": []
    },
    {
      "cell_type": "markdown",
      "source": [
        "생성자는 객체 생성과 동시에 호출되어 객체를 초기화합니다.\n",
        "\n",
        "메서드는 객체의 기능을 구현하며, 객체 생성 후에 호출됩니다."
      ],
      "metadata": {
        "id": "dLSLZG8t-Od_"
      }
    },
    {
      "cell_type": "code",
      "source": [
        "class Person :\n",
        "  name = \"은희\""
      ],
      "metadata": {
        "id": "zlaNqffk7mNT"
      },
      "execution_count": null,
      "outputs": []
    },
    {
      "cell_type": "code",
      "source": [
        "person = Person()\n",
        "print(person.name)"
      ],
      "metadata": {
        "colab": {
          "base_uri": "https://localhost:8080/"
        },
        "id": "BsjKn8jx7mQS",
        "outputId": "405757a8-6d40-4eac-de74-a81d70039b21"
      },
      "execution_count": null,
      "outputs": [
        {
          "output_type": "stream",
          "name": "stdout",
          "text": [
            "은희\n"
          ]
        }
      ]
    },
    {
      "cell_type": "markdown",
      "source": [
        "02"
      ],
      "metadata": {
        "id": "tbeG93mjRV8P"
      }
    },
    {
      "cell_type": "code",
      "source": [
        "class Person :\n",
        "  name = \"은희\"\n",
        "  def personInfo():\n",
        "    print('당신의 이름은 {}입니다.'.format(name))"
      ],
      "metadata": {
        "id": "KrgYT7db7mTJ"
      },
      "execution_count": null,
      "outputs": []
    },
    {
      "cell_type": "code",
      "source": [
        "person = Person()\n",
        "print(person.name)\n",
        "person.personInfo()  #TypeError: Person.personInfo() takes 0 positional arguments but 1 was given :\n",
        "# 하나의 인자를 가져야 한다."
      ],
      "metadata": {
        "colab": {
          "base_uri": "https://localhost:8080/",
          "height": 201
        },
        "id": "-4zJlE3l7mWJ",
        "outputId": "c90be601-411c-4595-9ec3-6d6d78430d71"
      },
      "execution_count": null,
      "outputs": [
        {
          "output_type": "stream",
          "name": "stdout",
          "text": [
            "은희\n"
          ]
        },
        {
          "output_type": "error",
          "ename": "TypeError",
          "evalue": "Person.personInfo() takes 0 positional arguments but 1 was given",
          "traceback": [
            "\u001b[0;31m---------------------------------------------------------------------------\u001b[0m",
            "\u001b[0;31mTypeError\u001b[0m                                 Traceback (most recent call last)",
            "\u001b[0;32m<ipython-input-7-4fabc08cd40b>\u001b[0m in \u001b[0;36m<cell line: 0>\u001b[0;34m()\u001b[0m\n\u001b[1;32m      1\u001b[0m \u001b[0mperson\u001b[0m \u001b[0;34m=\u001b[0m \u001b[0mPerson\u001b[0m\u001b[0;34m(\u001b[0m\u001b[0;34m)\u001b[0m\u001b[0;34m\u001b[0m\u001b[0;34m\u001b[0m\u001b[0m\n\u001b[1;32m      2\u001b[0m \u001b[0mprint\u001b[0m\u001b[0;34m(\u001b[0m\u001b[0mperson\u001b[0m\u001b[0;34m.\u001b[0m\u001b[0mname\u001b[0m\u001b[0;34m)\u001b[0m\u001b[0;34m\u001b[0m\u001b[0;34m\u001b[0m\u001b[0m\n\u001b[0;32m----> 3\u001b[0;31m \u001b[0mperson\u001b[0m\u001b[0;34m.\u001b[0m\u001b[0mpersonInfo\u001b[0m\u001b[0;34m(\u001b[0m\u001b[0;34m)\u001b[0m\u001b[0;34m\u001b[0m\u001b[0;34m\u001b[0m\u001b[0m\n\u001b[0m",
            "\u001b[0;31mTypeError\u001b[0m: Person.personInfo() takes 0 positional arguments but 1 was given"
          ]
        }
      ]
    },
    {
      "cell_type": "code",
      "source": [
        "class Person :\n",
        "  name = \"수현\" #instance 소유가 아니다. class 소유로 본다. #전역변수 선언으로 보이지만 인스턴스 소유가 아닌 클래스 소유변수 , 인스턴스 생성 없이 접근 가능.\n",
        "  def personInfo(self): # 매개변수가 아니다. 명시적으로 첫번째 키워드는 self여야 한다. 실질적으로 사용이 불가능. self를 가져서 instance 소유다.\n",
        "    print('당신의 이름은 {}입니다.'.format(name))"
      ],
      "metadata": {
        "id": "Y0MeTD8U7mZL"
      },
      "execution_count": null,
      "outputs": []
    },
    {
      "cell_type": "code",
      "source": [
        "person = Person()\n",
        "print(person.name)\n",
        "person.personInfo()"
      ],
      "metadata": {
        "colab": {
          "base_uri": "https://localhost:8080/",
          "height": 293
        },
        "id": "YpDaclel7mb4",
        "outputId": "aa644d53-3496-46e1-be12-283ae4036422"
      },
      "execution_count": null,
      "outputs": [
        {
          "output_type": "stream",
          "name": "stdout",
          "text": [
            "수현\n"
          ]
        },
        {
          "output_type": "error",
          "ename": "NameError",
          "evalue": "name 'name' is not defined",
          "traceback": [
            "\u001b[0;31m---------------------------------------------------------------------------\u001b[0m",
            "\u001b[0;31mNameError\u001b[0m                                 Traceback (most recent call last)",
            "\u001b[0;32m<ipython-input-11-4fabc08cd40b>\u001b[0m in \u001b[0;36m<cell line: 0>\u001b[0;34m()\u001b[0m\n\u001b[1;32m      1\u001b[0m \u001b[0mperson\u001b[0m \u001b[0;34m=\u001b[0m \u001b[0mPerson\u001b[0m\u001b[0;34m(\u001b[0m\u001b[0;34m)\u001b[0m\u001b[0;34m\u001b[0m\u001b[0;34m\u001b[0m\u001b[0m\n\u001b[1;32m      2\u001b[0m \u001b[0mprint\u001b[0m\u001b[0;34m(\u001b[0m\u001b[0mperson\u001b[0m\u001b[0;34m.\u001b[0m\u001b[0mname\u001b[0m\u001b[0;34m)\u001b[0m\u001b[0;34m\u001b[0m\u001b[0;34m\u001b[0m\u001b[0m\n\u001b[0;32m----> 3\u001b[0;31m \u001b[0mperson\u001b[0m\u001b[0;34m.\u001b[0m\u001b[0mpersonInfo\u001b[0m\u001b[0;34m(\u001b[0m\u001b[0;34m)\u001b[0m\u001b[0;34m\u001b[0m\u001b[0;34m\u001b[0m\u001b[0m\n\u001b[0m",
            "\u001b[0;32m<ipython-input-10-3433742bff29>\u001b[0m in \u001b[0;36mpersonInfo\u001b[0;34m(self)\u001b[0m\n\u001b[1;32m      2\u001b[0m   \u001b[0mname\u001b[0m \u001b[0;34m=\u001b[0m \u001b[0;34m\"수현\"\u001b[0m \u001b[0;31m#instance 소유가 아니다. class 소유로 본다.\u001b[0m\u001b[0;34m\u001b[0m\u001b[0;34m\u001b[0m\u001b[0m\n\u001b[1;32m      3\u001b[0m   \u001b[0;32mdef\u001b[0m \u001b[0mpersonInfo\u001b[0m\u001b[0;34m(\u001b[0m\u001b[0mself\u001b[0m\u001b[0;34m)\u001b[0m\u001b[0;34m:\u001b[0m \u001b[0;31m# 매개변수가 아니다. 명시적으로 첫번째 키워드는 self여야 한다. 실질적으로 사용이 불가능. self를 가져서 instance 소유다.\u001b[0m\u001b[0;34m\u001b[0m\u001b[0;34m\u001b[0m\u001b[0m\n\u001b[0;32m----> 4\u001b[0;31m     \u001b[0mprint\u001b[0m\u001b[0;34m(\u001b[0m\u001b[0;34m'당신의 이름은 {}입니다.'\u001b[0m\u001b[0;34m.\u001b[0m\u001b[0mformat\u001b[0m\u001b[0;34m(\u001b[0m\u001b[0mname\u001b[0m\u001b[0;34m)\u001b[0m\u001b[0;34m)\u001b[0m\u001b[0;34m\u001b[0m\u001b[0;34m\u001b[0m\u001b[0m\n\u001b[0m",
            "\u001b[0;31mNameError\u001b[0m: name 'name' is not defined"
          ]
        }
      ]
    },
    {
      "cell_type": "code",
      "source": [
        "class Person :\n",
        "  name = \"수현\"\n",
        "\n",
        "  # initializer == constructor == 생성자\n",
        "  # magic function   __xxxx__()   함수처럼 호출할 수 있는 함수가 아니다.\n",
        "  # 일반 메서드는 언더바가 안 붙인다.\n",
        "\n",
        "  def __init__(self , name):\n",
        "    self.name = name  #self.name : 인스턴스의 변수가 된다.\n",
        "\n",
        "  def personInfo(self):\n",
        "    print('당신의 이름은 {}입니다.'.format(self.name))"
      ],
      "metadata": {
        "id": "1IiP8bJ67meu"
      },
      "execution_count": null,
      "outputs": []
    },
    {
      "cell_type": "code",
      "source": [
        "person = Person()\n",
        "print(person.name)\n",
        "person.personInfo()"
      ],
      "metadata": {
        "id": "3yfnMK3i7mhk"
      },
      "execution_count": null,
      "outputs": []
    },
    {
      "cell_type": "code",
      "source": [
        "class Person :\n",
        "  name = \"수현\"\n",
        "\n",
        "  # initializer == constructor == 생성자\n",
        "  # magic function   __xxxx__()   함수처럼 호출할 수 있는 함수가 아니다.\n",
        "  # 일반 메서드는 언더바가 안 붙인다.\n",
        "\n",
        "  def __init__(self):\n",
        "    self.name = '씨앗'\n",
        "\n",
        "  def personInfo(self):\n",
        "    print('당신의 이름은 {}입니다.'.format(self.name))"
      ],
      "metadata": {
        "id": "dqwKk9FSHMpy"
      },
      "execution_count": null,
      "outputs": []
    },
    {
      "cell_type": "code",
      "source": [
        "# 클래스 소유의 멤버 (변수, 메서드) 접근\n",
        "print(Person.name)\n",
        "# 인스턴스 생성 후 접근\n",
        "person = Person()  # () : 객체 생성, __init__ 생성자\n",
        "print(person.name)\n",
        "person.personInfo()"
      ],
      "metadata": {
        "colab": {
          "base_uri": "https://localhost:8080/"
        },
        "id": "_rrzmsWhHMtA",
        "outputId": "60bc6aa0-780a-4516-a9a0-8ae5a9834b53"
      },
      "execution_count": null,
      "outputs": [
        {
          "output_type": "stream",
          "name": "stdout",
          "text": [
            "수현\n",
            "씨앗\n",
            "당신의 이름은 씨앗입니다.\n"
          ]
        }
      ]
    },
    {
      "cell_type": "code",
      "source": [],
      "metadata": {
        "id": "gG7uVCTDHMwZ"
      },
      "execution_count": null,
      "outputs": []
    },
    {
      "cell_type": "code",
      "source": [
        "class Car :\n",
        "  def __init__(self, m) :\n",
        "    self.model = m\n",
        "  # def __init__(self, model) :\n",
        "  #   self.model = model #앞의 model과 위의 model은 다른것이다.\n",
        "\n",
        "  def dreamCar(self) :\n",
        "    print('당신의 가지고 싶은 드림카는 {} 입니다.'.format(self.model))\n",
        "\n"
      ],
      "metadata": {
        "id": "Drt834UDKopQ"
      },
      "execution_count": null,
      "outputs": []
    },
    {
      "cell_type": "code",
      "source": [
        "car = Car()\n",
        "car.dreamCar()"
      ],
      "metadata": {
        "colab": {
          "base_uri": "https://localhost:8080/",
          "height": 165
        },
        "id": "8vRiEgCnKotR",
        "outputId": "071d97cb-8c83-4e04-c867-668b3bc57db9"
      },
      "execution_count": null,
      "outputs": [
        {
          "output_type": "error",
          "ename": "TypeError",
          "evalue": "Car.__init__() missing 1 required positional argument: 'm'",
          "traceback": [
            "\u001b[0;31m---------------------------------------------------------------------------\u001b[0m",
            "\u001b[0;31mTypeError\u001b[0m                                 Traceback (most recent call last)",
            "\u001b[0;32m<ipython-input-18-ac7681257ca6>\u001b[0m in \u001b[0;36m<cell line: 0>\u001b[0;34m()\u001b[0m\n\u001b[0;32m----> 1\u001b[0;31m \u001b[0mcar\u001b[0m \u001b[0;34m=\u001b[0m \u001b[0mCar\u001b[0m\u001b[0;34m(\u001b[0m\u001b[0;34m)\u001b[0m\u001b[0;34m\u001b[0m\u001b[0;34m\u001b[0m\u001b[0m\n\u001b[0m\u001b[1;32m      2\u001b[0m \u001b[0mcar\u001b[0m\u001b[0;34m.\u001b[0m\u001b[0mdreamCar\u001b[0m\u001b[0;34m(\u001b[0m\u001b[0;34m)\u001b[0m\u001b[0;34m\u001b[0m\u001b[0;34m\u001b[0m\u001b[0m\n",
            "\u001b[0;31mTypeError\u001b[0m: Car.__init__() missing 1 required positional argument: 'm'"
          ]
        }
      ]
    },
    {
      "cell_type": "code",
      "source": [
        "class Car :\n",
        "  def __init__(self, m) :\n",
        "    self.model = m\n",
        "  # def __init__(self, model) :\n",
        "  #   self.model = model #앞의 model과 위의 model은 다른것이다.\n",
        "\n",
        "  def dreamCar(self) :\n",
        "    print('당신의 가지고 싶은 드림카는 {} 입니다.'.format(self.model))\n"
      ],
      "metadata": {
        "id": "3PFzCJxSKoxa"
      },
      "execution_count": null,
      "outputs": []
    },
    {
      "cell_type": "code",
      "source": [
        "car = Car('벤틀리')\n",
        "car.dreamCar()"
      ],
      "metadata": {
        "colab": {
          "base_uri": "https://localhost:8080/"
        },
        "id": "0rHD65O0Ko0w",
        "outputId": "b9a0a536-fc5a-427c-9156-8e8813d43ae4"
      },
      "execution_count": null,
      "outputs": [
        {
          "output_type": "stream",
          "name": "stdout",
          "text": [
            "당신의 가지고 싶은 드림카는 벤틀리 입니다.\n"
          ]
        }
      ]
    },
    {
      "cell_type": "markdown",
      "source": [
        "03"
      ],
      "metadata": {
        "id": "xlOjORATRMMS"
      }
    },
    {
      "cell_type": "code",
      "source": [
        "#1\n",
        "class Employee :\n",
        "  pass"
      ],
      "metadata": {
        "id": "eHY4PZ8AKo4V"
      },
      "execution_count": null,
      "outputs": []
    },
    {
      "cell_type": "code",
      "source": [
        "# 이름, 급여 전달해서 객체생성()\n",
        "employee = Employee('행복해', 500)\n",
        "print('급여 - ',employee.getSalary())\n",
        "\n",
        "# 급여를 10% 인상\n",
        "employee.incrementSalary(1.1)  #increment 증가 salary 급여\n",
        "print('인상 후 급여 - ',employee.getSalary())"
      ],
      "metadata": {
        "id": "mWC7UbJgKo7U"
      },
      "execution_count": null,
      "outputs": []
    },
    {
      "cell_type": "code",
      "source": [
        "#2\n",
        "class Employee :\n",
        "  def __init__(self, name, salary) :\n",
        "    self.name = name\n",
        "    self. salary = salary\n",
        "\n",
        "  def getSalary(self) :\n",
        "    return self.salary\n",
        "\n",
        "  def incrementSalary(self, increment) :\n",
        "    self.salary = self.salary * increment\n",
        "\n"
      ],
      "metadata": {
        "id": "CBvc3QNoRyuv"
      },
      "execution_count": null,
      "outputs": []
    },
    {
      "cell_type": "code",
      "source": [
        "# 이름, 급여 전달해서 객체생성()\n",
        "employee = Employee('행복해', 500)\n",
        "print('급여 - ',employee.getSalary())\n",
        "\n",
        "# 급여를 10% 인상\n",
        "employee.incrementSalary(1.1)\n",
        "print('인상 후 급여 - ',employee.getSalary())"
      ],
      "metadata": {
        "colab": {
          "base_uri": "https://localhost:8080/"
        },
        "id": "izr8hKtXRyx6",
        "outputId": "b5fa1f50-411b-4031-de88-f71684e1a79e"
      },
      "execution_count": null,
      "outputs": [
        {
          "output_type": "stream",
          "name": "stdout",
          "text": [
            "급여 -  500\n",
            "인상 후 급여 -  550.0\n"
          ]
        }
      ]
    },
    {
      "cell_type": "code",
      "source": [
        "#3\n",
        "class Employee :\n",
        "  def __init__(self, name, salary) :\n",
        "    self.name = name\n",
        "    self. salary = salary\n",
        "\n",
        "  def getSalary(self) :\n",
        "    return self.salary\n",
        "\n",
        "  def incrementSalary(self, increment) :\n",
        "    self.salary = self.salary * increment\n",
        "\n",
        "  def printEmp(self):\n",
        "    print('당신의 이름은 {}이고 급여는 {}입니다.'.format(self.name, self. salary))"
      ],
      "metadata": {
        "id": "lcWSuMaZRy03"
      },
      "execution_count": null,
      "outputs": []
    },
    {
      "cell_type": "code",
      "source": [
        "# 이름, 급여 전달해서 객체생성()\n",
        "employee = Employee('행복해', 500)\n",
        "print('급여 - ',employee.getSalary())\n",
        "\n",
        "# 급여를 10% 인상\n",
        "employee.incrementSalary(1.1)\n",
        "print('인상 후 급여 - ',employee.getSalary())\n",
        "\n",
        "print('직원정보 조회')\n",
        "employee.printEmp()\n"
      ],
      "metadata": {
        "colab": {
          "base_uri": "https://localhost:8080/"
        },
        "id": "v6qTjsj0Ry4J",
        "outputId": "1f41c1f8-9db1-4b71-bbdb-3ba4b850cfd2"
      },
      "execution_count": null,
      "outputs": [
        {
          "output_type": "stream",
          "name": "stdout",
          "text": [
            "급여 -  500\n",
            "인상 후 급여 -  550.0\n",
            "직원정보 조회\n",
            "당신의 이름은 행복해이고 급여는 550.0입니다.\n"
          ]
        }
      ]
    },
    {
      "cell_type": "code",
      "source": [
        "\n",
        "\n",
        "employee = Employee('행복해', 500)\n",
        "print('address - ',employee) #주소값\n",
        "\n",
        "print('급여 - ',employee.getSalary())\n",
        "\n",
        "\n",
        "employee.incrementSalary(1.1)\n",
        "print('인상 후 급여 - ',employee.getSalary())\n",
        "\n",
        "print('직원정보 조회')\n",
        "employee.printEmp()\n"
      ],
      "metadata": {
        "colab": {
          "base_uri": "https://localhost:8080/"
        },
        "id": "KCXemXARRy7N",
        "outputId": "0c857d04-88ab-4ec8-c53d-1be83e520327"
      },
      "execution_count": null,
      "outputs": [
        {
          "output_type": "stream",
          "name": "stdout",
          "text": [
            "address -  <__main__.Employee object at 0x7cdf0a4d0ad0>\n",
            "급여 -  500\n",
            "인상 후 급여 -  550.0\n",
            "직원정보 조회\n",
            "당신의 이름은 행복해이고 급여는 550.0입니다.\n"
          ]
        }
      ]
    },
    {
      "cell_type": "markdown",
      "source": [
        "04"
      ],
      "metadata": {
        "id": "uHnEZteARy-W"
      }
    },
    {
      "cell_type": "code",
      "source": [],
      "metadata": {
        "id": "wscNSuQLRzA_"
      },
      "execution_count": null,
      "outputs": []
    },
    {
      "cell_type": "code",
      "source": [],
      "metadata": {
        "id": "NqdTp7kMrvq2"
      },
      "execution_count": null,
      "outputs": []
    },
    {
      "cell_type": "code",
      "source": [],
      "metadata": {
        "id": "FqOw-7jWrvuO"
      },
      "execution_count": null,
      "outputs": []
    },
    {
      "cell_type": "code",
      "source": [],
      "metadata": {
        "id": "SvGelJVxrvxF"
      },
      "execution_count": null,
      "outputs": []
    },
    {
      "cell_type": "code",
      "source": [],
      "metadata": {
        "id": "RFc-dbtDrvzy"
      },
      "execution_count": null,
      "outputs": []
    },
    {
      "cell_type": "code",
      "source": [],
      "metadata": {
        "id": "UgyrkRt6rv2S"
      },
      "execution_count": null,
      "outputs": []
    },
    {
      "cell_type": "code",
      "source": [],
      "metadata": {
        "id": "QIZdoYpNRzDz"
      },
      "execution_count": null,
      "outputs": []
    },
    {
      "cell_type": "code",
      "source": [],
      "metadata": {
        "id": "wwFJU2L1RzGc"
      },
      "execution_count": null,
      "outputs": []
    },
    {
      "cell_type": "code",
      "source": [],
      "metadata": {
        "id": "tAUde2HiRz3B"
      },
      "execution_count": null,
      "outputs": []
    },
    {
      "cell_type": "code",
      "source": [],
      "metadata": {
        "id": "2d7YuNlfHMz4"
      },
      "execution_count": null,
      "outputs": []
    }
  ]
}
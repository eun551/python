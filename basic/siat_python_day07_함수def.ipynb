{
  "nbformat": 4,
  "nbformat_minor": 0,
  "metadata": {
    "colab": {
      "provenance": [],
      "authorship_tag": "ABX9TyOsW/ANT6ILicm6VP2ZvjvC",
      "include_colab_link": true
    },
    "kernelspec": {
      "name": "python3",
      "display_name": "Python 3"
    },
    "language_info": {
      "name": "python"
    }
  },
  "cells": [
    {
      "cell_type": "markdown",
      "metadata": {
        "id": "view-in-github",
        "colab_type": "text"
      },
      "source": [
        "<a href=\"https://colab.research.google.com/github/eun551/python/blob/main/basic/siat_python_day07_%ED%95%A8%EC%88%98def.ipynb\" target=\"_parent\"><img src=\"https://colab.research.google.com/assets/colab-badge.svg\" alt=\"Open In Colab\"/></a>"
      ]
    },
    {
      "cell_type": "markdown",
      "source": [
        "교재 274 페이지\n",
        "**함수**"
      ],
      "metadata": {
        "id": "WiESnYiVUf5F"
      }
    },
    {
      "cell_type": "code",
      "execution_count": null,
      "metadata": {
        "id": "JwrZjbbCS2PG"
      },
      "outputs": [],
      "source": [
        "#함수\n",
        "#행위를 정의하는 영역\n",
        "msg = '섭섭이와 함께 오늘도 즐거운 하루!'"
      ]
    },
    {
      "cell_type": "code",
      "source": [
        "def greetingMsg(message) :\n",
        "  print(message)\n",
        "\n",
        "  #정의와 실행은 다르다\n"
      ],
      "metadata": {
        "id": "KKO7mNiNXoNH"
      },
      "execution_count": null,
      "outputs": []
    },
    {
      "cell_type": "code",
      "source": [
        "result = greetingMsg(msg)\n",
        "print(result)"
      ],
      "metadata": {
        "colab": {
          "base_uri": "https://localhost:8080/"
        },
        "id": "QGA-RLIsXoe3",
        "outputId": "906dc404-10b8-4296-c39c-5e8aeeec5bc0"
      },
      "execution_count": null,
      "outputs": [
        {
          "output_type": "stream",
          "name": "stdout",
          "text": [
            "섭섭이와 함께 오늘도 즐거운 하루!\n",
            "None\n"
          ]
        }
      ]
    },
    {
      "cell_type": "code",
      "source": [
        "greetingMsg(msg)"
      ],
      "metadata": {
        "colab": {
          "base_uri": "https://localhost:8080/"
        },
        "id": "0ieIvm9uaOef",
        "outputId": "64def296-a66c-4c46-ed4b-456d244097b8"
      },
      "execution_count": null,
      "outputs": [
        {
          "output_type": "stream",
          "name": "stdout",
          "text": [
            "섭섭이와 함께 오늘도 즐거운 하루!\n"
          ]
        }
      ]
    },
    {
      "cell_type": "code",
      "source": [
        "def greetingMsg(message : str) : # 입력이 있다.\n",
        "  print(message) # 반환이 없다."
      ],
      "metadata": {
        "id": "vlYSFDl2aBWn"
      },
      "execution_count": null,
      "outputs": []
    },
    {
      "cell_type": "markdown",
      "source": [
        "276페이지\n",
        "return\n",
        "사용자들의.. 프론트를 통해 백엔드로 전달을 하기 때문에 백엔드는 못 보지만 return 을 통해 백엔드에서 프론트에 보여지게 한다.\n"
      ],
      "metadata": {
        "id": "LZNfNW7UXol3"
      }
    },
    {
      "cell_type": "code",
      "source": [
        "greetingMsg([1,2,3,4])"
      ],
      "metadata": {
        "colab": {
          "base_uri": "https://localhost:8080/"
        },
        "id": "oX3BZxVLXoif",
        "outputId": "3a9300c7-6c8a-4ad0-ef94-0b61c1a0034d"
      },
      "execution_count": null,
      "outputs": [
        {
          "output_type": "stream",
          "name": "stdout",
          "text": [
            "[1, 2, 3, 4]\n"
          ]
        }
      ]
    },
    {
      "cell_type": "code",
      "source": [
        "def printCoin() : # ()안에 입력이 없다.\n",
        "  print('bitcoin') # 반환이 없다."
      ],
      "metadata": {
        "id": "EeV6yNP-Xopj"
      },
      "execution_count": null,
      "outputs": []
    },
    {
      "cell_type": "code",
      "source": [
        "printCoin()"
      ],
      "metadata": {
        "colab": {
          "base_uri": "https://localhost:8080/"
        },
        "id": "D1agq8evXos8",
        "outputId": "8cb1f490-1348-4b0d-f9c0-b1fa875327c0"
      },
      "execution_count": null,
      "outputs": [
        {
          "output_type": "stream",
          "name": "stdout",
          "text": [
            "bitcoin\n"
          ]
        }
      ]
    },
    {
      "cell_type": "code",
      "source": [
        "def returnMsg(name) : #입력이 있다.\n",
        "  return '{}님 오늘도 즐거운 하루 되시길'.format(name) #return이라는 반환이 있다."
      ],
      "metadata": {
        "id": "VT4QPp39dpAm"
      },
      "execution_count": null,
      "outputs": []
    },
    {
      "cell_type": "code",
      "source": [
        "a = returnMsg('섭섭이')\n",
        "print(a)"
      ],
      "metadata": {
        "colab": {
          "base_uri": "https://localhost:8080/"
        },
        "id": "bO4WYEXCcWUe",
        "outputId": "dad789ec-8b18-4b49-c9ea-6c1996b1f896"
      },
      "execution_count": null,
      "outputs": [
        {
          "output_type": "stream",
          "name": "stdout",
          "text": [
            "섭섭이님 오늘도 즐거운 하루 되시길\n"
          ]
        }
      ]
    },
    {
      "cell_type": "code",
      "source": [
        "def noArg() : # 입력이 없다.\n",
        "  return '쉬어갑시다~~~' # 반환이 있다."
      ],
      "metadata": {
        "id": "b9W8ztngc5GP"
      },
      "execution_count": null,
      "outputs": []
    },
    {
      "cell_type": "code",
      "source": [
        "result = noArg()\n",
        "print(result)"
      ],
      "metadata": {
        "colab": {
          "base_uri": "https://localhost:8080/"
        },
        "id": "DaGt-p8kc5Lm",
        "outputId": "59616351-aaed-4435-95b7-763fb3fcfd1e"
      },
      "execution_count": null,
      "outputs": [
        {
          "output_type": "stream",
          "name": "stdout",
          "text": [
            "쉬어갑시다~~~\n"
          ]
        }
      ]
    },
    {
      "cell_type": "code",
      "source": [
        "# 함수를 정의해서 입력된 두 숫자 사이의\n",
        "# 홀수의 합과 짝수의 합을 반환없이 출력하시오.\n",
        "# 함수의 이름은 conutSum()\n",
        "\n",
        "def countSum(x,y) :\n",
        "  for i in range(x,y+1) :\n",
        "    print(i%2==0,i%2==1)"
      ],
      "metadata": {
        "id": "mF3DC7uIc5Qz"
      },
      "execution_count": null,
      "outputs": []
    },
    {
      "cell_type": "code",
      "source": [
        "def countSum(start,end) : #함수정의\n",
        "\n",
        "  evenSum = oddSum = 0\n",
        "\n",
        "  for value in range(start,end+1) :\n",
        "    if value % 2 == 0 :\n",
        "      evenSum += value\n",
        "    else :\n",
        "      oddSum += value\n",
        "  print('짝수의 합 {} , 홀수의 합 {}'.format(evenSum,oddSum))"
      ],
      "metadata": {
        "id": "aK-U5CtRltzX"
      },
      "execution_count": null,
      "outputs": []
    },
    {
      "cell_type": "code",
      "source": [
        "countSum(50,100) #호출"
      ],
      "metadata": {
        "colab": {
          "base_uri": "https://localhost:8080/"
        },
        "id": "Lbk0rUQkmOPn",
        "outputId": "eec4b49d-7dc4-4da2-e4e2-782458fc01ee"
      },
      "execution_count": null,
      "outputs": [
        {
          "output_type": "stream",
          "name": "stdout",
          "text": [
            "짝수의 합 1950 , 홀수의 합 1875\n"
          ]
        }
      ]
    },
    {
      "cell_type": "code",
      "source": [
        "countSum(100,1)"
      ],
      "metadata": {
        "colab": {
          "base_uri": "https://localhost:8080/"
        },
        "id": "qjHXbpvnn_JA",
        "outputId": "17bc7b30-96b9-404c-85e6-d3b349f8356c"
      },
      "execution_count": null,
      "outputs": [
        {
          "output_type": "stream",
          "name": "stdout",
          "text": [
            "짝수의 합 0 , 홀수의 합 0\n"
          ]
        }
      ]
    },
    {
      "cell_type": "code",
      "source": [
        "def countSum(start,end) : #함수정의\n",
        "\n",
        "  evenSum = oddSum = 0\n",
        "\n",
        "  if start > end :\n",
        "    tmp = start\n",
        "    start = end\n",
        "    end = tmp\n",
        "\n",
        "  for value in range(start,end+1) :\n",
        "    if value % 2 == 0 :\n",
        "      evenSum += value\n",
        "    else :\n",
        "      oddSum += value\n",
        "  print('짝수의 합 {} , 홀수의 합 {}'.format(evenSum,oddSum))"
      ],
      "metadata": {
        "id": "nJP34LUsoCKk"
      },
      "execution_count": null,
      "outputs": []
    },
    {
      "cell_type": "code",
      "source": [
        "countSum(100,1)"
      ],
      "metadata": {
        "colab": {
          "base_uri": "https://localhost:8080/"
        },
        "id": "RB8g5xqjoszF",
        "outputId": "1db85e23-a66e-494e-a71c-f94ad44cd6ea"
      },
      "execution_count": null,
      "outputs": [
        {
          "output_type": "stream",
          "name": "stdout",
          "text": [
            "짝수의 합 2550 , 홀수의 합 2500\n"
          ]
        }
      ]
    },
    {
      "cell_type": "code",
      "source": [
        "# quiz\n",
        "# 입력받은 문자열의 인터넷 주소를 반환하는 함수를 정의\n",
        "# naver -> www.naver.com\n",
        "# 함수이름 : makeUrl()\n",
        "\n",
        "def makeUrl(name) :\n",
        "  return 'www.{}.com'.format(name)"
      ],
      "metadata": {
        "id": "8j6iMWSPpjGD"
      },
      "execution_count": null,
      "outputs": []
    },
    {
      "cell_type": "code",
      "source": [
        "result = makeUrl('naver')\n",
        "print(result)"
      ],
      "metadata": {
        "colab": {
          "base_uri": "https://localhost:8080/"
        },
        "id": "FLWgqQmrqxcv",
        "outputId": "401bac2b-5d0a-4e08-9f7b-d74e8341e519"
      },
      "execution_count": null,
      "outputs": [
        {
          "output_type": "stream",
          "name": "stdout",
          "text": [
            "www.naver.com\n"
          ]
        }
      ]
    },
    {
      "cell_type": "code",
      "source": [
        "# calling\n",
        "lst = ['naver','samsung','kakao','lg']\n",
        "\n",
        "\n",
        "\n",
        "for x in lst :\n",
        "  result = makeUrl(x)\n",
        "  print(result)"
      ],
      "metadata": {
        "colab": {
          "base_uri": "https://localhost:8080/"
        },
        "id": "HhXeotPvvgGg",
        "outputId": "2a5dab9d-3883-4a15-9c11-32ce39f7f407"
      },
      "execution_count": null,
      "outputs": [
        {
          "output_type": "stream",
          "name": "stdout",
          "text": [
            "www.naver.com\n",
            "www.samsung.com\n",
            "www.kakao.com\n",
            "www.lg.com\n"
          ]
        }
      ]
    },
    {
      "cell_type": "code",
      "source": [
        "def makeUrl(lst) :\n",
        "  result = []\n",
        "  for name in lst :\n",
        "    result.append('www.{}.com'.format(name))\n",
        "  return result"
      ],
      "metadata": {
        "id": "yUEh4d-gxpYH"
      },
      "execution_count": null,
      "outputs": []
    },
    {
      "cell_type": "code",
      "source": [
        "lst = ['naver','samsung','kakao','lg']\n",
        "\n",
        "result = makeUrl(lst)\n",
        "print(result)"
      ],
      "metadata": {
        "colab": {
          "base_uri": "https://localhost:8080/"
        },
        "id": "Q06J4BaTxpb9",
        "outputId": "a156b589-355f-4740-8f85-3487a641261a"
      },
      "execution_count": null,
      "outputs": [
        {
          "output_type": "stream",
          "name": "stdout",
          "text": [
            "['www.naver.com', 'www.samsung.com', 'www.kakao.com', 'www.lg.com']\n"
          ]
        }
      ]
    },
    {
      "cell_type": "code",
      "source": [
        "# quiz\n",
        "# 숫자로 구성된 리스트를 입력받아서\n",
        "# 짝수들을 추출하여 리스트로 반환하는 pickupEven() 함수를 구현하고\n",
        "# 호출해보자\n",
        "\n",
        "def pickupEven(lst = int(input(\"숫자 : \"))) :\n",
        "\n",
        "  lst = []\n",
        "  for num in lst :\n",
        "    if num % 2 == 0 :\n",
        "      lst.append()\n",
        "    print(lst)\n",
        "\n",
        "\n",
        "\n"
      ],
      "metadata": {
        "colab": {
          "base_uri": "https://localhost:8080/"
        },
        "id": "yQJTuk_CxpfT",
        "outputId": "4617de2e-9d44-4bcd-84df-9d64adace77c"
      },
      "execution_count": null,
      "outputs": [
        {
          "output_type": "stream",
          "name": "stdout",
          "text": [
            "숫자 : 50\n",
            "50\n"
          ]
        }
      ]
    },
    {
      "cell_type": "code",
      "source": [
        "def pickupEven(lst) :\n",
        "  return [ num for num in lst if num % 2 == 0 ]\n"
      ],
      "metadata": {
        "id": "nvcPZKPcxpic"
      },
      "execution_count": null,
      "outputs": []
    },
    {
      "cell_type": "code",
      "source": [
        "lst = [1,2,3,4,5,6,7]\n",
        "result = pickupEven(lst)\n",
        "print(result)"
      ],
      "metadata": {
        "colab": {
          "base_uri": "https://localhost:8080/"
        },
        "id": "3orkY_Dhxplj",
        "outputId": "917b3259-ff3e-485e-ca15-6ace74236efb"
      },
      "execution_count": null,
      "outputs": [
        {
          "output_type": "stream",
          "name": "stdout",
          "text": [
            "[2, 4, 6]\n"
          ]
        }
      ]
    },
    {
      "cell_type": "code",
      "source": [
        "# 가변매개변수 함수\n",
        "def argTuple(*args) :\n",
        "  pass\n"
      ],
      "metadata": {
        "id": "7Mn1c0Dw2Ad_"
      },
      "execution_count": null,
      "outputs": []
    },
    {
      "cell_type": "code",
      "source": [
        "# calling\n",
        "argTuple('namver')\n",
        "argTuple('namver','google')\n",
        "argTuple('namver','google','samsung')\n",
        "# * 가변매개변수는 튜플을 의미한다. 언패킹의"
      ],
      "metadata": {
        "id": "f0ybBG-02Ahj"
      },
      "execution_count": null,
      "outputs": []
    },
    {
      "cell_type": "code",
      "source": [
        "def printFor(num, *args) :\n",
        "  for idx in range(num) :\n",
        "    print(args[idx])"
      ],
      "metadata": {
        "id": "2Z7xwJty2Akx"
      },
      "execution_count": null,
      "outputs": []
    },
    {
      "cell_type": "code",
      "source": [
        "#calling\n",
        "printFor(3,'namver','google','samsung')"
      ],
      "metadata": {
        "colab": {
          "base_uri": "https://localhost:8080/"
        },
        "id": "_dFrNqgJ2Anr",
        "outputId": "813981b0-ec52-4e97-f0ec-6a065dda8f8d"
      },
      "execution_count": null,
      "outputs": [
        {
          "output_type": "stream",
          "name": "stdout",
          "text": [
            "namver\n",
            "google\n",
            "samsung\n"
          ]
        }
      ]
    },
    {
      "cell_type": "code",
      "source": [
        "def basicFunc(x, y=10) :  #기본 매개변수를 함수로 만들게 되면 인수와 매개변수의 수가 다르더라도 호출이 된다.\n",
        "  print(x+y)\n"
      ],
      "metadata": {
        "id": "0eqIKgj52AqS"
      },
      "execution_count": null,
      "outputs": []
    },
    {
      "cell_type": "code",
      "source": [
        "basicFunc(1)"
      ],
      "metadata": {
        "colab": {
          "base_uri": "https://localhost:8080/"
        },
        "id": "ok3QhW7Y2Atb",
        "outputId": "fc067549-2bad-40df-96f9-46c4325c69c0"
      },
      "execution_count": null,
      "outputs": [
        {
          "output_type": "stream",
          "name": "stdout",
          "text": [
            "11\n"
          ]
        }
      ]
    },
    {
      "cell_type": "code",
      "source": [
        "# **가변매개변수는 인자로 딕셔너리를 받아서 처리한다.\n",
        "\n",
        "def argDict(**kwargs) : #가변매개변수 중에 ** 2개는 딕셔너리 형식\n",
        "  for key, value in kwargs.items() :\n",
        "    print('key = {}, value = {}'.format(key,value))"
      ],
      "metadata": {
        "id": "gYUguxZq2AwC"
      },
      "execution_count": null,
      "outputs": []
    },
    {
      "cell_type": "code",
      "source": [
        "# { key : value }\n",
        "# argDict({'name' : 'cho'},{'age' : '30'})\n",
        "argDict(name='cho',age=30)"
      ],
      "metadata": {
        "id": "3t6T8TET85LI"
      },
      "execution_count": null,
      "outputs": []
    },
    {
      "cell_type": "code",
      "source": [
        "leapLst = leapYear(1900,2025)\n",
        "print(leapLst)"
      ],
      "metadata": {
        "colab": {
          "base_uri": "https://localhost:8080/"
        },
        "id": "mPjOM9oP85Sy",
        "outputId": "5461037c-e990-4ba4-d83e-6afcd842323c"
      },
      "execution_count": null,
      "outputs": [
        {
          "output_type": "stream",
          "name": "stdout",
          "text": [
            "[1904, 1908, 1912, 1916, 1920, 1924, 1928, 1932, 1936, 1940, 1944, 1948, 1952, 1956, 1960, 1964, 1968, 1972, 1976, 1980, 1984, 1988, 1992, 1996, 2000, 2004, 2008, 2012, 2016, 2020, 2024]\n"
          ]
        }
      ]
    },
    {
      "cell_type": "code",
      "source": [
        "# lambda 식  # p 322\n",
        "# 이름 없는 함수\n",
        "# 간단하게 (실행구문이 한줄) 작성할 수 있는 함수 활용\n",
        "# lambda 인자 : 구현부\n",
        "# 변수에 할당이 가능하다.\n",
        "\n",
        "# if문 활용\n",
        "# lambda 인자 : 구현부 (참) if (조건) else (거짓)   삼항연산자\n",
        "\n",
        "\n",
        "# def add(x,y) :\n",
        "#   return x + y\n",
        "\n",
        "\n",
        "# 변수에 담아서 함수로 사용하기 보다는\n",
        "\n",
        "add = lambda x, y : x + y\n",
        "print('type - ', type(add))"
      ],
      "metadata": {
        "colab": {
          "base_uri": "https://localhost:8080/"
        },
        "id": "sf-cR8eoYprT",
        "outputId": "d34b71c6-864a-4ec4-80e2-60a1f9d65165"
      },
      "execution_count": null,
      "outputs": [
        {
          "output_type": "stream",
          "name": "stdout",
          "text": [
            "type -  <class 'function'>\n"
          ]
        }
      ]
    },
    {
      "cell_type": "code",
      "source": [
        "result = add(10,20)\n",
        "print(result)"
      ],
      "metadata": {
        "colab": {
          "base_uri": "https://localhost:8080/"
        },
        "id": "de_Rb1RuYpvJ",
        "outputId": "2a2dbaed-ef3b-4022-e405-7cb74efd7593"
      },
      "execution_count": null,
      "outputs": [
        {
          "output_type": "stream",
          "name": "stdout",
          "text": [
            "30\n"
          ]
        }
      ]
    },
    {
      "cell_type": "code",
      "source": [
        "# map()\n",
        "# 시퀀스 계열의 모든 요소에 함수를 적용한 결과를 반환할 때\n",
        "# 리스트 요소에 각각 함수를 적용할 때, 람다와 맵을 이용하면 간결하게 사용.\n",
        "\n",
        "lst = [1,2,3,4,5,6,7,8,9,10]"
      ],
      "metadata": {
        "id": "26M8m--OYpyi"
      },
      "execution_count": null,
      "outputs": []
    },
    {
      "cell_type": "code",
      "source": [
        "#quiz\n",
        "# 리스트 각 요소에 2를 곱하고자 한다면?\n",
        "# for x in lst :\n",
        "#   print(x * 2)\n",
        "result = list(map(lambda x : x * 2 , lst))\n",
        "print(result)"
      ],
      "metadata": {
        "colab": {
          "base_uri": "https://localhost:8080/"
        },
        "id": "s_hkvEZ3Yp1u",
        "outputId": "401df4a1-89a8-4698-dc3a-a6b4e40e7c9b"
      },
      "execution_count": null,
      "outputs": [
        {
          "output_type": "stream",
          "name": "stdout",
          "text": [
            "[2, 4, 6, 8, 10, 12, 14, 16, 18, 20]\n"
          ]
        }
      ]
    },
    {
      "cell_type": "code",
      "source": [
        "# filter()\n",
        "# 시퀀스 계열의 모든 요소 중 조건에 만족하는 요소만 반환\n",
        "\n",
        "# lst에서 홀수만 반환하고 싶다.\n",
        "\n",
        "result = list ( filter(lambda x : x % 2 == 1 , lst))\n",
        "print(result)"
      ],
      "metadata": {
        "colab": {
          "base_uri": "https://localhost:8080/"
        },
        "id": "eZmyW_FHYp4m",
        "outputId": "9350e291-14b6-493a-97c0-4ee9b0eb2098"
      },
      "execution_count": null,
      "outputs": [
        {
          "output_type": "stream",
          "name": "stdout",
          "text": [
            "[1, 3, 5, 7, 9]\n"
          ]
        }
      ]
    },
    {
      "cell_type": "code",
      "source": [
        "# sorted\n",
        "# 정렬 ( 오름차순 )\n",
        "\n",
        "lst = [5,4,3,2,1]\n",
        "lst.reverse()\n",
        "# print(lst.reverse())\n",
        "print(lst)"
      ],
      "metadata": {
        "colab": {
          "base_uri": "https://localhost:8080/"
        },
        "id": "lrzVYrcQfUBP",
        "outputId": "61f2f096-18d1-4fc6-cdf1-6171b66306cd"
      },
      "execution_count": null,
      "outputs": [
        {
          "output_type": "stream",
          "name": "stdout",
          "text": [
            "[1, 2, 3, 4, 5]\n"
          ]
        }
      ]
    },
    {
      "cell_type": "code",
      "source": [
        "result = sorted(lst)\n",
        "print(result)"
      ],
      "metadata": {
        "colab": {
          "base_uri": "https://localhost:8080/"
        },
        "id": "67PTKk6gfU5A",
        "outputId": "25fa63c9-41e6-45c8-a2e2-2af6fb143200"
      },
      "execution_count": null,
      "outputs": [
        {
          "output_type": "stream",
          "name": "stdout",
          "text": [
            "[1, 2, 3, 4, 5]\n"
          ]
        }
      ]
    },
    {
      "cell_type": "code",
      "source": [
        "lst = ['pineapple','banana','peach','cherry','watermelon']\n",
        "\n",
        "# 문자열의 길이에 따라 정렬하고 싶다.\n",
        "\n",
        "result = sorted(lst , key=lambda x : len(x))  # 핵심 : key\n",
        "print(result)"
      ],
      "metadata": {
        "colab": {
          "base_uri": "https://localhost:8080/"
        },
        "id": "iD0x11yefU8w",
        "outputId": "c6fef9c3-0a47-4a28-80bc-f6f0141205cc"
      },
      "execution_count": null,
      "outputs": [
        {
          "output_type": "stream",
          "name": "stdout",
          "text": [
            "['peach', 'banana', 'cherry', 'pineapple', 'watermelon']\n"
          ]
        }
      ]
    },
    {
      "cell_type": "code",
      "source": [
        "# functools - reduce()\n",
        "# 누적적으로 곱셈한 결과를 반환\n",
        "\n",
        "from functools import reduce\n",
        "\n",
        "lst = [1,2,3,4,5]\n",
        "\n",
        "result = reduce( lambda x, y : x * y , lst)\n",
        "print(result)"
      ],
      "metadata": {
        "colab": {
          "base_uri": "https://localhost:8080/"
        },
        "id": "OuLdGrCCksib",
        "outputId": "9edcc920-aab0-4b6d-b12d-126eb3130553"
      },
      "execution_count": null,
      "outputs": [
        {
          "output_type": "stream",
          "name": "stdout",
          "text": [
            "120\n"
          ]
        }
      ]
    },
    {
      "cell_type": "code",
      "source": [
        "# lambda 인자 : 구현부 (참) if (조건) else (거짓)   삼항연산자\n",
        "\n",
        "#quiz\n",
        "# 입력된 숫자가 홀수인지를 판별하는 람다함수를 작성한다면?\n",
        "# hint) print(isOdd(9))\n",
        "\n",
        "a = int(input(\"숫자 : \") )\n",
        "\n",
        "isOdd = lambda x : True if x % 2 == 1 else False\n",
        "\n",
        "print(isOdd(a))"
      ],
      "metadata": {
        "colab": {
          "base_uri": "https://localhost:8080/"
        },
        "id": "5c7niPJ1ksl_",
        "outputId": "728dfdd5-fcda-4ebc-9b5a-ac42fa8529ae"
      },
      "execution_count": null,
      "outputs": [
        {
          "output_type": "stream",
          "name": "stdout",
          "text": [
            "숫자 : 8\n",
            "False\n"
          ]
        }
      ]
    },
    {
      "cell_type": "code",
      "source": [
        "# 재귀함수 (recursive function)  # 자기 자신으로 돌아간다\n",
        "#  293 페이지\n",
        "\n",
        "def userFactorial(n) :  # factorial 곱하는거\n",
        "  output = 1\n",
        "\n",
        "  for x in range (1 , n+1) :\n",
        "    output *= x\n",
        "\n",
        "  return output\n"
      ],
      "metadata": {
        "id": "SuTo-Qe7kspH"
      },
      "execution_count": null,
      "outputs": []
    },
    {
      "cell_type": "code",
      "source": [
        "print('1! = ' , userFactorial(1))\n",
        "print('2! = ' , userFactorial(2))\n",
        "print('3! = ' , userFactorial(3))\n"
      ],
      "metadata": {
        "colab": {
          "base_uri": "https://localhost:8080/"
        },
        "id": "L9jm-ewtfVDA",
        "outputId": "5d9b8419-13c0-4010-d78d-d2fd592403f4"
      },
      "execution_count": null,
      "outputs": [
        {
          "output_type": "stream",
          "name": "stdout",
          "text": [
            "1! =  1\n",
            "2! =  2\n",
            "3! =  6\n"
          ]
        }
      ]
    },
    {
      "cell_type": "code",
      "source": [
        "# 재귀함수 (recursive function)\n",
        "#  294 페이지\n",
        "\n",
        "def userFactorial(n) :  # factorial 곱하는거\n",
        "  if n == 0 :\n",
        "    return 1\n",
        "  else :\n",
        "    return n * userFactorial(n-1)\n",
        "\n"
      ],
      "metadata": {
        "id": "dz4B-HLafVFk"
      },
      "execution_count": null,
      "outputs": []
    },
    {
      "cell_type": "code",
      "source": [
        "print('1! = ' , userFactorial(1))\n",
        "print('2! = ' , userFactorial(2))\n",
        "print('3! = ' , userFactorial(3))"
      ],
      "metadata": {
        "colab": {
          "base_uri": "https://localhost:8080/"
        },
        "id": "looWSDOsfVIj",
        "outputId": "24512e79-d19f-4eb8-e93b-4482b4244546"
      },
      "execution_count": null,
      "outputs": [
        {
          "output_type": "stream",
          "name": "stdout",
          "text": [
            "1! =  1\n",
            "2! =  2\n",
            "3! =  6\n"
          ]
        }
      ]
    },
    {
      "cell_type": "code",
      "source": [],
      "metadata": {
        "id": "KSj-vHIeYp-R"
      },
      "execution_count": null,
      "outputs": []
    },
    {
      "cell_type": "code",
      "source": [],
      "metadata": {
        "id": "71a69LYbYqAu"
      },
      "execution_count": null,
      "outputs": []
    },
    {
      "cell_type": "code",
      "source": [],
      "metadata": {
        "id": "KQqF5_vLYqDW"
      },
      "execution_count": null,
      "outputs": []
    },
    {
      "cell_type": "code",
      "source": [],
      "metadata": {
        "id": "-1q2fJvzYqF-"
      },
      "execution_count": null,
      "outputs": []
    },
    {
      "cell_type": "code",
      "source": [],
      "metadata": {
        "id": "c3A7QezocXDz"
      },
      "execution_count": null,
      "outputs": []
    },
    {
      "cell_type": "code",
      "source": [],
      "metadata": {
        "id": "dSOWtAdpcXHM"
      },
      "execution_count": null,
      "outputs": []
    },
    {
      "cell_type": "code",
      "source": [],
      "metadata": {
        "id": "EZ2L0pJ2cXJ4"
      },
      "execution_count": null,
      "outputs": []
    },
    {
      "cell_type": "code",
      "source": [],
      "metadata": {
        "id": "kzzUAHiYcXMk"
      },
      "execution_count": null,
      "outputs": []
    },
    {
      "cell_type": "markdown",
      "source": [
        "프로그래머스..."
      ],
      "metadata": {
        "id": "m1IeigwbYqIs"
      }
    },
    {
      "cell_type": "code",
      "source": [
        "def solution(numer1, denom1, numer2, denom2):\n",
        "    answer = [ ]\n",
        "\n",
        "    # 분모 같이 하기\n",
        "    a = numer1 * denom2\n",
        "    b = numer2 * denom1\n",
        "    c = denom1 * denom2\n",
        "\n",
        "    # 분자 더하기\n",
        "    d = a + b\n",
        "\n",
        "    # 약분하기\n",
        "\n",
        "\n",
        "\n",
        "    # 결과 반환\n",
        "\n",
        "\n",
        "    return answer"
      ],
      "metadata": {
        "id": "utWrWax9YqLZ"
      },
      "execution_count": null,
      "outputs": []
    },
    {
      "cell_type": "code",
      "source": [
        "def solution(array, commands) :\n",
        "  answer= []\n",
        "\n",
        "  i , j, k = a\n",
        "  # i번째 숫자부터 j 숫자까지 자르기\n",
        "  # i =2 , j= 5 라면 2번째부터 5번째까지\n",
        "  for a in commands :\n",
        "    slicedArray = array [i : j-1]\n",
        "    # slicedArray = array [i-1 : j]\n",
        "\n",
        "  # 오름차순 정렬\n",
        "    sortedArray = sorted(slicedArray)\n",
        "\n",
        "  # k 번째 숫자는?\n",
        "    answer.append(sortedArray[k])\n",
        "  return answer\n",
        "\n"
      ],
      "metadata": {
        "id": "TdSTRZYaYqOG"
      },
      "execution_count": null,
      "outputs": []
    },
    {
      "cell_type": "code",
      "source": [
        "array = [1,5,2,6,3,7,4]\n",
        "i = 2\n",
        "j = 5\n",
        "k = 3\n",
        "\n",
        "a= array[i-1:j]\n",
        "print(a)\n",
        "\n",
        "b = sorted(a)\n",
        "print(b)\n",
        "\n",
        "print(b[k-1])\n"
      ],
      "metadata": {
        "colab": {
          "base_uri": "https://localhost:8080/"
        },
        "id": "gL9Rwm5b3Wnp",
        "outputId": "f3902f4f-4739-446e-d091-c92e1667a6ae"
      },
      "execution_count": null,
      "outputs": [
        {
          "output_type": "stream",
          "name": "stdout",
          "text": [
            "[5, 2, 6, 3]\n",
            "[2, 3, 5, 6]\n",
            "5\n"
          ]
        }
      ]
    },
    {
      "cell_type": "code",
      "source": [],
      "metadata": {
        "id": "NaKmhLxV3Tgg"
      },
      "execution_count": null,
      "outputs": []
    },
    {
      "cell_type": "code",
      "source": [
        "array = [1,5,2,6,3,7,4]"
      ],
      "metadata": {
        "id": "4Pe9EU8c28_g"
      },
      "execution_count": null,
      "outputs": []
    },
    {
      "source": [
        "def solution(array, commands):\n",
        "    answer = []\n",
        "    for command in commands:\n",
        "        i, j, k = command\n",
        "        sliced_array = array[i-1:j]\n",
        "        sorted_array = sorted(sliced_array)\n",
        "        answer.append(sorted_array[k-1])\n",
        "    return answer"
      ],
      "cell_type": "code",
      "metadata": {
        "id": "NFepjh8i1OM1"
      },
      "execution_count": null,
      "outputs": []
    },
    {
      "cell_type": "code",
      "source": [],
      "metadata": {
        "id": "0UXMZWoQYqSH"
      },
      "execution_count": null,
      "outputs": []
    },
    {
      "cell_type": "code",
      "source": [
        "# 정수 배열 numbers가 매개변수로 주어집니다.\n",
        "# numbers의 원소 중 두 개를 곱해 만들 수 있는 최댓값을 return하도록 solution 함수를 완성해주세요.\n",
        "# -10,000 ≤ numbers의 원소 ≤ 10,000\n",
        "# 2 ≤ numbers 의 길이 ≤ 100\n",
        "\n",
        "\n",
        "def solution(numbers):\n",
        "  answer = 0\n",
        "  i = 0\n",
        "  if i in range(len(numbers)) :\n",
        "    for j in range(len(i+1 , len(numbers))) :\n",
        "      answer = i * j\n",
        "\n",
        "    return answer"
      ],
      "metadata": {
        "id": "3MqUC0Mf85Wb"
      },
      "execution_count": null,
      "outputs": []
    },
    {
      "cell_type": "code",
      "source": [
        "lst = [1, 2, -3, 4, -5]\n",
        "num1 = max(lst) #음수는 포함이 안된다.\n",
        "num2 = max(lst, key = abs)\n",
        "print(num1)\n",
        "print(num2)\n",
        "\n",
        "if i in range(len(numbers)) :\n",
        "  for j in range(len(i+1 , len(numbers)))\n"
      ],
      "metadata": {
        "colab": {
          "base_uri": "https://localhost:8080/"
        },
        "id": "SGTHXvcZV8Hu",
        "outputId": "309c698e-aaea-457f-94d0-4c35853d45b3"
      },
      "execution_count": null,
      "outputs": [
        {
          "output_type": "stream",
          "name": "stdout",
          "text": [
            "4\n",
            "-5\n"
          ]
        }
      ]
    },
    {
      "source": [
        "def solution(numbers):\n",
        "  \"\"\"\n",
        "  정수 배열에서 두 숫자를 곱해 만들 수 있는 최댓값을 반환합니다.\n",
        "\n",
        "  Args:\n",
        "    numbers: 정수 배열.\n",
        "\n",
        "  Returns:\n",
        "    두 숫자의 곱으로 만들 수 있는 최댓값.\n",
        "  \"\"\"\n",
        "  max_product = float('-inf')  # 최댓값을 저장할 변수, 초기값은 음의 무한대\n",
        "\n",
        "  for i in range(len(numbers)):  # 첫 번째 숫자를 선택하는 반복문\n",
        "    for j in range(i + 1, len(numbers)):  # 두 번째 숫자를 선택하는 반복문 (중복 방지)\n",
        "      product = numbers[i] * numbers[j]  # 두 숫자의 곱 계산\n",
        "      if product > max_product:  # 현재 곱이 이전 최댓값보다 큰 경우\n",
        "        max_product = product  # 최댓값 갱신\n",
        "\n",
        "  return max_product  # 최댓값 반환\n",
        "\n",
        "# 예시\n",
        "numbers = [1, 2, 3, 4, 5]\n",
        "max_product = solution(numbers)\n",
        "print(max_product)  # 출력: 20 (4 * 5)"
      ],
      "cell_type": "code",
      "metadata": {
        "id": "uQzqfq17YHdy"
      },
      "execution_count": null,
      "outputs": []
    }
  ]
}
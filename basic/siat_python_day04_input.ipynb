{
  "nbformat": 4,
  "nbformat_minor": 0,
  "metadata": {
    "colab": {
      "provenance": [],
      "authorship_tag": "ABX9TyOucGD76yz2OaG5gqhEevFH",
      "include_colab_link": true
    },
    "kernelspec": {
      "name": "python3",
      "display_name": "Python 3"
    },
    "language_info": {
      "name": "python"
    }
  },
  "cells": [
    {
      "cell_type": "markdown",
      "metadata": {
        "id": "view-in-github",
        "colab_type": "text"
      },
      "source": [
        "<a href=\"https://colab.research.google.com/github/eun551/python/blob/main/basic/siat_python_day04_input.ipynb\" target=\"_parent\"><img src=\"https://colab.research.google.com/assets/colab-badge.svg\" alt=\"Open In Colab\"/></a>"
      ]
    },
    {
      "cell_type": "code",
      "execution_count": null,
      "metadata": {
        "colab": {
          "base_uri": "https://localhost:8080/"
        },
        "id": "VpFt0ReCiGki",
        "outputId": "c01f4a71-b689-44dd-d2cf-24a7ee2c1103"
      },
      "outputs": [
        {
          "output_type": "stream",
          "name": "stdout",
          "text": [
            "이름을 입력하세요 : \n",
            "cho\n",
            "name -  cho <class 'str'>\n"
          ]
        }
      ],
      "source": [
        "# 파이썬의 사용자 입력함수\n",
        "# input()  :  STR 문자열을 반환.\n",
        "# 문자열 정수 INPUT(10)\n",
        "print('이름을 입력하세요 : ')\n",
        "name = input()  # 내가 입력하는 것.\n",
        "print('name - ' , name , type(name))\n"
      ]
    },
    {
      "cell_type": "code",
      "source": [
        "name = input('이름을 입력하세요 : ')\n",
        "print('name - ' , name , type(name))\n",
        "age = int(input('나이를 입력하세요 : '))\n",
        "print('age - ' , age , type(age))\n",
        "height = float(input('키를 입력하세요 : ')) #실수값\n",
        "print('height - ' , height , type(height))"
      ],
      "metadata": {
        "colab": {
          "base_uri": "https://localhost:8080/"
        },
        "id": "DphkGpIziIHh",
        "outputId": "78487d09-6ebb-4804-bac3-497c8dadbe18"
      },
      "execution_count": null,
      "outputs": [
        {
          "output_type": "stream",
          "name": "stdout",
          "text": [
            "이름을 입력하세요 : cho\n",
            "name -  cho <class 'str'>\n",
            "나이를 입력하세요 : 30\n",
            "age -  30 <class 'int'>\n",
            "키를 입력하세요 : 161\n",
            "height -  161.0 <class 'float'>\n"
          ]
        }
      ]
    },
    {
      "cell_type": "code",
      "source": [
        "# boolean type\n",
        "# 파이썬만의 문법\n",
        "# True | False\n",
        "# ' ' , [ ] , ( ) , { } , 0 , None -> 비어있으면, False로 인식한다.\n",
        "\n",
        "tmpLst = []\n",
        "tmpStr = ''\n",
        "print('boolean - ' , bool(tmpLst), bool(tmpStr))\n",
        "\n",
        "tmpLst = [0]\n",
        "tmpStr = 'book'\n",
        "print('boolean - ' , bool(tmpLst), bool(tmpStr))\n"
      ],
      "metadata": {
        "colab": {
          "base_uri": "https://localhost:8080/"
        },
        "id": "u3hblJ3siIKq",
        "outputId": "6bd67ef1-4c46-4eb5-c42b-c31307d47d94"
      },
      "execution_count": null,
      "outputs": [
        {
          "output_type": "stream",
          "name": "stdout",
          "text": [
            "boolean -  False False\n",
            "boolean -  True True\n"
          ]
        }
      ]
    },
    {
      "cell_type": "code",
      "source": [
        "isFlag = True # 앞에 is 가 있으면 데이터가 아닌 논리값을 담는 것이다.\n",
        "print('boolean casting - ' , int(isFlag))\n",
        "\n",
        "isFlag = False\n",
        "print('boolean casting - ' , int(isFlag))\n",
        "\n"
      ],
      "metadata": {
        "colab": {
          "base_uri": "https://localhost:8080/"
        },
        "id": "Sks7sF9miINf",
        "outputId": "9a3a1531-2a2a-475e-d913-c8c6deec1562"
      },
      "execution_count": null,
      "outputs": [
        {
          "output_type": "stream",
          "name": "stdout",
          "text": [
            "boolean casting -  1\n",
            "boolean casting -  0\n"
          ]
        }
      ]
    },
    {
      "cell_type": "code",
      "source": [
        "# boolean - 논리연산자(not, and, or) , 비교연산자 (&,|,~)\n",
        "x = 5 #0101\n",
        "y = 0 #0000\n",
        "print(x & y , bool(x&y)) # x 이고 y\n",
        "# 0101\n",
        "# 0000\n",
        "# 각각 자리를 비교하여 정확하게 일치를 해야 True가 나온다.\n",
        "# 하지만 일치하지 않으니 0 과 false가 나왔다.\n",
        "print(x | y , bool(x|y)) # x 또는 y\n",
        "# 각각 자리를 비교했을 때 하나라도 다르면 True가 나온다.\n"
      ],
      "metadata": {
        "colab": {
          "base_uri": "https://localhost:8080/"
        },
        "id": "cbVzXYRCiIQG",
        "outputId": "8c835b99-4ed4-4aa2-b3eb-942a4270133e"
      },
      "execution_count": null,
      "outputs": [
        {
          "output_type": "stream",
          "name": "stdout",
          "text": [
            "0 False\n",
            "5 True\n"
          ]
        }
      ]
    },
    {
      "cell_type": "code",
      "source": [
        "x = True\n",
        "y = False\n",
        "print(x & y , int(x&y))\n",
        "print(x | y , int(x|y))"
      ],
      "metadata": {
        "colab": {
          "base_uri": "https://localhost:8080/"
        },
        "id": "XS54xgZbiISy",
        "outputId": "c9658e0a-c3c4-4b4b-8391-2c97df6d9c53"
      },
      "execution_count": null,
      "outputs": [
        {
          "output_type": "stream",
          "name": "stdout",
          "text": [
            "False 0\n",
            "True 1\n"
          ]
        }
      ]
    },
    {
      "cell_type": "code",
      "source": [
        "# 제어구문\n",
        "# if 조건식 :\n",
        "# 들여쓰기(indent)\n",
        "\n",
        "tmpLst = [1] #true\n",
        "if tmpLst :\n",
        "  print('pass')\n",
        "else :\n",
        "  print('fail')"
      ],
      "metadata": {
        "colab": {
          "base_uri": "https://localhost:8080/"
        },
        "id": "kjDeOSeCiIVZ",
        "outputId": "6806b266-ce1a-4d55-b0c6-a724754ea3dd"
      },
      "execution_count": null,
      "outputs": [
        {
          "output_type": "stream",
          "name": "stdout",
          "text": [
            "pass\n"
          ]
        }
      ]
    },
    {
      "cell_type": "code",
      "source": [
        "tmpLst = [] #false\n",
        "if tmpLst :\n",
        "  print('pass')\n",
        "else :\n",
        "  print('fail')"
      ],
      "metadata": {
        "colab": {
          "base_uri": "https://localhost:8080/"
        },
        "id": "EI_bYZ2-iIX7",
        "outputId": "d6e55877-dcc7-42db-8969-05aaeb2c6e3b"
      },
      "execution_count": null,
      "outputs": [
        {
          "output_type": "stream",
          "name": "stdout",
          "text": [
            "fail\n"
          ]
        }
      ]
    },
    {
      "cell_type": "code",
      "source": [
        "# Quiz\n",
        "# input()함수를 이용해서 사용자의 점수를 입력받고 60점 이상이면 패스 아니면 과락\n",
        "\n",
        "a=input('사용자의 점수를 입력하시오.')\n",
        "\n",
        "if int(a) >= 60 :\n",
        "  print(\"패스\")\n",
        "else :\n",
        "  print(\"과락\")\n",
        "\n",
        "# if int(input('사용자의 점수를 입력하시오.')) >= 60 :"
      ],
      "metadata": {
        "colab": {
          "base_uri": "https://localhost:8080/"
        },
        "id": "VzBWgY0Yz_tx",
        "outputId": "9b55baf1-37d7-44f8-fe33-88c67f17cfed"
      },
      "execution_count": null,
      "outputs": [
        {
          "output_type": "stream",
          "name": "stdout",
          "text": [
            "사용자의 점수를 입력하시오.59\n",
            "과락\n"
          ]
        }
      ]
    },
    {
      "cell_type": "code",
      "source": [
        "# Quiz\n",
        "# region 이 areas 에 있는 지역인지, 아닌지를 판단하고 싶다면?\n",
        "# if ~ in\n",
        "# 파이썬만 가능. 자바는 쓸 수가 없다.\n",
        "\n",
        "areas = ['서울','부산','서산','광주']\n",
        "region = '수원'\n",
        "\n",
        "if region in areas :\n",
        "  print(\"yes\")\n",
        "else :\n",
        "  print(\"no\")"
      ],
      "metadata": {
        "colab": {
          "base_uri": "https://localhost:8080/"
        },
        "id": "H-CWxw5Uz_xm",
        "outputId": "9949389f-fddd-4c84-d84b-7b5d1e16687f"
      },
      "execution_count": null,
      "outputs": [
        {
          "output_type": "stream",
          "name": "stdout",
          "text": [
            "no\n"
          ]
        }
      ]
    },
    {
      "cell_type": "code",
      "source": [
        "# Quiz\n",
        "# region 이 areas 에 키로 존재하는지를 판단하고 싶다면?\n",
        "# if~in\n",
        "\n",
        "areas = {'서울': 100 , '부산' : 200 ,'서산' : 300 ,'광주' : 400} #순서가 없다.\n",
        "region = '부산'\n",
        "\n",
        "if region in areas :\n",
        "  print(\"존재한다\")\n",
        "else :\n",
        "  print(\"존재하지 않는다.\")\n"
      ],
      "metadata": {
        "colab": {
          "base_uri": "https://localhost:8080/"
        },
        "id": "iIHYdIyzz_0_",
        "outputId": "dafec6cc-a37d-4294-912b-6f373651af2b"
      },
      "execution_count": null,
      "outputs": [
        {
          "output_type": "stream",
          "name": "stdout",
          "text": [
            "존재한다\n"
          ]
        }
      ]
    },
    {
      "cell_type": "code",
      "source": [
        "# Quiz\n",
        "# 윤년(Leap Year)\n",
        "# 4의 배수이고 100의 배수가 아니거나 400의 배수일 때\n",
        "# %  , ==\n",
        "# input 함수를 이용해서 년도를 입력받고\n",
        "# 해당년도가 윤년인지 아닌지를 판단하고 싶다면?\n",
        "\n",
        "year=int(input('해당 년도를 입력하세요 : '))\n",
        "\n",
        "# != 같지 않다.\n",
        "# not은 반대를 말한다. True 의 not은 False\n",
        "\n",
        "if (year % 4 == 0 and year % 100 != 0) or (year % 400 == 0) :\n",
        "  print(\"윤년\")\n",
        "else :\n",
        "  print(\"평년\")"
      ],
      "metadata": {
        "colab": {
          "base_uri": "https://localhost:8080/"
        },
        "id": "oQO0BwY_z_4r",
        "outputId": "500efe0d-ae5a-4176-e832-32d35fb4046f"
      },
      "execution_count": null,
      "outputs": [
        {
          "output_type": "stream",
          "name": "stdout",
          "text": [
            "해당 년도를 입력하세요 : 2065\n",
            "평년\n"
          ]
        }
      ]
    },
    {
      "cell_type": "code",
      "source": [
        "# Quiz\n",
        "# input 함수를 이용해서 년도와 월을 입력받아 해당년도가 윤년일 경우\n",
        "# 2월달의 마지막은 29일, 평년의 마지막은 28일\n",
        "#출력 예시 ) xxxx년 xx월 마지막일은 xx일 입니다.\n",
        "\n",
        "\n",
        "a = int(input(\"몇년입니까?\"))\n",
        "b = int(input(\"몇월입니까?\"))\n",
        "\n",
        "\n",
        "if (a % 4 == 0 and a % 100 != 0) or (a % 400 == 0) :\n",
        "  #년도가 윤년이면 달에서.\n",
        "  if b == 1 or b == 3 or b == 5 or b == 7 or b == 8 or b == 10 or b == 12 :\n",
        "    print(a ,\"년\" ,b ,\"월\" , \"마지막일은 31일 입니다.\")\n",
        "  elif b == 4 or b == 6 or b == 9 or b == 11 :\n",
        "    print(a ,\"년\" ,b , \"월\" , \"마지막일은 30일 입니다.\")\n",
        "  else :\n",
        "    print(a ,\"년\" ,b , \"월\" , \"마지막일은 29일 입니다.\")\n",
        "else :\n",
        "  #년도가 평년이면 달에서.\n",
        "\n",
        "\n",
        "\n",
        "\n"
      ],
      "metadata": {
        "colab": {
          "base_uri": "https://localhost:8080/",
          "height": 110
        },
        "id": "2ptf-7Vdz_8i",
        "outputId": "3d3944bf-2e91-48b5-97da-cfe253e5b5ac"
      },
      "execution_count": null,
      "outputs": [
        {
          "output_type": "error",
          "ename": "SyntaxError",
          "evalue": "invalid syntax (<ipython-input-66-e96d7dfb9ecd>, line 15)",
          "traceback": [
            "\u001b[0;36m  File \u001b[0;32m\"<ipython-input-66-e96d7dfb9ecd>\"\u001b[0;36m, line \u001b[0;32m15\u001b[0m\n\u001b[0;31m    elseif b == 4 or b == 6 or b == 9 or b == 11 :\u001b[0m\n\u001b[0m           ^\u001b[0m\n\u001b[0;31mSyntaxError\u001b[0m\u001b[0;31m:\u001b[0m invalid syntax\n"
          ]
        }
      ]
    },
    {
      "cell_type": "code",
      "source": [
        "# Quiz\n",
        "# input 함수를 이용해서 년도와 월을 입력받아 해당년도가 윤년일 경우\n",
        "# 2월달의 마지막은 29일, 평년의 마지막은 28일\n",
        "#출력 예시 ) xxxx년 xx월 마지막일은 xx일 입니다.\n",
        "\n",
        "\n",
        "year = int(input(\"년도 입력 : \"))\n",
        "month = int(input(\"월 입력 : \"))\n",
        "# print('년도 : {} , 월 : {}'.format(year,month))\n",
        "# print()\n",
        "yearMonth = [31,28,31,30,31,30,31,31,30,31,30,31]\n",
        "leapMonth = [31,29,31,30,31,30,31,31,30,31,30,31]\n",
        "\n",
        "if (year % 4 == 0 and year % 100 != 0) or (year % 400 == 0) :\n",
        "  print(\"{}년 {}월 마지막일은 {}일 입니다.\".format(year,month,leapMonth[month-1]))\n",
        "else :\n",
        "  print(\"{}년 {}월 마지막일은 {}일 입니다.\".format(year,month,yearMonth[month-1]))"
      ],
      "metadata": {
        "colab": {
          "base_uri": "https://localhost:8080/"
        },
        "id": "dPHoaDwyz__z",
        "outputId": "507b0ed6-380b-4dc4-bc92-a76be294c029"
      },
      "execution_count": null,
      "outputs": [
        {
          "output_type": "stream",
          "name": "stdout",
          "text": [
            "년도 입력 : 2024\n",
            "월 입력 : 2\n",
            "2024년 2월 마지막일은 29일 입니다.\n"
          ]
        }
      ]
    },
    {
      "cell_type": "code",
      "source": [
        "# Quiz\n",
        "# input 함수를 이용해서 년도와 월을 입력받아 해당년도가 윤년일 경우\n",
        "# 2월달의 마지막은 29일, 평년의 마지막은 28일\n",
        "#출력 예시 ) xxxx년 xx월 마지막일은 xx일 입니다.\n",
        "\n",
        "\n",
        "year = int(input(\"년도 입력 : \"))\n",
        "month = int(input(\"월 입력 : \"))\n",
        "# print('년도 : {} , 월 : {}'.format(year,month))\n",
        "# print()\n",
        "months = [31,28,31,30,31,30,31,31,30,31,30,31]\n",
        "\n",
        "\n",
        "if (year % 4 == 0 and year % 100 != 0) or (year % 400 == 0) :\n",
        "  print(\"{}년 {}월 마지막일은 {}일 입니다.\".format(year,month,months[month-1]+1))  # 28+1=29\n",
        "else :\n",
        "  print(\"{}년 {}월 마지막일은 {}일 입니다.\".format(year,month,months[month-1]))"
      ],
      "metadata": {
        "colab": {
          "base_uri": "https://localhost:8080/"
        },
        "id": "LXHvNt5V0ADL",
        "outputId": "a488296f-4619-44cc-fde8-b21e0e169996"
      },
      "execution_count": null,
      "outputs": [
        {
          "output_type": "stream",
          "name": "stdout",
          "text": [
            "년도 입력 : 2024\n",
            "월 입력 : 2\n",
            "2024년 2월 마지막일은 29일 입니다.\n"
          ]
        }
      ]
    },
    {
      "cell_type": "code",
      "source": [
        "year = int(input(\"년도 입력 : \"))\n",
        "month = int(input(\"월 입력 : \"))\n",
        "# print('년도 : {} , 월 : {}'.format(year,month))\n",
        "# print()\n",
        "months = [31,28,31,30,31,30,31,31,30,31,30,31]\n",
        "\n",
        "\n",
        "if (year % 4 == 0 and year % 100 != 0) or (year % 400 == 0) :\n",
        "  if month == 2 :\n",
        "    print(\"{}년 {}월 마지막일은 {}일 입니다.\".format(year,month,months[month-1]+1))\n",
        "  else :\n",
        "    print(\"{}년 {}월 마지막일은 {}일 입니다.\".format(year,month,months[month-1]))\n",
        "else :\n",
        "  print(\"{}년 {}월 마지막일은 {}일 입니다.\".format(year,month,months[month-1]))\n"
      ],
      "metadata": {
        "colab": {
          "base_uri": "https://localhost:8080/"
        },
        "id": "rR_KNAsb0AGn",
        "outputId": "0046a1d1-2fb1-4827-885b-42ffd06d439a"
      },
      "execution_count": null,
      "outputs": [
        {
          "output_type": "stream",
          "name": "stdout",
          "text": [
            "년도 입력 : 2024\n",
            "월 입력 : 2\n",
            "2024년 2월 마지막일은 29일 입니다.\n"
          ]
        }
      ]
    },
    {
      "cell_type": "code",
      "source": [
        "year = int(input(\"년도 입력 : \"))\n",
        "month = int(input(\"월 입력 : \"))\n",
        "# print('년도 : {} , 월 : {}'.format(year,month))\n",
        "# print()\n",
        "months = [31,28,31,30,31,30,31,31,30,31,30,31]\n",
        "\n",
        "\n",
        "if (year % 4 == 0 and year % 100 != 0) :\n",
        "  if month == 2 :\n",
        "    print(\"{}년 {}월 마지막일은 {}일 입니다.\".format(year,month,months[month-1]+1))\n",
        "  else :\n",
        "    print(\"{}년 {}월 마지막일은 {}일 입니다.\".format(year,month,months[month-1]))\n",
        "elif (year % 400 == 0) :\n",
        "  pass\n",
        "else :\n",
        "  print(\"{}년 {}월 마지막일은 {}일 입니다.\".format(year,month,months[month-1]))"
      ],
      "metadata": {
        "colab": {
          "base_uri": "https://localhost:8080/"
        },
        "id": "SjM2IbqAJx72",
        "outputId": "55d95643-898e-45e7-fefd-f480c0ae0c25"
      },
      "execution_count": null,
      "outputs": [
        {
          "output_type": "stream",
          "name": "stdout",
          "text": [
            "년도 입력 : 2024\n",
            "월 입력 : 2\n",
            "2024년 2월 마지막일은 29일 입니다.\n"
          ]
        }
      ]
    },
    {
      "cell_type": "code",
      "source": [
        "# 중첩 조건문\n",
        "# 등급이 A이고 평균이 95점 이상이면 장학금을 100% , 이하면 90% 장학금\n",
        "\n",
        "grade = 'A'\n",
        "avg = 91\n",
        "\n",
        "if grade == \"A\" :\n",
        "  if avg >= 95 :\n",
        "    print(\"장학금 100%\")\n",
        "  else :\n",
        "    print(\"장학금 90%\")\n"
      ],
      "metadata": {
        "colab": {
          "base_uri": "https://localhost:8080/"
        },
        "id": "tVIf1BtWOsDJ",
        "outputId": "bcca97b5-e1dc-4879-8fd6-b5199a78d920"
      },
      "execution_count": null,
      "outputs": [
        {
          "output_type": "stream",
          "name": "stdout",
          "text": [
            "장학금 90%\n"
          ]
        }
      ]
    },
    {
      "cell_type": "code",
      "source": [
        "# 다중 조건\n",
        "# if ~ elif ~ elif ~ elif ~ else\n",
        "# Quize\n",
        "# 학생의 총점을 입력받아서  100~85 이면 우수, 84~70이면 보통, 69 이하면 노력\n",
        "\n",
        "score = int(input(\"총점을 적으세요.\"))\n",
        "if 85 <= score <= 100 :\n",
        "  print(\"우수\")\n",
        "elif 70 <= score <= 84 :\n",
        "  print(\"보통\")\n",
        "else :\n",
        "  print(\"노력\")\n"
      ],
      "metadata": {
        "colab": {
          "base_uri": "https://localhost:8080/"
        },
        "id": "-Rcsk4umOsHg",
        "outputId": "48242e03-f41d-405d-8bd7-f849be92b06e"
      },
      "execution_count": null,
      "outputs": [
        {
          "output_type": "stream",
          "name": "stdout",
          "text": [
            "총점을 적으세요.69\n",
            "노력\n"
          ]
        }
      ]
    },
    {
      "cell_type": "code",
      "source": [
        "\n",
        "score = int(input(\"총점을 적으세요.\"))\n",
        "grade = ''\n",
        "\n",
        "if score >= 85 and score <=100 :\n",
        "  grade='우수'\n",
        "elif 70 <= score <= 84 :\n",
        "  grade='보통'\n",
        "else :\n",
        "  grade='노력'\n",
        "\n",
        "print('당신의 점수는 %d점 이고, %s 입니다.' % (score,grade))  # %d 정수 %f 실수 %s 문자열"
      ],
      "metadata": {
        "colab": {
          "base_uri": "https://localhost:8080/"
        },
        "id": "Os7u2Yk5UX4b",
        "outputId": "5a1d222e-2b17-46bb-8a11-afeef4b844fa"
      },
      "execution_count": null,
      "outputs": [
        {
          "output_type": "stream",
          "name": "stdout",
          "text": [
            "총점을 적으세요.80\n",
            "당신의 점수는 80점 이고, 보통 입니다.\n"
          ]
        }
      ]
    },
    {
      "cell_type": "code",
      "source": [
        "# Quize\n",
        "# 학생의 학점과 점수를 입력받아서  A학점 이면서 90 이상이면 장학금 100%, A학점 이면서 80 이상이면 장학금 80%, A학점 이면서 80 미만이면 장학금 70%,\n",
        "# A학점이 아니면 장학금 50%\n",
        "\n",
        "grade = input(\"학점\")\n",
        "score = int(input(\"점수\"))\n",
        "\n",
        "if grade == \"A\" :\n",
        "  if score >= 90 :\n",
        "    print(\"장학금 100%\")\n",
        "  elif score >= 80 :\n",
        "    print(\"장학금 80%\")\n",
        "  else :\n",
        "    print(\"장학금 70%\")\n",
        "else :\n",
        "  print(\"장학금 50%\")\n",
        "\n",
        "\n"
      ],
      "metadata": {
        "colab": {
          "base_uri": "https://localhost:8080/"
        },
        "id": "8D7RaNhuQNlj",
        "outputId": "a800e3c7-c83d-4e92-9b8d-588a933beacf"
      },
      "execution_count": null,
      "outputs": [
        {
          "output_type": "stream",
          "name": "stdout",
          "text": [
            "학점B\n",
            "점수50\n",
            "장학금 50%\n"
          ]
        }
      ]
    },
    {
      "cell_type": "code",
      "source": [
        "grade = input(\"학점\")\n",
        "\n",
        "if grade == \"A\" :\n",
        "  if int(input(\"점수\")) >= 90 :\n",
        "    print(\"장학금 100%\")\n",
        "  elif int(input(\"점수\")) >= 80 :\n",
        "    print(\"장학금 80%\")\n",
        "  else :\n",
        "    print(\"장학금 70%\")\n",
        "else :\n",
        "  print(\"장학금 50%\")\n"
      ],
      "metadata": {
        "colab": {
          "base_uri": "https://localhost:8080/"
        },
        "id": "wJqCXrllOsLZ",
        "outputId": "b62bc688-cef3-4282-b361-1e2a5d83c881"
      },
      "execution_count": null,
      "outputs": [
        {
          "output_type": "stream",
          "name": "stdout",
          "text": [
            "학점B\n",
            "장학금 50%\n"
          ]
        }
      ]
    },
    {
      "cell_type": "code",
      "source": [
        "\n",
        "data = 9\n",
        "if data >= 5 :\n",
        "  result = data * 2\n",
        "else :\n",
        "  result = data + 2\n",
        "print('result - ', result)"
      ],
      "metadata": {
        "id": "bJ3MI1z1OsPq",
        "colab": {
          "base_uri": "https://localhost:8080/"
        },
        "outputId": "9237c99b-ea27-4fdd-eb25-60d381ef299a"
      },
      "execution_count": null,
      "outputs": [
        {
          "output_type": "stream",
          "name": "stdout",
          "text": [
            "result -  18\n"
          ]
        }
      ]
    },
    {
      "cell_type": "code",
      "source": [
        "# 삼항연산자\n",
        "# 조건식, 참, 거짓\n",
        "# 형식)  참 if (조건식) else 거짓\n",
        "\n",
        "result = data * 2 if data >= 5 else data + 2\n",
        "print('삼항연산자 - ', result)"
      ],
      "metadata": {
        "id": "MVkYQF_vOsTC",
        "colab": {
          "base_uri": "https://localhost:8080/"
        },
        "outputId": "530fc1a0-1c8c-4b93-cb90-d718c51750c4"
      },
      "execution_count": null,
      "outputs": [
        {
          "output_type": "stream",
          "name": "stdout",
          "text": [
            "삼항연산자 -  18\n"
          ]
        }
      ]
    },
    {
      "cell_type": "code",
      "source": [
        "# if ~ in 구문\n",
        "\n",
        "#Quiz\n",
        "tmpDict = {\n",
        "    'name' : 'cho' ,\n",
        "    'city' : 'seoul' ,\n",
        "    'gender' : 'female'\n",
        "}\n",
        "\n",
        "#제공되는 데이터타입에서 이름이 'cho' 인 데이터가 있다면 ok 없으면 fail 출력\n",
        "\n",
        "result = 'ok' if 'cho' in tmpDict[\"name\"] else 'fail'\n",
        "print(result)"
      ],
      "metadata": {
        "id": "rf-3xlVbOsWp",
        "colab": {
          "base_uri": "https://localhost:8080/"
        },
        "outputId": "b53a9c0d-b416-4faf-d673-296728985c73"
      },
      "execution_count": null,
      "outputs": [
        {
          "output_type": "stream",
          "name": "stdout",
          "text": [
            "ok\n"
          ]
        }
      ]
    },
    {
      "cell_type": "code",
      "source": [
        "# keys() , valuse() , items() 함수명을 가진다.\n",
        "\n",
        "if 'CHO' in tmpDict.values() :\n",
        "  print('ok')\n",
        "else :\n",
        "  print('fail')\n"
      ],
      "metadata": {
        "colab": {
          "base_uri": "https://localhost:8080/"
        },
        "id": "OF6UTqQkr1W5",
        "outputId": "eff51889-51a6-412f-ff62-465cee3ed6f8"
      },
      "execution_count": null,
      "outputs": [
        {
          "output_type": "stream",
          "name": "stdout",
          "text": [
            "fail\n"
          ]
        }
      ]
    },
    {
      "cell_type": "code",
      "source": [
        "if 'CHO'.lower() in tmpDict.values() :\n",
        "  print('ok')\n",
        "else :\n",
        "  print('fail')"
      ],
      "metadata": {
        "colab": {
          "base_uri": "https://localhost:8080/"
        },
        "id": "Kok7drnjr1aU",
        "outputId": "192c8169-7308-484b-a6d6-0f979ce367f6"
      },
      "execution_count": null,
      "outputs": [
        {
          "output_type": "stream",
          "name": "stdout",
          "text": [
            "ok\n"
          ]
        }
      ]
    },
    {
      "cell_type": "code",
      "source": [],
      "metadata": {
        "id": "1fW_Oc5or1dV"
      },
      "execution_count": null,
      "outputs": []
    },
    {
      "cell_type": "code",
      "source": [],
      "metadata": {
        "id": "DRmf3suLr1gt"
      },
      "execution_count": null,
      "outputs": []
    },
    {
      "cell_type": "code",
      "source": [],
      "metadata": {
        "id": "vlyR0br6r1kB"
      },
      "execution_count": null,
      "outputs": []
    },
    {
      "cell_type": "code",
      "source": [],
      "metadata": {
        "id": "Mc3UJH9Mr1nK"
      },
      "execution_count": null,
      "outputs": []
    },
    {
      "cell_type": "code",
      "source": [],
      "metadata": {
        "id": "XIzGj8oxOsZv"
      },
      "execution_count": null,
      "outputs": []
    },
    {
      "cell_type": "code",
      "source": [],
      "metadata": {
        "id": "n2vo9ep4Oscu"
      },
      "execution_count": null,
      "outputs": []
    }
  ]
}
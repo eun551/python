{
  "nbformat": 4,
  "nbformat_minor": 0,
  "metadata": {
    "colab": {
      "provenance": [],
      "authorship_tag": "ABX9TyMD2FXF+rWcjyaGxKdgGkQ/",
      "include_colab_link": true
    },
    "kernelspec": {
      "name": "python3",
      "display_name": "Python 3"
    },
    "language_info": {
      "name": "python"
    }
  },
  "cells": [
    {
      "cell_type": "markdown",
      "metadata": {
        "id": "view-in-github",
        "colab_type": "text"
      },
      "source": [
        "<a href=\"https://colab.research.google.com/github/eun551/python/blob/main/siat_python_day02_%EB%A6%AC%EC%8A%A4%ED%8A%B8.ipynb\" target=\"_parent\"><img src=\"https://colab.research.google.com/assets/colab-badge.svg\" alt=\"Open In Colab\"/></a>"
      ]
    },
    {
      "cell_type": "code",
      "execution_count": null,
      "metadata": {
        "colab": {
          "base_uri": "https://localhost:8080/"
        },
        "id": "ARjSuqCEUSda",
        "outputId": "66d067fb-bbd0-4def-d786-2f9160b3ce98"
      },
      "outputs": [
        {
          "output_type": "stream",
          "name": "stdout",
          "text": [
            "type - <class 'str'>\n",
            "find - 17\n",
            "com-  com\n",
            "com- com\n"
          ]
        }
      ],
      "source": [
        "# 문자열에서 도메인만 출력하시오.\n",
        "url = 'http://www.naver.com'\n",
        "print('type -', type(url))\n",
        "\n",
        "print('find -',url.find('com'))\n",
        "print('com- ', url[-3 : ])\n",
        "print('com-' , url[url.find('com') : ])"
      ]
    },
    {
      "cell_type": "code",
      "source": [
        "companyName = '    삼성전자    '\n",
        "print('length - ', len(companyName))\n",
        "# 공백 제거\n",
        "print(companyName.lstrip() , len(companyName.lstrip()))\n",
        "print(companyName.rstrip() , len(companyName.rstrip()))\n",
        "print(companyName.strip() , len(companyName.strip()))"
      ],
      "metadata": {
        "id": "u9HuBQYNWAph",
        "colab": {
          "base_uri": "https://localhost:8080/"
        },
        "outputId": "d9b8c0b7-f168-48e3-8f7b-000b311fc5f4"
      },
      "execution_count": null,
      "outputs": [
        {
          "output_type": "stream",
          "name": "stdout",
          "text": [
            "length -  12\n",
            "삼성전자     8\n",
            "    삼성전자 8\n",
            "삼성전자 4\n"
          ]
        }
      ]
    },
    {
      "cell_type": "code",
      "source": [
        "# 제공되는 문자열을 대문자로 변환하시오\n",
        "companyName = 'samsung'\n",
        "print('대문자 - ', companyName.upper())\n",
        "\n",
        "# 제공되는 문자열을 소문자로 변환하시오\n",
        "companyName = 'SAMSUNG'\n",
        "print('대문자 - ', companyName.lower())"
      ],
      "metadata": {
        "colab": {
          "base_uri": "https://localhost:8080/"
        },
        "id": "n4hQhYGFhkwG",
        "outputId": "b3271c7c-e5b5-4bca-a2f6-4c2c84ac64e4"
      },
      "execution_count": null,
      "outputs": [
        {
          "output_type": "stream",
          "name": "stdout",
          "text": [
            "대문자 -  SAMSUNG\n",
            "대문자 -  samsung\n"
          ]
        }
      ]
    },
    {
      "cell_type": "code",
      "source": [
        "# 제공되는 문자열에서 파일의 확장자가 xls, xlsx 파일인지를 확인하고 싶다\n",
        "fileName = 'report.xlsm'\n",
        "flag = fileName.endswith(('xls','xlsx','xlsm'))\n",
        "print('flag - ', flag)\n",
        "\n",
        "fileName = 'report.xls'\n",
        "flag = fileName.endswith('xls')\n",
        "print('flag - ', flag)\n",
        "\n",
        "\n",
        "fileName = 'report.hwp'\n",
        "flag = fileName.endswith('xls')\n",
        "print('flag - ', flag)"
      ],
      "metadata": {
        "colab": {
          "base_uri": "https://localhost:8080/"
        },
        "id": "6mDwAFKBiHKT",
        "outputId": "8d94f97d-b359-451f-bd60-f5ff0fdba83d"
      },
      "execution_count": null,
      "outputs": [
        {
          "output_type": "stream",
          "name": "stdout",
          "text": [
            "flag -  True\n",
            "flag -  True\n",
            "flag -  False\n"
          ]
        }
      ]
    },
    {
      "cell_type": "code",
      "source": [
        "# in , not in  연산자\n",
        "# 제공되는 리스트에서 melon이 있는지 없는지를 판단하고 싶다면?\n",
        "\n",
        "exLst = ['apple','banana','durian','orange']\n",
        "\n",
        "print('melon' in exLst)\n",
        "\n",
        "print('banana' in exLst)\n",
        "\n",
        "print('apple' not in exLst)\n",
        "\n",
        "print('melon' not in exLst)\n",
        "\n"
      ],
      "metadata": {
        "colab": {
          "base_uri": "https://localhost:8080/"
        },
        "id": "-wnpq-Pulywh",
        "outputId": "e105531d-0e69-4326-a90e-fdf20195d1b6"
      },
      "execution_count": null,
      "outputs": [
        {
          "output_type": "stream",
          "name": "stdout",
          "text": [
            "False\n",
            "True\n",
            "False\n",
            "True\n"
          ]
        }
      ]
    },
    {
      "cell_type": "code",
      "source": [
        "# 대용량의 데이터를 다루기 위한 중요한 변수 타입은 list\n",
        "# array X\n",
        "# 순서, 중복, 수정, 삭제 가능\n",
        "# [] , list()\n",
        "dummyLst = []\n",
        "print('type - ', type(dummyLst))\n",
        "print('data - ', dummyLst)\n",
        "\n",
        "# 데이터 넣기\n",
        "dummyLst.append('A')\n",
        "dummyLst.append('B')  # 2개 이상 넣을 수 없다.\n",
        "print('append - ', dummyLst)\n",
        "\n",
        "dummyLst.insert(1,'C') # 1 인덱스 자리에 추가 삽입된다.\n",
        "print('insert - ', dummyLst)\n",
        "\n",
        "# 데이터 빼기\n",
        "#print('pop - ', dummyLst.pop())\n",
        "#print('data - ', dummyLst)\n",
        "\n",
        "print('pop - ', dummyLst.pop(0))\n",
        "print('data - ', dummyLst)\n",
        "\n",
        "dummyLst.insert(1,'E')\n",
        "print('insert - ', dummyLst)\n",
        "\n",
        "# 인덱스 번호 확인\n",
        "print('특정 요소의 인덱스번지를 확인하고 싶다면?  - index() ')\n",
        "print('index - ' , dummyLst.index('E'))\n",
        "\n",
        "\n"
      ],
      "metadata": {
        "colab": {
          "base_uri": "https://localhost:8080/"
        },
        "id": "PyUeYY-Em_1t",
        "outputId": "75faa1c1-a755-4cda-a245-5484948415d2"
      },
      "execution_count": null,
      "outputs": [
        {
          "output_type": "stream",
          "name": "stdout",
          "text": [
            "type -  <class 'list'>\n",
            "data -  []\n",
            "append -  ['A', 'B']\n",
            "insert -  ['A', 'C', 'B']\n",
            "pop -  A\n",
            "data -  ['C', 'B']\n",
            "insert -  ['C', 'E', 'B']\n",
            "특정 요소의 인덱스번지를 확인하고 싶다면?  - index() \n",
            "index -  1\n"
          ]
        }
      ]
    },
    {
      "cell_type": "markdown",
      "source": [
        "# ---- 실습\n",
        "movieRank = ['그루엘라' , '랑종' , '모가디슈' , '블랙위도우' , '강철비2' , '반도' , '킹덤']\n",
        "'''\n",
        "1. 배드맨을 마지막에 추가\n",
        "2. 랑종과 모가디슈 사이에 임정섭을 추가\n",
        "3. 블랙위도우 삭제\n",
        "4. 모가디슈와 강철비2 삭제\n",
        "5. 그루엘라의 인덱스를 구해서 pop()함수를 이용한 삭제\n",
        "6. 최종 리스트 출력\n",
        "'''"
      ],
      "metadata": {
        "id": "XSIxEcVK3HS6"
      }
    },
    {
      "cell_type": "code",
      "source": [],
      "metadata": {
        "id": "lRL9eShGG9li"
      },
      "execution_count": null,
      "outputs": []
    },
    {
      "cell_type": "code",
      "source": [
        "movieRank = ['그루엘라' , '랑종' , '모가디슈' , '블랙위도우' , '강철비2' , '반도' , '킹덤']\n",
        "\n",
        "movieRank.append('배트맨')\n",
        "print('Q01-', movieRank)\n",
        "\n",
        "movieRank.insert(2,'임정섭')\n",
        "print('Q02-',movieRank)\n",
        "\n",
        "movieRank.pop( movieRank.index('블랙위도우') )\n",
        "print('Q03-',movieRank)\n",
        "\n",
        "del movieRank[3:4]\n",
        "print('Q04-',movieRank)\n",
        "\n",
        "#내가 한 것\n",
        "#print('pop - ', dummyLst.pop(3))\n",
        "#print('pop - ', dummyLst.pop(3))\n",
        "#print('Q04-',movieRank)\n",
        "\n",
        "movieRank.pop( movieRank.index('그루엘라') )\n",
        "print('Q05-',movieRank)\n",
        "\n",
        "#내가 한 것\n",
        "#print('index - ', movieRank.index('그루엘라'))\n",
        "#movieRank.pop(0)\n",
        "#print('Q05- ', movieRank)"
      ],
      "metadata": {
        "colab": {
          "base_uri": "https://localhost:8080/"
        },
        "id": "oFXvXcMHubbm",
        "outputId": "dbd74134-23c2-4b17-b433-a868ae0f9a94"
      },
      "execution_count": null,
      "outputs": [
        {
          "output_type": "stream",
          "name": "stdout",
          "text": [
            "Q01- ['그루엘라', '랑종', '모가디슈', '블랙위도우', '강철비2', '반도', '킹덤', '배트맨']\n",
            "Q02- ['그루엘라', '랑종', '임정섭', '모가디슈', '블랙위도우', '강철비2', '반도', '킹덤', '배트맨']\n",
            "Q03- ['그루엘라', '랑종', '임정섭', '모가디슈', '강철비2', '반도', '킹덤', '배트맨']\n",
            "Q04- ['그루엘라', '랑종', '임정섭', '강철비2', '반도', '킹덤', '배트맨']\n",
            "Q05- ['랑종', '임정섭', '강철비2', '반도', '킹덤', '배트맨']\n"
          ]
        }
      ]
    },
    {
      "cell_type": "code",
      "source": [
        "numLst = [1,2,3,4,5,6,7]\n",
        "print('sum -',sum(numLst))\n",
        "print('max - ',max(numLst))\n",
        "print('min - ', min(numLst))\n",
        "print('mean - ', sum(numLst) / len(numLst))\n",
        "#len은 길이뿐만 아니라 요소의 개수를 나타내기도 한다.\n"
      ],
      "metadata": {
        "colab": {
          "base_uri": "https://localhost:8080/"
        },
        "id": "OgsyD4vI2Wsm",
        "outputId": "0dc49404-51de-42f5-e431-ccdf73795844"
      },
      "execution_count": null,
      "outputs": [
        {
          "output_type": "stream",
          "name": "stdout",
          "text": [
            "sum - 28\n",
            "max -  7\n",
            "min -  1\n",
            "mean -  4.0\n"
          ]
        }
      ]
    },
    {
      "cell_type": "code",
      "source": [
        "# range() : 숫자 Sequence 함수\n",
        "tmpRange = range(10)\n",
        "print('type - ' , type(tmpRange))\n",
        "print('data - ' , tmpRange)\n",
        "\n",
        "# 반복구문 ( 루프구문 )\n",
        "# for ~ in 열거형변수 :    # 콜론 까지 문법, 열거형 (index가 있는 )\n",
        "# print() , printIn()\n",
        "for x in tmpRange :\n",
        "  print(x)\n",
        "print('loop 종료')\n"
      ],
      "metadata": {
        "colab": {
          "base_uri": "https://localhost:8080/"
        },
        "id": "btKrRchzubpO",
        "outputId": "1f4e3c8d-f4c5-489e-8332-26e28c51e536"
      },
      "execution_count": null,
      "outputs": [
        {
          "output_type": "stream",
          "name": "stdout",
          "text": [
            "type -  <class 'range'>\n",
            "data -  range(0, 10)\n",
            "0\n",
            "1\n",
            "2\n",
            "3\n",
            "4\n",
            "5\n",
            "6\n",
            "7\n",
            "8\n",
            "9\n",
            "loop 종료\n"
          ]
        }
      ]
    },
    {
      "cell_type": "code",
      "source": [
        "for x in tmpRange :\n",
        "  print(x , end = \"\\t\")  # 한줄로 출력이 된다.\n",
        "print('loop 종료')"
      ],
      "metadata": {
        "colab": {
          "base_uri": "https://localhost:8080/"
        },
        "id": "kQ9PJ0pCVyX6",
        "outputId": "103cb542-3cc4-461b-8ab9-25e4849b6fd0"
      },
      "execution_count": null,
      "outputs": [
        {
          "output_type": "stream",
          "name": "stdout",
          "text": [
            "0\t1\t2\t3\t4\t5\t6\t7\t8\t9\tloop 종료\n"
          ]
        }
      ]
    },
    {
      "cell_type": "code",
      "source": [
        "for x in tmpRange :\n",
        "  print(x , end = \"\\t\")  # 한줄로 출력이 된다.\n",
        "print()\n",
        "print('loop 종료')\n"
      ],
      "metadata": {
        "colab": {
          "base_uri": "https://localhost:8080/"
        },
        "id": "HwSU7EATubtN",
        "outputId": "0afbad5a-8835-4a0f-cf58-b31b1d71c3a1"
      },
      "execution_count": null,
      "outputs": [
        {
          "output_type": "stream",
          "name": "stdout",
          "text": [
            "0\t1\t2\t3\t4\t5\t6\t7\t8\t9\t\n",
            "loop 종료\n"
          ]
        }
      ]
    },
    {
      "cell_type": "code",
      "source": [
        "tmpRange = range(1,11)\n",
        "for x in tmpRange :\n",
        "  print(x , end=\"\\t\")\n",
        "print()\n",
        "print(\"종료\")"
      ],
      "metadata": {
        "colab": {
          "base_uri": "https://localhost:8080/"
        },
        "id": "fUJkaL3nubwj",
        "outputId": "e42b4687-000d-4e3f-a7c0-d71999260736"
      },
      "execution_count": null,
      "outputs": [
        {
          "output_type": "stream",
          "name": "stdout",
          "text": [
            "1\t2\t3\t4\t5\t6\t7\t8\t9\t10\t\n",
            "종료\n"
          ]
        }
      ]
    },
    {
      "cell_type": "code",
      "source": [
        "tmpRange = range(1,11,2)\n",
        "for x in tmpRange :\n",
        "  print(x , end=\"\\t\")\n",
        "print()\n",
        "print(\"종료\")"
      ],
      "metadata": {
        "colab": {
          "base_uri": "https://localhost:8080/"
        },
        "id": "Nd0t_v22m_6C",
        "outputId": "41a01a83-e62f-4c47-c54e-2222dd7a05db"
      },
      "execution_count": null,
      "outputs": [
        {
          "output_type": "stream",
          "name": "stdout",
          "text": [
            "1\t3\t5\t7\t9\t\n",
            "종료\n"
          ]
        }
      ]
    },
    {
      "cell_type": "code",
      "source": [
        "flag = 10 in tmpRange\n",
        "print('flag - ', flag)"
      ],
      "metadata": {
        "colab": {
          "base_uri": "https://localhost:8080/"
        },
        "id": "N9npu5sjauud",
        "outputId": "d961722e-2201-4112-a435-0480ad95ed1d"
      },
      "execution_count": null,
      "outputs": [
        {
          "output_type": "stream",
          "name": "stdout",
          "text": [
            "flag -  False\n"
          ]
        }
      ]
    },
    {
      "cell_type": "code",
      "source": [
        "import random\n",
        "\n",
        "tmpLst = []\n",
        "for x in range(6) :\n",
        "  tmpLst.append( random.randint(1,46 ) )\n",
        "\n",
        "print(tmpLst)"
      ],
      "metadata": {
        "colab": {
          "base_uri": "https://localhost:8080/"
        },
        "id": "lafZP_TLau1J",
        "outputId": "9c6e72f2-781d-489d-9edc-cf0073d4c54e"
      },
      "execution_count": null,
      "outputs": [
        {
          "output_type": "stream",
          "name": "stdout",
          "text": [
            "[30, 2, 37, 41, 4, 16]\n"
          ]
        }
      ]
    },
    {
      "cell_type": "code",
      "source": [
        "# list comprehension\n",
        "# list 구문 안에 for 구문과 if을 구현할 수 있다.\n",
        "# 기존 리스트 안에서 처리된 결과를 다시 담는 구현 방식\n",
        "# 구문형식 [ 실행구문 for 변수 in 열거형객체 if 조건식 ]\n",
        "#Quiz\n",
        "# 리스트의 요소의 값을 제곱승한 값의 결과를 확인하고 싶다.\n",
        "lst = [2,4,1,5,3]\n",
        "# 반복 -> 리스트 안의 값을 꺼낸다 -> 새로운 리스트에 담는다.\n",
        "# print(3**2)\n",
        "result = []\n",
        "\n",
        "for x in lst :\n",
        "  result.append( x ** 2)\n",
        "print()\n",
        "print(result)"
      ],
      "metadata": {
        "colab": {
          "base_uri": "https://localhost:8080/"
        },
        "id": "8lGPCcGMavMm",
        "outputId": "94c67dd4-e8a9-4682-f1fb-8fbd10fb4edf"
      },
      "execution_count": null,
      "outputs": [
        {
          "output_type": "stream",
          "name": "stdout",
          "text": [
            "\n",
            "[4, 16, 1, 25, 9]\n"
          ]
        }
      ]
    },
    {
      "cell_type": "code",
      "source": [
        "# 구문형식 [ 실행구문 for 변수 in 열거형객체 if 조건식 ]\n",
        "result = [ x**2 for x in lst ]\n",
        "print(result)"
      ],
      "metadata": {
        "colab": {
          "base_uri": "https://localhost:8080/"
        },
        "id": "hpljHw-OavXu",
        "outputId": "a0b795ff-65f0-4f61-d147-8731df8e1b20"
      },
      "execution_count": null,
      "outputs": [
        {
          "output_type": "stream",
          "name": "stdout",
          "text": [
            "[4, 16, 1, 25, 9]\n"
          ]
        }
      ]
    },
    {
      "cell_type": "code",
      "source": [
        "\n",
        "# range() 함수를 이용해서 1 ~ 100 사이의 3의 배수만 리스트에 담아서 출력하시오.\n",
        "# 나머지 값을 확인 (연산자 - 나머지 연산자 %)\n",
        "# 조건처리 (제어구문)\n",
        "# if 조건문 or 데이터 :\n",
        "#   문장\n",
        "# else :\n",
        "#   문장\n",
        "\n",
        "result = []  #리스트에 담아서 출력하시오.\n",
        "\n",
        "for x in range(1,101) :\n",
        "  #print(x,end=\"\\t\")\n",
        "  if x % 3 == 0 :\n",
        "    result.append(x)\n",
        "print(result)\n",
        "\n",
        "\n",
        "#result = [ a % 3 == 0 for x in a]\n",
        "\n",
        "# 구문형식\n",
        "#[ 실행구문 for 변수 in 열거형객체 if 조건식 ]\n",
        "result = [ y for y in range(1,101) if y % 3 == 0]\n",
        "print(result)\n",
        "\n"
      ],
      "metadata": {
        "colab": {
          "base_uri": "https://localhost:8080/"
        },
        "id": "mreKv-rAavbT",
        "outputId": "bc8ff648-5a70-429d-c262-1ed7f4fb8daf"
      },
      "execution_count": null,
      "outputs": [
        {
          "output_type": "stream",
          "name": "stdout",
          "text": [
            "[3, 6, 9, 12, 15, 18, 21, 24, 27, 30, 33, 36, 39, 42, 45, 48, 51, 54, 57, 60, 63, 66, 69, 72, 75, 78, 81, 84, 87, 90, 93, 96, 99]\n",
            "[3, 6, 9, 12, 15, 18, 21, 24, 27, 30, 33, 36, 39, 42, 45, 48, 51, 54, 57, 60, 63, 66, 69, 72, 75, 78, 81, 84, 87, 90, 93, 96, 99]\n"
          ]
        }
      ]
    },
    {
      "cell_type": "code",
      "source": [
        "print ( 10 % 2 == 0 )\n",
        "# 나머지 계산"
      ],
      "metadata": {
        "colab": {
          "base_uri": "https://localhost:8080/"
        },
        "id": "iy1A9BPyavek",
        "outputId": "6dd6625d-5feb-4f4c-e85c-87545d3b8123"
      },
      "execution_count": null,
      "outputs": [
        {
          "output_type": "stream",
          "name": "stdout",
          "text": [
            "True\n"
          ]
        }
      ]
    },
    {
      "cell_type": "code",
      "source": [
        "# inner list\n",
        "# [ [ ] ]\n",
        "\n",
        "lst01 = ['a','b','c']\n",
        "lst02 = ['d', 'e', lst01]\n",
        "print(lst02)\n",
        "print(lst02[-1][1])\n"
      ],
      "metadata": {
        "colab": {
          "base_uri": "https://localhost:8080/"
        },
        "id": "axPpPqTIaviD",
        "outputId": "1f4810c6-c001-4bd6-ddb2-b5bd00ccc707"
      },
      "execution_count": null,
      "outputs": [
        {
          "output_type": "stream",
          "name": "stdout",
          "text": [
            "['d', 'e', ['a', 'b', 'c']]\n",
            "b\n"
          ]
        }
      ]
    },
    {
      "cell_type": "code",
      "source": [],
      "metadata": {
        "id": "lnJQeL4MtAMh"
      },
      "execution_count": null,
      "outputs": []
    },
    {
      "cell_type": "code",
      "source": [],
      "metadata": {
        "id": "m-kWkQPNtADP"
      },
      "execution_count": null,
      "outputs": []
    },
    {
      "cell_type": "code",
      "source": [],
      "metadata": {
        "id": "8s_WPbJftAAB"
      },
      "execution_count": null,
      "outputs": []
    },
    {
      "cell_type": "code",
      "source": [],
      "metadata": {
        "id": "ZYl5ohw1s_8v"
      },
      "execution_count": null,
      "outputs": []
    },
    {
      "cell_type": "code",
      "source": [],
      "metadata": {
        "id": "VDw7EgJMs_4Q"
      },
      "execution_count": null,
      "outputs": []
    },
    {
      "cell_type": "code",
      "source": [],
      "metadata": {
        "id": "M-vkFkC0s_pw"
      },
      "execution_count": null,
      "outputs": []
    },
    {
      "cell_type": "code",
      "source": [],
      "metadata": {
        "id": "WS2rbkYHavlG"
      },
      "execution_count": null,
      "outputs": []
    }
  ]
}
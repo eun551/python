{
  "nbformat": 4,
  "nbformat_minor": 0,
  "metadata": {
    "colab": {
      "provenance": [],
      "authorship_tag": "ABX9TyNzTc8QrurTFw6YHj6qJAjv",
      "include_colab_link": true
    },
    "kernelspec": {
      "name": "python3",
      "display_name": "Python 3"
    },
    "language_info": {
      "name": "python"
    }
  },
  "cells": [
    {
      "cell_type": "markdown",
      "metadata": {
        "id": "view-in-github",
        "colab_type": "text"
      },
      "source": [
        "<a href=\"https://colab.research.google.com/github/eun551/python/blob/main/siat_python_day01.ipynb\" target=\"_parent\"><img src=\"https://colab.research.google.com/assets/colab-badge.svg\" alt=\"Open In Colab\"/></a>"
      ]
    },
    {
      "cell_type": "code",
      "execution_count": null,
      "metadata": {
        "colab": {
          "base_uri": "https://localhost:8080/"
        },
        "id": "FmMHNLTYb4K3",
        "outputId": "5e80e9f8-a2b0-4cfa-adf6-bbfb8f01770b"
      },
      "outputs": [
        {
          "output_type": "stream",
          "name": "stdout",
          "text": [
            "당신의 이름은 =  young <class 'str'>\n",
            "당신의 나이는 =  20 <class 'int'>\n",
            "결혼여부 =  False <class 'bool'>\n"
          ]
        }
      ],
      "source": [
        "# 주석문 & 출력함수\n",
        "# 실행 : ctrl+enter\n",
        "# 실행 : alt+enter\n",
        "name = \"young\"\n",
        "print(\"당신의 이름은 = \",name, type(name))\n",
        "\n",
        "age = 20\n",
        "print(\"당신의 나이는 = \",age, type(age))\n",
        "\n",
        "isMarriage = False\n",
        "print(\"결혼여부 = \",isMarriage, type(isMarriage))"
      ]
    },
    {
      "cell_type": "code",
      "source": [
        "# python built_in Types\n",
        "\"\"\"\n",
        "- Numeric\n",
        "- Sequence\n",
        "- Text sequnece\n",
        "- Set\n",
        "- Mapping\n",
        "- Bool\n",
        "\"\"\"\n",
        "\n",
        "\n",
        "# 다양한 변수의 선언\n",
        "\"\"\"\n",
        "Camel Case-numberOfCollage\n",
        "Snake case-number_of_collage\n",
        "Pascal case-NumberOfCollage (class)\n",
        "\"\"\"\n",
        "\n",
        "\n",
        "#변수 선언법(숫자로 시작할 수 없고, 특수문자는 _  허용한다.)\n",
        "\n",
        "# 예약어()는 변수명 또는 함수명으로 사용 불가\n"
      ],
      "metadata": {
        "id": "TLKT9OqKqgHR"
      },
      "execution_count": null,
      "outputs": []
    },
    {
      "cell_type": "code",
      "source": [
        "#123_age = 123\n",
        "#person$name = \"young\"\n",
        "person_name = \"young\""
      ],
      "metadata": {
        "id": "oXTHxLGFprS_"
      },
      "execution_count": null,
      "outputs": []
    },
    {
      "cell_type": "code",
      "source": [
        "sec = 5000\n",
        "stockTotal = sec * 10\n",
        "print(stockTotal)"
      ],
      "metadata": {
        "colab": {
          "base_uri": "https://localhost:8080/"
        },
        "id": "5q6LzP353TUU",
        "outputId": "39e1e2f2-5851-4f29-e034-8558bfdabe23"
      },
      "execution_count": null,
      "outputs": [
        {
          "output_type": "stream",
          "name": "stdout",
          "text": [
            "50000\n"
          ]
        }
      ]
    },
    {
      "cell_type": "code",
      "source": [
        "# 문자열 변수\n",
        "str01 = \"siat\"\n",
        "str02 = \"python\"\n",
        "print(str01 + str02)\n",
        "print(str01 , str02 , sep=\"-\")\n",
        "print('010' , '1234' , '5678' , sep=\"-\") #문자열 정수\n",
        "print(\"young\" , \"naver.com\" , sep=\"@\")"
      ],
      "metadata": {
        "colab": {
          "base_uri": "https://localhost:8080/"
        },
        "id": "uHOjwYxA30uH",
        "outputId": "701e9e44-bbf5-4eb8-d210-3ddd53836a59"
      },
      "execution_count": null,
      "outputs": [
        {
          "output_type": "stream",
          "name": "stdout",
          "text": [
            "siatpython\n",
            "siat-python\n",
            "010-1234-5678\n",
            "young@naver.com\n"
          ]
        }
      ]
    },
    {
      "cell_type": "code",
      "source": [
        "import keyword  #import 가져오다, 수입하다\n",
        "print(keyword.kwlist) #kwlist를 포함하는 모듈이 keyword다.\n",
        "\n",
        "lst = keyword.kwlist\n",
        "print(\"type - \", type(lst))"
      ],
      "metadata": {
        "colab": {
          "base_uri": "https://localhost:8080/"
        },
        "id": "v5yxK-S85OA7",
        "outputId": "14a8fe72-ac21-4117-ae41-9f604813a288"
      },
      "execution_count": null,
      "outputs": [
        {
          "output_type": "stream",
          "name": "stdout",
          "text": [
            "['False', 'None', 'True', 'and', 'as', 'assert', 'async', 'await', 'break', 'class', 'continue', 'def', 'del', 'elif', 'else', 'except', 'finally', 'for', 'from', 'global', 'if', 'import', 'in', 'is', 'lambda', 'nonlocal', 'not', 'or', 'pass', 'raise', 'return', 'try', 'while', 'with', 'yield']\n",
            "type -  <class 'list'>\n"
          ]
        }
      ]
    },
    {
      "cell_type": "code",
      "source": [
        "# Sequence - list type\n",
        "# indexing, slicing\n",
        "# [], [ first idx : last idx - 1 ]\n",
        "print(\"indexing - \" , lst[4])\n",
        "print(\"indexing - \" , lst[0:5])"
      ],
      "metadata": {
        "colab": {
          "base_uri": "https://localhost:8080/"
        },
        "id": "0WsleDQmPpMr",
        "outputId": "ded20277-76ba-4f8e-b590-1216fcc394e1"
      },
      "execution_count": null,
      "outputs": [
        {
          "output_type": "stream",
          "name": "stdout",
          "text": [
            "indexing -  as\n",
            "indexing -  ['False', 'None', 'True', 'and', 'as']\n"
          ]
        }
      ]
    },
    {
      "cell_type": "code",
      "source": [
        "# Mapping (key, value) 인덱스 불가능하다.\n",
        "# dict\n",
        "# { }\n",
        "siatDict = {\n",
        "    \"name\" : \"python\" ,\n",
        "    \"version\" : 2.0\n",
        "}\n",
        "print('dict type - ' , type(siatDict))\n",
        "print('data - ' , siatDict)\n",
        "print('data -' , siatDict['name'])\n",
        "print('data -' , siatDict['version'])"
      ],
      "metadata": {
        "colab": {
          "base_uri": "https://localhost:8080/"
        },
        "id": "8_g9CaN0PqJY",
        "outputId": "43d77161-c8dd-4118-9364-18a9ec241c1a"
      },
      "execution_count": null,
      "outputs": [
        {
          "output_type": "stream",
          "name": "stdout",
          "text": [
            "dict type -  <class 'dict'>\n",
            "data -  {'name': 'python', 'version': 2.0}\n",
            "data - python\n",
            "data - 2.0\n"
          ]
        }
      ]
    },
    {
      "cell_type": "code",
      "source": [
        "# Sequence - tuple type\n",
        "# ()\n",
        "siatTuple = (3, 1, 8, 7, 10)  # 요소가 하나일경우에는 int로 본다.\n",
        "print('tuple type - ', type(siatTuple))\n",
        "print('data - ', siatTuple)\n",
        "print('data - ' , siatTuple[0])\n",
        "print('slicing - ' , siatTuple[0:3])"
      ],
      "metadata": {
        "colab": {
          "base_uri": "https://localhost:8080/"
        },
        "id": "crAJdFypdSWt",
        "outputId": "e8e5fa2f-57e4-409d-fe66-761234b71706"
      },
      "execution_count": null,
      "outputs": [
        {
          "output_type": "stream",
          "name": "stdout",
          "text": [
            "tuple type -  <class 'tuple'>\n",
            "data -  (3, 1, 8, 7, 10)\n",
            "data -  3\n",
            "slicing -  (3, 1, 8)\n"
          ]
        }
      ]
    },
    {
      "cell_type": "code",
      "source": [
        "# Text Sequence - String type\n",
        "siatTxt = 'Talk is cheap. show me the code'\n",
        "print(siatTxt)\n",
        "print(siatTxt , type(siatTxt))\n",
        "\n",
        "# Quize\n",
        "# 마지막 문자를 추출하여 출력하시오\n",
        "print('index - ', siatTxt[30:31])\n",
        "print('index - ', siatTxt[-1])\n",
        "\n",
        "print('minus slicing - ', siatTxt[-4 : ])\n",
        "\n",
        "txtLst = siatTxt.split()\n",
        "print('data - ', txtLst)\n",
        "print('data - ', txtLst[-1])\n",
        "\n",
        "\n",
        "# len()\n",
        "print('length - ' , len(siatTxt))\n",
        "print('length - ', len(txtLst))"
      ],
      "metadata": {
        "colab": {
          "base_uri": "https://localhost:8080/"
        },
        "id": "EKHh3--3ffZ3",
        "outputId": "cd1fe6cc-a924-4d32-ca9e-282fe32552ca"
      },
      "execution_count": null,
      "outputs": [
        {
          "output_type": "stream",
          "name": "stdout",
          "text": [
            "Talk is cheap. show me the code\n",
            "Talk is cheap. show me the code <class 'str'>\n",
            "index -  e\n",
            "index -  e\n",
            "minus slicing -  code\n",
            "data -  ['Talk', 'is', 'cheap.', 'show', 'me', 'the', 'code']\n",
            "data -  code\n",
            "length -  31\n",
            "length -  7\n"
          ]
        }
      ]
    },
    {
      "cell_type": "code",
      "source": [
        "# [ first idx : last idx - 1 : step]\n",
        "# 홀만 출력한다면?\n",
        "exStr = \"홀짝홀짝홀짝홀짝홀짝홀짝홀짝홀짝\"\n",
        "print('홀 - ' , exStr[0:16:2])\n",
        "print('홀 - ' , exStr[::2])\n",
        "# 짝만 출력한다면?\n",
        "print('짝 - ' ,exStr[1:16:2])\n",
        "print('짝 - ' , exStr[1::2])"
      ],
      "metadata": {
        "colab": {
          "base_uri": "https://localhost:8080/"
        },
        "id": "AV9wTqptj7RI",
        "outputId": "10a12f68-f628-4426-b05d-34184c8ebb22"
      },
      "execution_count": null,
      "outputs": [
        {
          "output_type": "stream",
          "name": "stdout",
          "text": [
            "홀 -  홀홀홀홀홀홀홀홀\n",
            "홀 -  홀홀홀홀홀홀홀홀\n",
            "짝 -  짝짝짝짝짝짝짝짝\n",
            "짝 -  짝짝짝짝짝짝짝짝\n"
          ]
        }
      ]
    },
    {
      "cell_type": "code",
      "source": [
        "# prompt: # [ first idx : last idx - 1 : step]\n",
        "# # 홀만 출력한다면?\n",
        "# exStr = \"홀짝홀짝홀짝홀짝홀짝홀짝홀짝홀짝\"\n",
        "\n",
        "# [ first idx : last idx - 1 : step]\n",
        "# 홀만 출력한다면?\n",
        "exStr = \"홀짝홀짝홀짝홀짝홀짝홀짝홀짝홀짝\"\n",
        "print('홀 - ' , exStr[::2])\n",
        "# 짝만 출력한다면?\n",
        "print('짝 - ' ,exStr[1::2])"
      ],
      "metadata": {
        "id": "n49xrFQasC3q",
        "colab": {
          "base_uri": "https://localhost:8080/"
        },
        "outputId": "ef1055e4-725f-49bc-d4d2-5bec38465662"
      },
      "execution_count": null,
      "outputs": [
        {
          "output_type": "stream",
          "name": "stdout",
          "text": [
            "홀 -  홀홀홀홀홀홀홀홀\n",
            "짝 -  짝짝짝짝짝짝짝짝\n"
          ]
        }
      ]
    },
    {
      "cell_type": "code",
      "source": [
        "siatTuple = (3) # 요소가 하나일경우에는 int로 본다.\n",
        "print('type - ', type(siatTuple))"
      ],
      "metadata": {
        "id": "bTSjSfrpTS1D",
        "colab": {
          "base_uri": "https://localhost:8080/"
        },
        "outputId": "ab44ff50-b9ba-449a-f3ce-812583a40fd7"
      },
      "execution_count": null,
      "outputs": [
        {
          "output_type": "stream",
          "name": "stdout",
          "text": [
            "type -  <class 'int'>\n"
          ]
        }
      ]
    },
    {
      "cell_type": "code",
      "source": [
        "a,b=map(int,input('문자열 입력 : ').split('a'))\n",
        "print(a,b)\n"
      ],
      "metadata": {
        "id": "N7Y7AY_4T7Jr",
        "colab": {
          "base_uri": "https://localhost:8080/"
        },
        "outputId": "c69bd062-4e3f-407b-bc6c-46d22987302a"
      },
      "execution_count": null,
      "outputs": [
        {
          "output_type": "stream",
          "name": "stdout",
          "text": [
            "문자열 입력 : 12a34\n",
            "12 34\n"
          ]
        }
      ]
    }
  ]
}